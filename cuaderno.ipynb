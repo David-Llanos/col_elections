{
 "cells": [
  {
   "cell_type": "markdown",
   "metadata": {},
   "source": [
    "# 2022"
   ]
  },
  {
   "cell_type": "code",
   "execution_count": 92,
   "metadata": {},
   "outputs": [
    {
     "data": {
      "text/html": [
       "<div>\n",
       "<style scoped>\n",
       "    .dataframe tbody tr th:only-of-type {\n",
       "        vertical-align: middle;\n",
       "    }\n",
       "\n",
       "    .dataframe tbody tr th {\n",
       "        vertical-align: top;\n",
       "    }\n",
       "\n",
       "    .dataframe thead th {\n",
       "        text-align: right;\n",
       "    }\n",
       "</style>\n",
       "<table border=\"1\" class=\"dataframe\">\n",
       "  <thead>\n",
       "    <tr style=\"text-align: right;\">\n",
       "      <th></th>\n",
       "      <th>annoh</th>\n",
       "      <th>corp</th>\n",
       "      <th>eleccion</th>\n",
       "      <th>codcirc</th>\n",
       "      <th>nomdepto</th>\n",
       "      <th>coddepto</th>\n",
       "      <th>nommun</th>\n",
       "      <th>codmpio</th>\n",
       "      <th>zona</th>\n",
       "      <th>nompuesto</th>\n",
       "      <th>puesto</th>\n",
       "      <th>nomparti</th>\n",
       "      <th>codparti</th>\n",
       "      <th>nomcandi</th>\n",
       "      <th>codcandi</th>\n",
       "      <th>votos</th>\n",
       "      <th>censo</th>\n",
       "      <th>rcd___id</th>\n",
       "    </tr>\n",
       "  </thead>\n",
       "  <tbody>\n",
       "    <tr>\n",
       "      <th>0</th>\n",
       "      <td>2019</td>\n",
       "      <td>3</td>\n",
       "      <td>AlcaldÃ­a</td>\n",
       "      <td>2</td>\n",
       "      <td>ANTIOQUIA</td>\n",
       "      <td>1</td>\n",
       "      <td>MEDELLIN</td>\n",
       "      <td>1</td>\n",
       "      <td>Urbano</td>\n",
       "      <td>SEC. ESC. LA ESPERANZA NO 2</td>\n",
       "      <td>1.0</td>\n",
       "      <td>PARTIDO ALIANZA VERDE</td>\n",
       "      <td>4</td>\n",
       "      <td>BEATRIZ RAVE</td>\n",
       "      <td>10</td>\n",
       "      <td>13753</td>\n",
       "      <td>12131</td>\n",
       "      <td>77aslc2o</td>\n",
       "    </tr>\n",
       "    <tr>\n",
       "      <th>1</th>\n",
       "      <td>2019</td>\n",
       "      <td>3</td>\n",
       "      <td>AlcaldÃ­a</td>\n",
       "      <td>2</td>\n",
       "      <td>ANTIOQUIA</td>\n",
       "      <td>1</td>\n",
       "      <td>MEDELLIN</td>\n",
       "      <td>1</td>\n",
       "      <td>Urbano</td>\n",
       "      <td>SEC. ESC. LA ESPERANZA NO 2</td>\n",
       "      <td>1.0</td>\n",
       "      <td>PARTIDO POLO DEMOCRÃTICO ALTERNATIVO</td>\n",
       "      <td>9</td>\n",
       "      <td>VICTOR JAVIER CORREA VELEZ</td>\n",
       "      <td>11</td>\n",
       "      <td>9670</td>\n",
       "      <td>12131</td>\n",
       "      <td>g1776deq</td>\n",
       "    </tr>\n",
       "  </tbody>\n",
       "</table>\n",
       "</div>"
      ],
      "text/plain": [
       "   annoh  corp   eleccion  codcirc   nomdepto  coddepto    nommun  codmpio  \\\n",
       "0   2019     3  AlcaldÃ­a        2  ANTIOQUIA         1  MEDELLIN        1   \n",
       "1   2019     3  AlcaldÃ­a        2  ANTIOQUIA         1  MEDELLIN        1   \n",
       "\n",
       "     zona                    nompuesto  puesto  \\\n",
       "0  Urbano  SEC. ESC. LA ESPERANZA NO 2     1.0   \n",
       "1  Urbano  SEC. ESC. LA ESPERANZA NO 2     1.0   \n",
       "\n",
       "                                nomparti  codparti  \\\n",
       "0                  PARTIDO ALIANZA VERDE         4   \n",
       "1  PARTIDO POLO DEMOCRÃTICO ALTERNATIVO         9   \n",
       "\n",
       "                     nomcandi  codcandi  votos  censo  rcd___id  \n",
       "0                BEATRIZ RAVE        10  13753  12131  77aslc2o  \n",
       "1  VICTOR JAVIER CORREA VELEZ        11   9670  12131  g1776deq  "
      ]
     },
     "execution_count": 92,
     "metadata": {},
     "output_type": "execute_result"
    }
   ],
   "source": [
    "import pandas as pd \n",
    "d22=pd.read_csv('data/elecciones_2022.csv', encoding='latin1')#cp1252, ISO-8859-1\n",
    "d22.head(2)"
   ]
  },
  {
   "cell_type": "markdown",
   "metadata": {},
   "source": [
    "## Limpiar caracteres que no son alfanumericos en varias columnas"
   ]
  },
  {
   "cell_type": "code",
   "execution_count": 100,
   "metadata": {},
   "outputs": [
    {
     "data": {
      "text/plain": [
       "annoh  eleccion             \n",
       "2007   Alcalda                   7890\n",
       "       AsambleaDepartamental    13499\n",
       "dtype: int64"
      ]
     },
     "execution_count": 100,
     "metadata": {},
     "output_type": "execute_result"
    }
   ],
   "source": [
    "columns_to_clean=['eleccion','nomdepto','nommun','nompuesto','nomparti','nomcandi']\n",
    "for column in columns_to_clean:\n",
    "    d22[column] = d22[column].str.replace('[^a-zA-Z0-9]', '', regex=True)\n",
    "\n",
    "d22.groupby(by=['annoh', 'eleccion']).size()[0:2]"
   ]
  },
  {
   "cell_type": "markdown",
   "metadata": {},
   "source": [
    "## Agregar por partido"
   ]
  },
  {
   "cell_type": "code",
   "execution_count": 27,
   "metadata": {},
   "outputs": [
    {
     "data": {
      "text/html": [
       "<div>\n",
       "<style scoped>\n",
       "    .dataframe tbody tr th:only-of-type {\n",
       "        vertical-align: middle;\n",
       "    }\n",
       "\n",
       "    .dataframe tbody tr th {\n",
       "        vertical-align: top;\n",
       "    }\n",
       "\n",
       "    .dataframe thead th {\n",
       "        text-align: right;\n",
       "    }\n",
       "</style>\n",
       "<table border=\"1\" class=\"dataframe\">\n",
       "  <thead>\n",
       "    <tr style=\"text-align: right;\">\n",
       "      <th></th>\n",
       "      <th>anio</th>\n",
       "      <th>elec</th>\n",
       "      <th>partido</th>\n",
       "      <th>votos</th>\n",
       "      <th>censo</th>\n",
       "    </tr>\n",
       "  </thead>\n",
       "  <tbody>\n",
       "    <tr>\n",
       "      <th>0</th>\n",
       "      <td>2007</td>\n",
       "      <td>Alcalda</td>\n",
       "      <td>ABEJORRALVUELVEACREER</td>\n",
       "      <td>2920</td>\n",
       "      <td>12007</td>\n",
       "    </tr>\n",
       "    <tr>\n",
       "      <th>1</th>\n",
       "      <td>2007</td>\n",
       "      <td>Alcalda</td>\n",
       "      <td>ACCINCIUDADANAPORVILLADELEYVA</td>\n",
       "      <td>3129</td>\n",
       "      <td>7160</td>\n",
       "    </tr>\n",
       "    <tr>\n",
       "      <th>2</th>\n",
       "      <td>2007</td>\n",
       "      <td>Alcalda</td>\n",
       "      <td>ACCINCONELCARMEN</td>\n",
       "      <td>2295</td>\n",
       "      <td>4473</td>\n",
       "    </tr>\n",
       "    <tr>\n",
       "      <th>3</th>\n",
       "      <td>2007</td>\n",
       "      <td>Alcalda</td>\n",
       "      <td>ADELANTEOIBA</td>\n",
       "      <td>3672</td>\n",
       "      <td>7286</td>\n",
       "    </tr>\n",
       "    <tr>\n",
       "      <th>4</th>\n",
       "      <td>2007</td>\n",
       "      <td>Alcalda</td>\n",
       "      <td>ADELANTEVALLEDUPAR</td>\n",
       "      <td>32779</td>\n",
       "      <td>14786</td>\n",
       "    </tr>\n",
       "    <tr>\n",
       "      <th>...</th>\n",
       "      <td>...</td>\n",
       "      <td>...</td>\n",
       "      <td>...</td>\n",
       "      <td>...</td>\n",
       "      <td>...</td>\n",
       "    </tr>\n",
       "    <tr>\n",
       "      <th>3996</th>\n",
       "      <td>2022</td>\n",
       "      <td>SenadoNacional</td>\n",
       "      <td>PARTIDOLIBERALCOLOMBIANO</td>\n",
       "      <td>2112528</td>\n",
       "      <td>7889172</td>\n",
       "    </tr>\n",
       "    <tr>\n",
       "      <th>3997</th>\n",
       "      <td>2022</td>\n",
       "      <td>SenadoNacional</td>\n",
       "      <td>PARTIDONUEVOLIBERALISMO</td>\n",
       "      <td>368345</td>\n",
       "      <td>7699439</td>\n",
       "    </tr>\n",
       "    <tr>\n",
       "      <th>3998</th>\n",
       "      <td>2022</td>\n",
       "      <td>SenadoNacional</td>\n",
       "      <td>TarjetonesNoMarcados</td>\n",
       "      <td>530581</td>\n",
       "      <td>7884781</td>\n",
       "    </tr>\n",
       "    <tr>\n",
       "      <th>3999</th>\n",
       "      <td>2022</td>\n",
       "      <td>SenadoNacional</td>\n",
       "      <td>Votosenblanco</td>\n",
       "      <td>1072401</td>\n",
       "      <td>7888993</td>\n",
       "    </tr>\n",
       "    <tr>\n",
       "      <th>4000</th>\n",
       "      <td>2022</td>\n",
       "      <td>SenadoNacional</td>\n",
       "      <td>Votosnulos</td>\n",
       "      <td>740139</td>\n",
       "      <td>7882873</td>\n",
       "    </tr>\n",
       "  </tbody>\n",
       "</table>\n",
       "<p>4001 rows × 5 columns</p>\n",
       "</div>"
      ],
      "text/plain": [
       "      anio            elec                        partido    votos    censo\n",
       "0     2007         Alcalda          ABEJORRALVUELVEACREER     2920    12007\n",
       "1     2007         Alcalda  ACCINCIUDADANAPORVILLADELEYVA     3129     7160\n",
       "2     2007         Alcalda               ACCINCONELCARMEN     2295     4473\n",
       "3     2007         Alcalda                   ADELANTEOIBA     3672     7286\n",
       "4     2007         Alcalda             ADELANTEVALLEDUPAR    32779    14786\n",
       "...    ...             ...                            ...      ...      ...\n",
       "3996  2022  SenadoNacional       PARTIDOLIBERALCOLOMBIANO  2112528  7889172\n",
       "3997  2022  SenadoNacional        PARTIDONUEVOLIBERALISMO   368345  7699439\n",
       "3998  2022  SenadoNacional           TarjetonesNoMarcados   530581  7884781\n",
       "3999  2022  SenadoNacional                  Votosenblanco  1072401  7888993\n",
       "4000  2022  SenadoNacional                     Votosnulos   740139  7882873\n",
       "\n",
       "[4001 rows x 5 columns]"
      ]
     },
     "execution_count": 27,
     "metadata": {},
     "output_type": "execute_result"
    }
   ],
   "source": [
    "# d22.groupby(by=['annoh','eleccion','nompartido'], dropna=False).sum()\n",
    "\n",
    "ag = (d22.groupby(['annoh','eleccion','nomparti'], as_index=False)\n",
    "         .agg({'votos':'sum','censo':'sum'})\n",
    "         .rename(columns={'annoh':'anio', 'eleccion':'elec','nomparti':'partido'}))\n",
    "ag"
   ]
  },
  {
   "cell_type": "code",
   "execution_count": 30,
   "metadata": {},
   "outputs": [
    {
     "data": {
      "text/html": [
       "<div>\n",
       "<style scoped>\n",
       "    .dataframe tbody tr th:only-of-type {\n",
       "        vertical-align: middle;\n",
       "    }\n",
       "\n",
       "    .dataframe tbody tr th {\n",
       "        vertical-align: top;\n",
       "    }\n",
       "\n",
       "    .dataframe thead th {\n",
       "        text-align: right;\n",
       "    }\n",
       "</style>\n",
       "<table border=\"1\" class=\"dataframe\">\n",
       "  <thead>\n",
       "    <tr style=\"text-align: right;\">\n",
       "      <th></th>\n",
       "      <th>anio</th>\n",
       "      <th>elec</th>\n",
       "      <th>partido</th>\n",
       "      <th>dpto</th>\n",
       "      <th>mun</th>\n",
       "      <th>votos</th>\n",
       "      <th>censo</th>\n",
       "    </tr>\n",
       "  </thead>\n",
       "  <tbody>\n",
       "    <tr>\n",
       "      <th>0</th>\n",
       "      <td>2007</td>\n",
       "      <td>Alcalda</td>\n",
       "      <td>ABEJORRALVUELVEACREER</td>\n",
       "      <td>ANTIOQUIA</td>\n",
       "      <td>ABEJORRAL</td>\n",
       "      <td>2920</td>\n",
       "      <td>12007</td>\n",
       "    </tr>\n",
       "    <tr>\n",
       "      <th>1</th>\n",
       "      <td>2007</td>\n",
       "      <td>Alcalda</td>\n",
       "      <td>ACCINCIUDADANAPORVILLADELEYVA</td>\n",
       "      <td>BOYACA</td>\n",
       "      <td>VILLADELEIVA</td>\n",
       "      <td>3129</td>\n",
       "      <td>7160</td>\n",
       "    </tr>\n",
       "    <tr>\n",
       "      <th>2</th>\n",
       "      <td>2007</td>\n",
       "      <td>Alcalda</td>\n",
       "      <td>ACCINCONELCARMEN</td>\n",
       "      <td>ANTIOQUIA</td>\n",
       "      <td>CARMENDEVIBORAL</td>\n",
       "      <td>2295</td>\n",
       "      <td>4473</td>\n",
       "    </tr>\n",
       "    <tr>\n",
       "      <th>3</th>\n",
       "      <td>2007</td>\n",
       "      <td>Alcalda</td>\n",
       "      <td>ADELANTEOIBA</td>\n",
       "      <td>SANTANDER</td>\n",
       "      <td>OIBA</td>\n",
       "      <td>3672</td>\n",
       "      <td>7286</td>\n",
       "    </tr>\n",
       "    <tr>\n",
       "      <th>4</th>\n",
       "      <td>2007</td>\n",
       "      <td>Alcalda</td>\n",
       "      <td>ADELANTEVALLEDUPAR</td>\n",
       "      <td>CESAR</td>\n",
       "      <td>VALLEDUPAR</td>\n",
       "      <td>32779</td>\n",
       "      <td>14786</td>\n",
       "    </tr>\n",
       "    <tr>\n",
       "      <th>...</th>\n",
       "      <td>...</td>\n",
       "      <td>...</td>\n",
       "      <td>...</td>\n",
       "      <td>...</td>\n",
       "      <td>...</td>\n",
       "      <td>...</td>\n",
       "      <td>...</td>\n",
       "    </tr>\n",
       "    <tr>\n",
       "      <th>495700</th>\n",
       "      <td>2022</td>\n",
       "      <td>SenadoNacional</td>\n",
       "      <td>Votosnulos</td>\n",
       "      <td>VAUPES</td>\n",
       "      <td>YAVARATE</td>\n",
       "      <td>11</td>\n",
       "      <td>293</td>\n",
       "    </tr>\n",
       "    <tr>\n",
       "      <th>495701</th>\n",
       "      <td>2022</td>\n",
       "      <td>SenadoNacional</td>\n",
       "      <td>Votosnulos</td>\n",
       "      <td>VICHADA</td>\n",
       "      <td>CUMARIBO</td>\n",
       "      <td>348</td>\n",
       "      <td>7643</td>\n",
       "    </tr>\n",
       "    <tr>\n",
       "      <th>495702</th>\n",
       "      <td>2022</td>\n",
       "      <td>SenadoNacional</td>\n",
       "      <td>Votosnulos</td>\n",
       "      <td>VICHADA</td>\n",
       "      <td>LAPRIMAVERA</td>\n",
       "      <td>100</td>\n",
       "      <td>5213</td>\n",
       "    </tr>\n",
       "    <tr>\n",
       "      <th>495703</th>\n",
       "      <td>2022</td>\n",
       "      <td>SenadoNacional</td>\n",
       "      <td>Votosnulos</td>\n",
       "      <td>VICHADA</td>\n",
       "      <td>PUERTOCARRENO</td>\n",
       "      <td>323</td>\n",
       "      <td>17359</td>\n",
       "    </tr>\n",
       "    <tr>\n",
       "      <th>495704</th>\n",
       "      <td>2022</td>\n",
       "      <td>SenadoNacional</td>\n",
       "      <td>Votosnulos</td>\n",
       "      <td>VICHADA</td>\n",
       "      <td>SANTAROSALIA</td>\n",
       "      <td>33</td>\n",
       "      <td>2828</td>\n",
       "    </tr>\n",
       "  </tbody>\n",
       "</table>\n",
       "<p>495705 rows × 7 columns</p>\n",
       "</div>"
      ],
      "text/plain": [
       "        anio            elec                        partido       dpto  \\\n",
       "0       2007         Alcalda          ABEJORRALVUELVEACREER  ANTIOQUIA   \n",
       "1       2007         Alcalda  ACCINCIUDADANAPORVILLADELEYVA     BOYACA   \n",
       "2       2007         Alcalda               ACCINCONELCARMEN  ANTIOQUIA   \n",
       "3       2007         Alcalda                   ADELANTEOIBA  SANTANDER   \n",
       "4       2007         Alcalda             ADELANTEVALLEDUPAR      CESAR   \n",
       "...      ...             ...                            ...        ...   \n",
       "495700  2022  SenadoNacional                     Votosnulos     VAUPES   \n",
       "495701  2022  SenadoNacional                     Votosnulos    VICHADA   \n",
       "495702  2022  SenadoNacional                     Votosnulos    VICHADA   \n",
       "495703  2022  SenadoNacional                     Votosnulos    VICHADA   \n",
       "495704  2022  SenadoNacional                     Votosnulos    VICHADA   \n",
       "\n",
       "                    mun  votos  censo  \n",
       "0             ABEJORRAL   2920  12007  \n",
       "1          VILLADELEIVA   3129   7160  \n",
       "2       CARMENDEVIBORAL   2295   4473  \n",
       "3                  OIBA   3672   7286  \n",
       "4            VALLEDUPAR  32779  14786  \n",
       "...                 ...    ...    ...  \n",
       "495700         YAVARATE     11    293  \n",
       "495701         CUMARIBO    348   7643  \n",
       "495702      LAPRIMAVERA    100   5213  \n",
       "495703    PUERTOCARRENO    323  17359  \n",
       "495704     SANTAROSALIA     33   2828  \n",
       "\n",
       "[495705 rows x 7 columns]"
      ]
     },
     "execution_count": 30,
     "metadata": {},
     "output_type": "execute_result"
    }
   ],
   "source": [
    "ag2 = (d22.groupby(['annoh','eleccion','nomparti','nomdepto','nommun'], as_index=False)\n",
    "         .agg({'votos':'sum','censo':'sum'})\n",
    "         .rename(columns={'annoh':'anio', 'eleccion':'elec','nomparti':'partido',\n",
    "                          'nomdepto':'dpto','nommun':'mun'}))\n",
    "ag2"
   ]
  },
  {
   "cell_type": "code",
   "execution_count": 31,
   "metadata": {},
   "outputs": [],
   "source": [
    "ag2.to_csv('agregados/resultados_por_anio_eleccion_partido_dpto_mun.csv', index=False)"
   ]
  },
  {
   "cell_type": "code",
   "execution_count": 32,
   "metadata": {},
   "outputs": [
    {
     "data": {
      "text/plain": [
       "(495705, 7)"
      ]
     },
     "execution_count": 32,
     "metadata": {},
     "output_type": "execute_result"
    }
   ],
   "source": [
    "ag2.shape"
   ]
  },
  {
   "cell_type": "code",
   "execution_count": 37,
   "metadata": {},
   "outputs": [
    {
     "name": "stdout",
     "output_type": "stream",
     "text": [
      "2.7.1\n"
     ]
    }
   ],
   "source": [
    "import dash \n",
    "print(dash.__version__)"
   ]
  },
  {
   "cell_type": "markdown",
   "metadata": {},
   "source": [
    "# 1.Presidencia"
   ]
  },
  {
   "cell_type": "markdown",
   "metadata": {},
   "source": [
    "## a. Por anio, partido, candidato"
   ]
  },
  {
   "cell_type": "code",
   "execution_count": 38,
   "metadata": {},
   "outputs": [
    {
     "data": {
      "text/plain": [
       "SenadoNacional           74485\n",
       "CmaraNegritudes          71420\n",
       "CmaraTerritorial         56416\n",
       "AsambleaDepartamental    56331\n",
       "Presidencia1eravuelta    48234\n",
       "Concejo                  46585\n",
       "Gobernacin               33373\n",
       "Alcalda                  31641\n",
       "SenadoIndgena            26914\n",
       "Presidencia2davuelta     23306\n",
       "CmaraIndgena             19101\n",
       "Plebiscitoporlapaz        4732\n",
       "CmaraCITREP               2742\n",
       "ConsultaAnticorrupcin     1191\n",
       "Name: eleccion, dtype: int64"
      ]
     },
     "execution_count": 38,
     "metadata": {},
     "output_type": "execute_result"
    }
   ],
   "source": [
    "d22.eleccion.value_counts()"
   ]
  },
  {
   "cell_type": "code",
   "execution_count": 39,
   "metadata": {},
   "outputs": [
    {
     "data": {
      "text/html": [
       "<div>\n",
       "<style scoped>\n",
       "    .dataframe tbody tr th:only-of-type {\n",
       "        vertical-align: middle;\n",
       "    }\n",
       "\n",
       "    .dataframe tbody tr th {\n",
       "        vertical-align: top;\n",
       "    }\n",
       "\n",
       "    .dataframe thead th {\n",
       "        text-align: right;\n",
       "    }\n",
       "</style>\n",
       "<table border=\"1\" class=\"dataframe\">\n",
       "  <thead>\n",
       "    <tr style=\"text-align: right;\">\n",
       "      <th></th>\n",
       "      <th>annoh</th>\n",
       "      <th>corp</th>\n",
       "      <th>eleccion</th>\n",
       "      <th>codcirc</th>\n",
       "      <th>nomdepto</th>\n",
       "      <th>coddepto</th>\n",
       "      <th>nommun</th>\n",
       "      <th>codmpio</th>\n",
       "      <th>zona</th>\n",
       "      <th>nompuesto</th>\n",
       "      <th>puesto</th>\n",
       "      <th>nomparti</th>\n",
       "      <th>codparti</th>\n",
       "      <th>nomcandi</th>\n",
       "      <th>codcandi</th>\n",
       "      <th>votos</th>\n",
       "      <th>censo</th>\n",
       "      <th>rcd___id</th>\n",
       "      <th>elec</th>\n",
       "    </tr>\n",
       "  </thead>\n",
       "  <tbody>\n",
       "    <tr>\n",
       "      <th>225689</th>\n",
       "      <td>2010</td>\n",
       "      <td>12</td>\n",
       "      <td>Presidencia1eravuelta</td>\n",
       "      <td>0</td>\n",
       "      <td>ANTIOQUIA</td>\n",
       "      <td>1</td>\n",
       "      <td>MEDELLIN</td>\n",
       "      <td>1</td>\n",
       "      <td>Urbano</td>\n",
       "      <td>SECESCLAESPERAZANo2</td>\n",
       "      <td>1.0</td>\n",
       "      <td>ALIANZASOCIALAFROCOLOMBIANAASA</td>\n",
       "      <td>1</td>\n",
       "      <td>JAIMEARAUJORENTERA</td>\n",
       "      <td>1</td>\n",
       "      <td>486</td>\n",
       "      <td>8704</td>\n",
       "      <td>rnp7di8d</td>\n",
       "      <td>Presidencia 1era vuelta</td>\n",
       "    </tr>\n",
       "    <tr>\n",
       "      <th>225690</th>\n",
       "      <td>2010</td>\n",
       "      <td>12</td>\n",
       "      <td>Presidencia1eravuelta</td>\n",
       "      <td>0</td>\n",
       "      <td>ANTIOQUIA</td>\n",
       "      <td>1</td>\n",
       "      <td>MEDELLIN</td>\n",
       "      <td>1</td>\n",
       "      <td>Urbano</td>\n",
       "      <td>SECESCLAESPERAZANo2</td>\n",
       "      <td>1.0</td>\n",
       "      <td>MOVIMIENTOLAVOZDELACONSCIENCIA</td>\n",
       "      <td>2</td>\n",
       "      <td>ROBINSONDEVIAGONZALEZ</td>\n",
       "      <td>2</td>\n",
       "      <td>1703</td>\n",
       "      <td>8704</td>\n",
       "      <td>1d32chab</td>\n",
       "      <td>Presidencia 1era vuelta</td>\n",
       "    </tr>\n",
       "  </tbody>\n",
       "</table>\n",
       "</div>"
      ],
      "text/plain": [
       "        annoh  corp               eleccion  codcirc   nomdepto  coddepto  \\\n",
       "225689   2010    12  Presidencia1eravuelta        0  ANTIOQUIA         1   \n",
       "225690   2010    12  Presidencia1eravuelta        0  ANTIOQUIA         1   \n",
       "\n",
       "          nommun  codmpio    zona            nompuesto  puesto  \\\n",
       "225689  MEDELLIN        1  Urbano  SECESCLAESPERAZANo2     1.0   \n",
       "225690  MEDELLIN        1  Urbano  SECESCLAESPERAZANo2     1.0   \n",
       "\n",
       "                              nomparti  codparti               nomcandi  \\\n",
       "225689  ALIANZASOCIALAFROCOLOMBIANAASA         1     JAIMEARAUJORENTERA   \n",
       "225690  MOVIMIENTOLAVOZDELACONSCIENCIA         2  ROBINSONDEVIAGONZALEZ   \n",
       "\n",
       "        codcandi  votos  censo  rcd___id                     elec  \n",
       "225689         1    486   8704  rnp7di8d  Presidencia 1era vuelta  \n",
       "225690         2   1703   8704  1d32chab  Presidencia 1era vuelta  "
      ]
     },
     "execution_count": 39,
     "metadata": {},
     "output_type": "execute_result"
    }
   ],
   "source": [
    "pr=d22.loc[(d22.eleccion=='Presidencia1eravuelta') | (d22.eleccion=='Presidencia2davuelta') ]\n",
    "pr.head(2)"
   ]
  },
  {
   "cell_type": "code",
   "execution_count": 40,
   "metadata": {},
   "outputs": [
    {
     "data": {
      "text/html": [
       "<div>\n",
       "<style scoped>\n",
       "    .dataframe tbody tr th:only-of-type {\n",
       "        vertical-align: middle;\n",
       "    }\n",
       "\n",
       "    .dataframe tbody tr th {\n",
       "        vertical-align: top;\n",
       "    }\n",
       "\n",
       "    .dataframe thead th {\n",
       "        text-align: right;\n",
       "    }\n",
       "</style>\n",
       "<table border=\"1\" class=\"dataframe\">\n",
       "  <thead>\n",
       "    <tr style=\"text-align: right;\">\n",
       "      <th></th>\n",
       "      <th>anio</th>\n",
       "      <th>elec</th>\n",
       "      <th>partido</th>\n",
       "      <th>nomcandi</th>\n",
       "      <th>votos</th>\n",
       "      <th>censo</th>\n",
       "    </tr>\n",
       "  </thead>\n",
       "  <tbody>\n",
       "    <tr>\n",
       "      <th>0</th>\n",
       "      <td>2010</td>\n",
       "      <td>Presidencia1eravuelta</td>\n",
       "      <td>ALIANZASOCIALAFROCOLOMBIANAASA</td>\n",
       "      <td>JAIMEARAUJORENTERA</td>\n",
       "      <td>14847</td>\n",
       "      <td>6848387</td>\n",
       "    </tr>\n",
       "    <tr>\n",
       "      <th>1</th>\n",
       "      <td>2010</td>\n",
       "      <td>Presidencia1eravuelta</td>\n",
       "      <td>MOVIMIENTOAPERTURALIBERAL</td>\n",
       "      <td>JAIROCALDERNCARRERO</td>\n",
       "      <td>29151</td>\n",
       "      <td>7014921</td>\n",
       "    </tr>\n",
       "    <tr>\n",
       "      <th>2</th>\n",
       "      <td>2010</td>\n",
       "      <td>Presidencia1eravuelta</td>\n",
       "      <td>MOVIMIENTOLAVOZDELACONSCIENCIA</td>\n",
       "      <td>ROBINSONDEVIAGONZALEZ</td>\n",
       "      <td>31338</td>\n",
       "      <td>6983336</td>\n",
       "    </tr>\n",
       "    <tr>\n",
       "      <th>3</th>\n",
       "      <td>2010</td>\n",
       "      <td>Presidencia1eravuelta</td>\n",
       "      <td>PARTIDOCAMBIORADICAL</td>\n",
       "      <td>GERMNVARGASLLERAS</td>\n",
       "      <td>1473627</td>\n",
       "      <td>7289984</td>\n",
       "    </tr>\n",
       "    <tr>\n",
       "      <th>4</th>\n",
       "      <td>2010</td>\n",
       "      <td>Presidencia1eravuelta</td>\n",
       "      <td>PARTIDOCONSERVADORCOLOMBIANO</td>\n",
       "      <td>NOEMSANN</td>\n",
       "      <td>893819</td>\n",
       "      <td>7289662</td>\n",
       "    </tr>\n",
       "    <tr>\n",
       "      <th>...</th>\n",
       "      <td>...</td>\n",
       "      <td>...</td>\n",
       "      <td>...</td>\n",
       "      <td>...</td>\n",
       "      <td>...</td>\n",
       "      <td>...</td>\n",
       "    </tr>\n",
       "    <tr>\n",
       "      <th>57</th>\n",
       "      <td>2022</td>\n",
       "      <td>Presidencia2davuelta</td>\n",
       "      <td>COALICINPACTOHISTRICO</td>\n",
       "      <td>GUSTAVOPETRO</td>\n",
       "      <td>11292758</td>\n",
       "      <td>7911627</td>\n",
       "    </tr>\n",
       "    <tr>\n",
       "      <th>58</th>\n",
       "      <td>2022</td>\n",
       "      <td>Presidencia2davuelta</td>\n",
       "      <td>LIGADEGOBERNANTESANTICORRUPCIN</td>\n",
       "      <td>RODOLFOHERNNDEZ</td>\n",
       "      <td>10604656</td>\n",
       "      <td>7912186</td>\n",
       "    </tr>\n",
       "    <tr>\n",
       "      <th>59</th>\n",
       "      <td>2022</td>\n",
       "      <td>Presidencia2davuelta</td>\n",
       "      <td>VOTOSENBLANCO</td>\n",
       "      <td>VOTOSENBLANCO</td>\n",
       "      <td>500069</td>\n",
       "      <td>7912947</td>\n",
       "    </tr>\n",
       "    <tr>\n",
       "      <th>60</th>\n",
       "      <td>2022</td>\n",
       "      <td>Presidencia2davuelta</td>\n",
       "      <td>VOTOSNOMARCADOS</td>\n",
       "      <td>VOTOSNOMARCADOS</td>\n",
       "      <td>21461</td>\n",
       "      <td>7506523</td>\n",
       "    </tr>\n",
       "    <tr>\n",
       "      <th>61</th>\n",
       "      <td>2022</td>\n",
       "      <td>Presidencia2davuelta</td>\n",
       "      <td>VOTOSNULOS</td>\n",
       "      <td>VOTOSNULOS</td>\n",
       "      <td>270090</td>\n",
       "      <td>7879494</td>\n",
       "    </tr>\n",
       "  </tbody>\n",
       "</table>\n",
       "<p>62 rows × 6 columns</p>\n",
       "</div>"
      ],
      "text/plain": [
       "    anio                   elec                         partido  \\\n",
       "0   2010  Presidencia1eravuelta  ALIANZASOCIALAFROCOLOMBIANAASA   \n",
       "1   2010  Presidencia1eravuelta       MOVIMIENTOAPERTURALIBERAL   \n",
       "2   2010  Presidencia1eravuelta  MOVIMIENTOLAVOZDELACONSCIENCIA   \n",
       "3   2010  Presidencia1eravuelta            PARTIDOCAMBIORADICAL   \n",
       "4   2010  Presidencia1eravuelta    PARTIDOCONSERVADORCOLOMBIANO   \n",
       "..   ...                    ...                             ...   \n",
       "57  2022   Presidencia2davuelta           COALICINPACTOHISTRICO   \n",
       "58  2022   Presidencia2davuelta  LIGADEGOBERNANTESANTICORRUPCIN   \n",
       "59  2022   Presidencia2davuelta                   VOTOSENBLANCO   \n",
       "60  2022   Presidencia2davuelta                 VOTOSNOMARCADOS   \n",
       "61  2022   Presidencia2davuelta                      VOTOSNULOS   \n",
       "\n",
       "                 nomcandi     votos    censo  \n",
       "0      JAIMEARAUJORENTERA     14847  6848387  \n",
       "1     JAIROCALDERNCARRERO     29151  7014921  \n",
       "2   ROBINSONDEVIAGONZALEZ     31338  6983336  \n",
       "3       GERMNVARGASLLERAS   1473627  7289984  \n",
       "4                NOEMSANN    893819  7289662  \n",
       "..                    ...       ...      ...  \n",
       "57           GUSTAVOPETRO  11292758  7911627  \n",
       "58        RODOLFOHERNNDEZ  10604656  7912186  \n",
       "59          VOTOSENBLANCO    500069  7912947  \n",
       "60        VOTOSNOMARCADOS     21461  7506523  \n",
       "61             VOTOSNULOS    270090  7879494  \n",
       "\n",
       "[62 rows x 6 columns]"
      ]
     },
     "execution_count": 40,
     "metadata": {},
     "output_type": "execute_result"
    }
   ],
   "source": [
    "pr_ag = (pr.groupby(['annoh','eleccion', 'nomparti','nomcandi'], as_index=False)\n",
    "         .agg({'votos':'sum','censo':'sum'})\n",
    "         .rename(columns={'annoh':'anio', 'eleccion':'elec','nomparti':'partido'}))\n",
    "pr_ag"
   ]
  },
  {
   "cell_type": "code",
   "execution_count": 41,
   "metadata": {},
   "outputs": [],
   "source": [
    "\n",
    "pr_ag.to_csv('agregados/presidente_por_anio_eleccion_partido_candidato_mun.csv', index=False)"
   ]
  },
  {
   "cell_type": "markdown",
   "metadata": {},
   "source": [
    "## b. Por Anio, Partido, Departamento"
   ]
  },
  {
   "cell_type": "code",
   "execution_count": 44,
   "metadata": {},
   "outputs": [
    {
     "data": {
      "text/html": [
       "<div>\n",
       "<style scoped>\n",
       "    .dataframe tbody tr th:only-of-type {\n",
       "        vertical-align: middle;\n",
       "    }\n",
       "\n",
       "    .dataframe tbody tr th {\n",
       "        vertical-align: top;\n",
       "    }\n",
       "\n",
       "    .dataframe thead th {\n",
       "        text-align: right;\n",
       "    }\n",
       "</style>\n",
       "<table border=\"1\" class=\"dataframe\">\n",
       "  <thead>\n",
       "    <tr style=\"text-align: right;\">\n",
       "      <th></th>\n",
       "      <th>anio</th>\n",
       "      <th>elec</th>\n",
       "      <th>partido</th>\n",
       "      <th>nomcandi</th>\n",
       "      <th>nomdepto</th>\n",
       "      <th>votos</th>\n",
       "      <th>censo</th>\n",
       "    </tr>\n",
       "  </thead>\n",
       "  <tbody>\n",
       "    <tr>\n",
       "      <th>0</th>\n",
       "      <td>2010</td>\n",
       "      <td>Presidencia1eravuelta</td>\n",
       "      <td>ALIANZASOCIALAFROCOLOMBIANAASA</td>\n",
       "      <td>JAIMEARAUJORENTERA</td>\n",
       "      <td>AMAZONAS</td>\n",
       "      <td>41</td>\n",
       "      <td>12405</td>\n",
       "    </tr>\n",
       "    <tr>\n",
       "      <th>1</th>\n",
       "      <td>2010</td>\n",
       "      <td>Presidencia1eravuelta</td>\n",
       "      <td>ALIANZASOCIALAFROCOLOMBIANAASA</td>\n",
       "      <td>JAIMEARAUJORENTERA</td>\n",
       "      <td>ANTIOQUIA</td>\n",
       "      <td>1677</td>\n",
       "      <td>948328</td>\n",
       "    </tr>\n",
       "    <tr>\n",
       "      <th>2</th>\n",
       "      <td>2010</td>\n",
       "      <td>Presidencia1eravuelta</td>\n",
       "      <td>ALIANZASOCIALAFROCOLOMBIANAASA</td>\n",
       "      <td>JAIMEARAUJORENTERA</td>\n",
       "      <td>ARAUCA</td>\n",
       "      <td>81</td>\n",
       "      <td>48663</td>\n",
       "    </tr>\n",
       "    <tr>\n",
       "      <th>3</th>\n",
       "      <td>2010</td>\n",
       "      <td>Presidencia1eravuelta</td>\n",
       "      <td>ALIANZASOCIALAFROCOLOMBIANAASA</td>\n",
       "      <td>JAIMEARAUJORENTERA</td>\n",
       "      <td>ARCHIPIELAGODESANANDRES</td>\n",
       "      <td>12</td>\n",
       "      <td>16163</td>\n",
       "    </tr>\n",
       "    <tr>\n",
       "      <th>4</th>\n",
       "      <td>2010</td>\n",
       "      <td>Presidencia1eravuelta</td>\n",
       "      <td>ALIANZASOCIALAFROCOLOMBIANAASA</td>\n",
       "      <td>JAIMEARAUJORENTERA</td>\n",
       "      <td>ATLANTICO</td>\n",
       "      <td>1606</td>\n",
       "      <td>223762</td>\n",
       "    </tr>\n",
       "    <tr>\n",
       "      <th>...</th>\n",
       "      <td>...</td>\n",
       "      <td>...</td>\n",
       "      <td>...</td>\n",
       "      <td>...</td>\n",
       "      <td>...</td>\n",
       "      <td>...</td>\n",
       "      <td>...</td>\n",
       "    </tr>\n",
       "    <tr>\n",
       "      <th>2103</th>\n",
       "      <td>2022</td>\n",
       "      <td>Presidencia2davuelta</td>\n",
       "      <td>VOTOSNULOS</td>\n",
       "      <td>VOTOSNULOS</td>\n",
       "      <td>SUCRE</td>\n",
       "      <td>3386</td>\n",
       "      <td>212610</td>\n",
       "    </tr>\n",
       "    <tr>\n",
       "      <th>2104</th>\n",
       "      <td>2022</td>\n",
       "      <td>Presidencia2davuelta</td>\n",
       "      <td>VOTOSNULOS</td>\n",
       "      <td>VOTOSNULOS</td>\n",
       "      <td>TOLIMA</td>\n",
       "      <td>9676</td>\n",
       "      <td>339034</td>\n",
       "    </tr>\n",
       "    <tr>\n",
       "      <th>2105</th>\n",
       "      <td>2022</td>\n",
       "      <td>Presidencia2davuelta</td>\n",
       "      <td>VOTOSNULOS</td>\n",
       "      <td>VOTOSNULOS</td>\n",
       "      <td>VALLEDELCAUCA</td>\n",
       "      <td>29315</td>\n",
       "      <td>322279</td>\n",
       "    </tr>\n",
       "    <tr>\n",
       "      <th>2106</th>\n",
       "      <td>2022</td>\n",
       "      <td>Presidencia2davuelta</td>\n",
       "      <td>VOTOSNULOS</td>\n",
       "      <td>VOTOSNULOS</td>\n",
       "      <td>VAUPES</td>\n",
       "      <td>43</td>\n",
       "      <td>17283</td>\n",
       "    </tr>\n",
       "    <tr>\n",
       "      <th>2107</th>\n",
       "      <td>2022</td>\n",
       "      <td>Presidencia2davuelta</td>\n",
       "      <td>VOTOSNULOS</td>\n",
       "      <td>VOTOSNULOS</td>\n",
       "      <td>VICHADA</td>\n",
       "      <td>164</td>\n",
       "      <td>32695</td>\n",
       "    </tr>\n",
       "  </tbody>\n",
       "</table>\n",
       "<p>2108 rows × 7 columns</p>\n",
       "</div>"
      ],
      "text/plain": [
       "      anio                   elec                         partido  \\\n",
       "0     2010  Presidencia1eravuelta  ALIANZASOCIALAFROCOLOMBIANAASA   \n",
       "1     2010  Presidencia1eravuelta  ALIANZASOCIALAFROCOLOMBIANAASA   \n",
       "2     2010  Presidencia1eravuelta  ALIANZASOCIALAFROCOLOMBIANAASA   \n",
       "3     2010  Presidencia1eravuelta  ALIANZASOCIALAFROCOLOMBIANAASA   \n",
       "4     2010  Presidencia1eravuelta  ALIANZASOCIALAFROCOLOMBIANAASA   \n",
       "...    ...                    ...                             ...   \n",
       "2103  2022   Presidencia2davuelta                      VOTOSNULOS   \n",
       "2104  2022   Presidencia2davuelta                      VOTOSNULOS   \n",
       "2105  2022   Presidencia2davuelta                      VOTOSNULOS   \n",
       "2106  2022   Presidencia2davuelta                      VOTOSNULOS   \n",
       "2107  2022   Presidencia2davuelta                      VOTOSNULOS   \n",
       "\n",
       "                nomcandi                 nomdepto  votos   censo  \n",
       "0     JAIMEARAUJORENTERA                 AMAZONAS     41   12405  \n",
       "1     JAIMEARAUJORENTERA                ANTIOQUIA   1677  948328  \n",
       "2     JAIMEARAUJORENTERA                   ARAUCA     81   48663  \n",
       "3     JAIMEARAUJORENTERA  ARCHIPIELAGODESANANDRES     12   16163  \n",
       "4     JAIMEARAUJORENTERA                ATLANTICO   1606  223762  \n",
       "...                  ...                      ...    ...     ...  \n",
       "2103          VOTOSNULOS                    SUCRE   3386  212610  \n",
       "2104          VOTOSNULOS                   TOLIMA   9676  339034  \n",
       "2105          VOTOSNULOS            VALLEDELCAUCA  29315  322279  \n",
       "2106          VOTOSNULOS                   VAUPES     43   17283  \n",
       "2107          VOTOSNULOS                  VICHADA    164   32695  \n",
       "\n",
       "[2108 rows x 7 columns]"
      ]
     },
     "execution_count": 44,
     "metadata": {},
     "output_type": "execute_result"
    }
   ],
   "source": [
    "pr_ag2 = (pr.groupby(['annoh','eleccion', 'nomparti','nomcandi','nomdepto' ], as_index=False)\n",
    "         .agg({'votos':'sum','censo':'sum'})\n",
    "         .rename(columns={'annoh':'anio', 'eleccion':'elec','nomparti':'partido'}))\n",
    "pr_ag2"
   ]
  },
  {
   "cell_type": "code",
   "execution_count": 46,
   "metadata": {},
   "outputs": [],
   "source": [
    "pr_ag2.to_csv('agregados/presidente_por_anio_eleccion_partido_candidato_depto.csv', index=False)"
   ]
  },
  {
   "cell_type": "markdown",
   "metadata": {},
   "source": [
    "## c. Por Anio, Partido, Departamento, Municipio"
   ]
  },
  {
   "cell_type": "code",
   "execution_count": 47,
   "metadata": {},
   "outputs": [
    {
     "data": {
      "text/html": [
       "<div>\n",
       "<style scoped>\n",
       "    .dataframe tbody tr th:only-of-type {\n",
       "        vertical-align: middle;\n",
       "    }\n",
       "\n",
       "    .dataframe tbody tr th {\n",
       "        vertical-align: top;\n",
       "    }\n",
       "\n",
       "    .dataframe thead th {\n",
       "        text-align: right;\n",
       "    }\n",
       "</style>\n",
       "<table border=\"1\" class=\"dataframe\">\n",
       "  <thead>\n",
       "    <tr style=\"text-align: right;\">\n",
       "      <th></th>\n",
       "      <th>anio</th>\n",
       "      <th>elec</th>\n",
       "      <th>partido</th>\n",
       "      <th>nomcandi</th>\n",
       "      <th>nomdepto</th>\n",
       "      <th>nommun</th>\n",
       "      <th>votos</th>\n",
       "      <th>censo</th>\n",
       "    </tr>\n",
       "  </thead>\n",
       "  <tbody>\n",
       "    <tr>\n",
       "      <th>0</th>\n",
       "      <td>2010</td>\n",
       "      <td>Presidencia1eravuelta</td>\n",
       "      <td>ALIANZASOCIALAFROCOLOMBIANAASA</td>\n",
       "      <td>JAIMEARAUJORENTERA</td>\n",
       "      <td>AMAZONAS</td>\n",
       "      <td>ELENCANTO</td>\n",
       "      <td>6</td>\n",
       "      <td>645</td>\n",
       "    </tr>\n",
       "    <tr>\n",
       "      <th>1</th>\n",
       "      <td>2010</td>\n",
       "      <td>Presidencia1eravuelta</td>\n",
       "      <td>ALIANZASOCIALAFROCOLOMBIANAASA</td>\n",
       "      <td>JAIMEARAUJORENTERA</td>\n",
       "      <td>AMAZONAS</td>\n",
       "      <td>LETICIA</td>\n",
       "      <td>20</td>\n",
       "      <td>5695</td>\n",
       "    </tr>\n",
       "    <tr>\n",
       "      <th>2</th>\n",
       "      <td>2010</td>\n",
       "      <td>Presidencia1eravuelta</td>\n",
       "      <td>ALIANZASOCIALAFROCOLOMBIANAASA</td>\n",
       "      <td>JAIMEARAUJORENTERA</td>\n",
       "      <td>AMAZONAS</td>\n",
       "      <td>MIRITIPARANA</td>\n",
       "      <td>1</td>\n",
       "      <td>359</td>\n",
       "    </tr>\n",
       "    <tr>\n",
       "      <th>3</th>\n",
       "      <td>2010</td>\n",
       "      <td>Presidencia1eravuelta</td>\n",
       "      <td>ALIANZASOCIALAFROCOLOMBIANAASA</td>\n",
       "      <td>JAIMEARAUJORENTERA</td>\n",
       "      <td>AMAZONAS</td>\n",
       "      <td>PUERTOALEGRIA</td>\n",
       "      <td>2</td>\n",
       "      <td>239</td>\n",
       "    </tr>\n",
       "    <tr>\n",
       "      <th>4</th>\n",
       "      <td>2010</td>\n",
       "      <td>Presidencia1eravuelta</td>\n",
       "      <td>ALIANZASOCIALAFROCOLOMBIANAASA</td>\n",
       "      <td>JAIMEARAUJORENTERA</td>\n",
       "      <td>AMAZONAS</td>\n",
       "      <td>PUERTOARICA</td>\n",
       "      <td>3</td>\n",
       "      <td>361</td>\n",
       "    </tr>\n",
       "    <tr>\n",
       "      <th>...</th>\n",
       "      <td>...</td>\n",
       "      <td>...</td>\n",
       "      <td>...</td>\n",
       "      <td>...</td>\n",
       "      <td>...</td>\n",
       "      <td>...</td>\n",
       "      <td>...</td>\n",
       "      <td>...</td>\n",
       "    </tr>\n",
       "    <tr>\n",
       "      <th>70781</th>\n",
       "      <td>2022</td>\n",
       "      <td>Presidencia2davuelta</td>\n",
       "      <td>VOTOSNULOS</td>\n",
       "      <td>VOTOSNULOS</td>\n",
       "      <td>VAUPES</td>\n",
       "      <td>TARAIRA</td>\n",
       "      <td>1</td>\n",
       "      <td>1160</td>\n",
       "    </tr>\n",
       "    <tr>\n",
       "      <th>70782</th>\n",
       "      <td>2022</td>\n",
       "      <td>Presidencia2davuelta</td>\n",
       "      <td>VOTOSNULOS</td>\n",
       "      <td>VOTOSNULOS</td>\n",
       "      <td>VICHADA</td>\n",
       "      <td>CUMARIBO</td>\n",
       "      <td>57</td>\n",
       "      <td>7517</td>\n",
       "    </tr>\n",
       "    <tr>\n",
       "      <th>70783</th>\n",
       "      <td>2022</td>\n",
       "      <td>Presidencia2davuelta</td>\n",
       "      <td>VOTOSNULOS</td>\n",
       "      <td>VOTOSNULOS</td>\n",
       "      <td>VICHADA</td>\n",
       "      <td>LAPRIMAVERA</td>\n",
       "      <td>24</td>\n",
       "      <td>5168</td>\n",
       "    </tr>\n",
       "    <tr>\n",
       "      <th>70784</th>\n",
       "      <td>2022</td>\n",
       "      <td>Presidencia2davuelta</td>\n",
       "      <td>VOTOSNULOS</td>\n",
       "      <td>VOTOSNULOS</td>\n",
       "      <td>VICHADA</td>\n",
       "      <td>PUERTOCARRENO</td>\n",
       "      <td>78</td>\n",
       "      <td>17192</td>\n",
       "    </tr>\n",
       "    <tr>\n",
       "      <th>70785</th>\n",
       "      <td>2022</td>\n",
       "      <td>Presidencia2davuelta</td>\n",
       "      <td>VOTOSNULOS</td>\n",
       "      <td>VOTOSNULOS</td>\n",
       "      <td>VICHADA</td>\n",
       "      <td>SANTAROSALIA</td>\n",
       "      <td>5</td>\n",
       "      <td>2818</td>\n",
       "    </tr>\n",
       "  </tbody>\n",
       "</table>\n",
       "<p>70786 rows × 8 columns</p>\n",
       "</div>"
      ],
      "text/plain": [
       "       anio                   elec                         partido  \\\n",
       "0      2010  Presidencia1eravuelta  ALIANZASOCIALAFROCOLOMBIANAASA   \n",
       "1      2010  Presidencia1eravuelta  ALIANZASOCIALAFROCOLOMBIANAASA   \n",
       "2      2010  Presidencia1eravuelta  ALIANZASOCIALAFROCOLOMBIANAASA   \n",
       "3      2010  Presidencia1eravuelta  ALIANZASOCIALAFROCOLOMBIANAASA   \n",
       "4      2010  Presidencia1eravuelta  ALIANZASOCIALAFROCOLOMBIANAASA   \n",
       "...     ...                    ...                             ...   \n",
       "70781  2022   Presidencia2davuelta                      VOTOSNULOS   \n",
       "70782  2022   Presidencia2davuelta                      VOTOSNULOS   \n",
       "70783  2022   Presidencia2davuelta                      VOTOSNULOS   \n",
       "70784  2022   Presidencia2davuelta                      VOTOSNULOS   \n",
       "70785  2022   Presidencia2davuelta                      VOTOSNULOS   \n",
       "\n",
       "                 nomcandi  nomdepto         nommun  votos  censo  \n",
       "0      JAIMEARAUJORENTERA  AMAZONAS      ELENCANTO      6    645  \n",
       "1      JAIMEARAUJORENTERA  AMAZONAS        LETICIA     20   5695  \n",
       "2      JAIMEARAUJORENTERA  AMAZONAS   MIRITIPARANA      1    359  \n",
       "3      JAIMEARAUJORENTERA  AMAZONAS  PUERTOALEGRIA      2    239  \n",
       "4      JAIMEARAUJORENTERA  AMAZONAS    PUERTOARICA      3    361  \n",
       "...                   ...       ...            ...    ...    ...  \n",
       "70781          VOTOSNULOS    VAUPES        TARAIRA      1   1160  \n",
       "70782          VOTOSNULOS   VICHADA       CUMARIBO     57   7517  \n",
       "70783          VOTOSNULOS   VICHADA    LAPRIMAVERA     24   5168  \n",
       "70784          VOTOSNULOS   VICHADA  PUERTOCARRENO     78  17192  \n",
       "70785          VOTOSNULOS   VICHADA   SANTAROSALIA      5   2818  \n",
       "\n",
       "[70786 rows x 8 columns]"
      ]
     },
     "execution_count": 47,
     "metadata": {},
     "output_type": "execute_result"
    }
   ],
   "source": [
    "pr_ag3 = (pr.groupby(['annoh','eleccion', 'nomparti','nomcandi','nomdepto', 'nommun'], as_index=False)\n",
    "         .agg({'votos':'sum','censo':'sum'})\n",
    "         .rename(columns={'annoh':'anio', 'eleccion':'elec','nomparti':'partido'}))\n",
    "pr_ag3"
   ]
  },
  {
   "cell_type": "markdown",
   "metadata": {},
   "source": [
    "# 2. Camara Exterior\n"
   ]
  },
  {
   "cell_type": "code",
   "execution_count": null,
   "metadata": {},
   "outputs": [],
   "source": [
    "cax=d22.loc[(d22.nomdepto=='CONSULADOS') ]\n",
    "cax=cax.loc[(d22.eleccion=='CmaraTerritorial') | (cax.eleccion=='CmaraIndgena') | (cax.eleccion=='CmaraNegritudes') ]\n",
    "cax.head(2)"
   ]
  },
  {
   "cell_type": "markdown",
   "metadata": {},
   "source": [
    "### a. Global por anio, ciudad , circunscripcion y partido"
   ]
  },
  {
   "cell_type": "code",
   "execution_count": 133,
   "metadata": {},
   "outputs": [
    {
     "data": {
      "text/html": [
       "<div>\n",
       "<style scoped>\n",
       "    .dataframe tbody tr th:only-of-type {\n",
       "        vertical-align: middle;\n",
       "    }\n",
       "\n",
       "    .dataframe tbody tr th {\n",
       "        vertical-align: top;\n",
       "    }\n",
       "\n",
       "    .dataframe thead th {\n",
       "        text-align: right;\n",
       "    }\n",
       "</style>\n",
       "<table border=\"1\" class=\"dataframe\">\n",
       "  <thead>\n",
       "    <tr style=\"text-align: right;\">\n",
       "      <th></th>\n",
       "      <th>anio</th>\n",
       "      <th>eleccion</th>\n",
       "      <th>partido</th>\n",
       "      <th>pais</th>\n",
       "      <th>votos</th>\n",
       "      <th>censo</th>\n",
       "    </tr>\n",
       "  </thead>\n",
       "  <tbody>\n",
       "    <tr>\n",
       "      <th>0</th>\n",
       "      <td>2010</td>\n",
       "      <td>CmaraIndgena</td>\n",
       "      <td>ALIANZASOCIALINDIGENA</td>\n",
       "      <td>ARGENTINA</td>\n",
       "      <td>5</td>\n",
       "      <td>2859</td>\n",
       "    </tr>\n",
       "    <tr>\n",
       "      <th>1</th>\n",
       "      <td>2010</td>\n",
       "      <td>CmaraIndgena</td>\n",
       "      <td>ALIANZASOCIALINDIGENA</td>\n",
       "      <td>AUSTRALIA</td>\n",
       "      <td>3</td>\n",
       "      <td>491</td>\n",
       "    </tr>\n",
       "  </tbody>\n",
       "</table>\n",
       "</div>"
      ],
      "text/plain": [
       "   anio      eleccion                partido       pais  votos  censo\n",
       "0  2010  CmaraIndgena  ALIANZASOCIALINDIGENA  ARGENTINA      5   2859\n",
       "1  2010  CmaraIndgena  ALIANZASOCIALINDIGENA  AUSTRALIA      3    491"
      ]
     },
     "execution_count": 133,
     "metadata": {},
     "output_type": "execute_result"
    }
   ],
   "source": [
    "cax_ag = (cax.groupby(['annoh','eleccion', 'nomparti','nommun'], as_index=False)\n",
    "         .agg({'votos':'sum','censo':'sum'})\n",
    "         .rename(columns={'annoh':'anio', 'nomparti':'partido', 'nommun':'pais'}))\n",
    "cax_ag.head(2)"
   ]
  },
  {
   "cell_type": "code",
   "execution_count": 134,
   "metadata": {},
   "outputs": [],
   "source": [
    "cax_ag.to_csv('agregados/cax_eleccion_partido_pais.cvs')"
   ]
  },
  {
   "cell_type": "code",
   "execution_count": 136,
   "metadata": {},
   "outputs": [
    {
     "data": {
      "text/html": [
       "<div>\n",
       "<style scoped>\n",
       "    .dataframe tbody tr th:only-of-type {\n",
       "        vertical-align: middle;\n",
       "    }\n",
       "\n",
       "    .dataframe tbody tr th {\n",
       "        vertical-align: top;\n",
       "    }\n",
       "\n",
       "    .dataframe thead th {\n",
       "        text-align: right;\n",
       "    }\n",
       "</style>\n",
       "<table border=\"1\" class=\"dataframe\">\n",
       "  <thead>\n",
       "    <tr style=\"text-align: right;\">\n",
       "      <th></th>\n",
       "      <th>Unnamed: 0</th>\n",
       "      <th>anio</th>\n",
       "      <th>eleccion</th>\n",
       "      <th>partido</th>\n",
       "      <th>pais</th>\n",
       "      <th>votos</th>\n",
       "      <th>censo</th>\n",
       "    </tr>\n",
       "  </thead>\n",
       "  <tbody>\n",
       "    <tr>\n",
       "      <th>0</th>\n",
       "      <td>0</td>\n",
       "      <td>2010</td>\n",
       "      <td>CmaraIndgena</td>\n",
       "      <td>ALIANZASOCIALINDIGENA</td>\n",
       "      <td>ARGENTINA</td>\n",
       "      <td>5</td>\n",
       "      <td>2859</td>\n",
       "    </tr>\n",
       "    <tr>\n",
       "      <th>1</th>\n",
       "      <td>1</td>\n",
       "      <td>2010</td>\n",
       "      <td>CmaraIndgena</td>\n",
       "      <td>ALIANZASOCIALINDIGENA</td>\n",
       "      <td>AUSTRALIA</td>\n",
       "      <td>3</td>\n",
       "      <td>491</td>\n",
       "    </tr>\n",
       "  </tbody>\n",
       "</table>\n",
       "</div>"
      ],
      "text/plain": [
       "   Unnamed: 0  anio      eleccion                partido       pais  votos  \\\n",
       "0           0  2010  CmaraIndgena  ALIANZASOCIALINDIGENA  ARGENTINA      5   \n",
       "1           1  2010  CmaraIndgena  ALIANZASOCIALINDIGENA  AUSTRALIA      3   \n",
       "\n",
       "   censo  \n",
       "0   2859  \n",
       "1    491  "
      ]
     },
     "execution_count": 136,
     "metadata": {},
     "output_type": "execute_result"
    }
   ],
   "source": [
    "caxp=pd.read_csv('agregados/cax_eleccion_partido_pais.cvs')\n",
    "caxp.head(2)"
   ]
  },
  {
   "cell_type": "code",
   "execution_count": 139,
   "metadata": {},
   "outputs": [
    {
     "data": {
      "text/html": [
       "<div>\n",
       "<style scoped>\n",
       "    .dataframe tbody tr th:only-of-type {\n",
       "        vertical-align: middle;\n",
       "    }\n",
       "\n",
       "    .dataframe tbody tr th {\n",
       "        vertical-align: top;\n",
       "    }\n",
       "\n",
       "    .dataframe thead th {\n",
       "        text-align: right;\n",
       "    }\n",
       "</style>\n",
       "<table border=\"1\" class=\"dataframe\">\n",
       "  <thead>\n",
       "    <tr style=\"text-align: right;\">\n",
       "      <th></th>\n",
       "      <th>anio</th>\n",
       "      <th>eleccion</th>\n",
       "      <th>partido</th>\n",
       "      <th>pais</th>\n",
       "      <th>puesto</th>\n",
       "      <th>votos</th>\n",
       "      <th>censo</th>\n",
       "    </tr>\n",
       "  </thead>\n",
       "  <tbody>\n",
       "    <tr>\n",
       "      <th>0</th>\n",
       "      <td>2010</td>\n",
       "      <td>CmaraIndgena</td>\n",
       "      <td>ALIANZASOCIALINDIGENA</td>\n",
       "      <td>ARGENTINA</td>\n",
       "      <td>BuenosAiresConsulado</td>\n",
       "      <td>5</td>\n",
       "      <td>2859</td>\n",
       "    </tr>\n",
       "    <tr>\n",
       "      <th>1</th>\n",
       "      <td>2010</td>\n",
       "      <td>CmaraIndgena</td>\n",
       "      <td>ALIANZASOCIALINDIGENA</td>\n",
       "      <td>AUSTRALIA</td>\n",
       "      <td>Brisbane</td>\n",
       "      <td>3</td>\n",
       "      <td>491</td>\n",
       "    </tr>\n",
       "  </tbody>\n",
       "</table>\n",
       "</div>"
      ],
      "text/plain": [
       "   anio      eleccion                partido       pais                puesto  \\\n",
       "0  2010  CmaraIndgena  ALIANZASOCIALINDIGENA  ARGENTINA  BuenosAiresConsulado   \n",
       "1  2010  CmaraIndgena  ALIANZASOCIALINDIGENA  AUSTRALIA              Brisbane   \n",
       "\n",
       "   votos  censo  \n",
       "0      5   2859  \n",
       "1      3    491  "
      ]
     },
     "execution_count": 139,
     "metadata": {},
     "output_type": "execute_result"
    }
   ],
   "source": [
    "cax_agp = (cax.groupby(['annoh','eleccion', 'nomparti','nommun','nompuesto'], as_index=False)\n",
    "         .agg({'votos':'sum','censo':'sum'})\n",
    "         .rename(columns={'annoh':'anio', 'nomparti':'partido', 'nommun':'pais', 'nompuesto':'puesto'}))\n",
    "cax_agp.head(2)"
   ]
  },
  {
   "cell_type": "code",
   "execution_count": 140,
   "metadata": {},
   "outputs": [],
   "source": [
    "cax_agp.to_csv('agregados/cax_eleccion_partido_pais_puesto.cvs')"
   ]
  },
  {
   "cell_type": "code",
   "execution_count": 146,
   "metadata": {},
   "outputs": [
    {
     "data": {
      "text/html": [
       "<div>\n",
       "<style scoped>\n",
       "    .dataframe tbody tr th:only-of-type {\n",
       "        vertical-align: middle;\n",
       "    }\n",
       "\n",
       "    .dataframe tbody tr th {\n",
       "        vertical-align: top;\n",
       "    }\n",
       "\n",
       "    .dataframe thead th {\n",
       "        text-align: right;\n",
       "    }\n",
       "</style>\n",
       "<table border=\"1\" class=\"dataframe\">\n",
       "  <thead>\n",
       "    <tr style=\"text-align: right;\">\n",
       "      <th></th>\n",
       "      <th>anio</th>\n",
       "      <th>eleccion</th>\n",
       "      <th>partido</th>\n",
       "      <th>pais</th>\n",
       "      <th>puesto</th>\n",
       "      <th>votos</th>\n",
       "      <th>censo</th>\n",
       "    </tr>\n",
       "  </thead>\n",
       "  <tbody>\n",
       "    <tr>\n",
       "      <th>491</th>\n",
       "      <td>2010</td>\n",
       "      <td>CmaraTerritorial</td>\n",
       "      <td>PARTIDOCONSERVADORCOLOMBIANO</td>\n",
       "      <td>VENEZUELA</td>\n",
       "      <td>CaracasConsulado</td>\n",
       "      <td>1199</td>\n",
       "      <td>28288</td>\n",
       "    </tr>\n",
       "    <tr>\n",
       "      <th>551</th>\n",
       "      <td>2010</td>\n",
       "      <td>CmaraTerritorial</td>\n",
       "      <td>PARTIDOLIBERALCOLOMBIANO</td>\n",
       "      <td>VENEZUELA</td>\n",
       "      <td>CaracasConsulado</td>\n",
       "      <td>2167</td>\n",
       "      <td>28288</td>\n",
       "    </tr>\n",
       "  </tbody>\n",
       "</table>\n",
       "</div>"
      ],
      "text/plain": [
       "     anio          eleccion                       partido       pais  \\\n",
       "491  2010  CmaraTerritorial  PARTIDOCONSERVADORCOLOMBIANO  VENEZUELA   \n",
       "551  2010  CmaraTerritorial      PARTIDOLIBERALCOLOMBIANO  VENEZUELA   \n",
       "\n",
       "               puesto  votos  censo  \n",
       "491  CaracasConsulado   1199  28288  \n",
       "551  CaracasConsulado   2167  28288  "
      ]
     },
     "execution_count": 146,
     "metadata": {},
     "output_type": "execute_result"
    }
   ],
   "source": [
    "dff= cax_agp.loc[(cax_agp.eleccion.isin (['CmaraTerritorial','CmaraIndigena'])) & \n",
    "                 (cax_agp.partido.isin (['PARTIDOLIBERALCOLOMBIANO','PARTIDOCONSERVADORCOLOMBIANO'])) & \n",
    "                 (cax_agp.pais=='VENEZUELA') &\n",
    "                 (cax_agp.anio==2010)]\n",
    "dff"
   ]
  },
  {
   "cell_type": "code",
   "execution_count": null,
   "metadata": {},
   "outputs": [],
   "source": []
  },
  {
   "cell_type": "code",
   "execution_count": 121,
   "metadata": {},
   "outputs": [
    {
     "data": {
      "application/vnd.plotly.v1+json": {
       "config": {
        "plotlyServerURL": "https://plot.ly"
       },
       "data": [
        {
         "hovertemplate": "partido=ALIANZASOCIALINDIGENA<br>anio=%{x}<br>votos=%{y}<extra></extra>",
         "legendgroup": "ALIANZASOCIALINDIGENA",
         "line": {
          "color": "#636efa",
          "dash": "solid"
         },
         "marker": {
          "symbol": "circle"
         },
         "mode": "markers+lines",
         "name": "ALIANZASOCIALINDIGENA",
         "orientation": "v",
         "showlegend": true,
         "type": "scatter",
         "x": [
          2010,
          2010
         ],
         "xaxis": "x",
         "y": [
          73,
          377
         ],
         "yaxis": "y"
        },
        {
         "hovertemplate": "partido=ORGANIZACIONDECOMUNIDADESNEGRASENANTIOQUIAESTUDIANT<br>anio=%{x}<br>votos=%{y}<extra></extra>",
         "legendgroup": "ORGANIZACIONDECOMUNIDADESNEGRASENANTIOQUIAESTUDIANT",
         "line": {
          "color": "#EF553B",
          "dash": "solid"
         },
         "marker": {
          "symbol": "circle"
         },
         "mode": "markers+lines",
         "name": "ORGANIZACIONDECOMUNIDADESNEGRASENANTIOQUIAESTUDIANT",
         "orientation": "v",
         "showlegend": true,
         "type": "scatter",
         "x": [
          2010
         ],
         "xaxis": "x",
         "y": [
          1
         ],
         "yaxis": "y"
        },
        {
         "hovertemplate": "partido=ORGANIZACIONANCESTRICAAFROCOLOMBIANAOANAC<br>anio=%{x}<br>votos=%{y}<extra></extra>",
         "legendgroup": "ORGANIZACIONANCESTRICAAFROCOLOMBIANAOANAC",
         "line": {
          "color": "#00cc96",
          "dash": "solid"
         },
         "marker": {
          "symbol": "circle"
         },
         "mode": "markers+lines",
         "name": "ORGANIZACIONANCESTRICAAFROCOLOMBIANAOANAC",
         "orientation": "v",
         "showlegend": true,
         "type": "scatter",
         "x": [
          2010
         ],
         "xaxis": "x",
         "y": [
          6
         ],
         "yaxis": "y"
        },
        {
         "hovertemplate": "partido=FUNDACIONDEDESARROLLOSOCIALDEPORTIVACULTURALAMANDAS<br>anio=%{x}<br>votos=%{y}<extra></extra>",
         "legendgroup": "FUNDACIONDEDESARROLLOSOCIALDEPORTIVACULTURALAMANDAS",
         "line": {
          "color": "#ab63fa",
          "dash": "solid"
         },
         "marker": {
          "symbol": "circle"
         },
         "mode": "markers+lines",
         "name": "FUNDACIONDEDESARROLLOSOCIALDEPORTIVACULTURALAMANDAS",
         "orientation": "v",
         "showlegend": true,
         "type": "scatter",
         "x": [
          2010
         ],
         "xaxis": "x",
         "y": [
          1
         ],
         "yaxis": "y"
        },
        {
         "hovertemplate": "partido=FUNDACIONPARAELDESARROLLODECOMUNIDADESAFROCOLOMBIANA<br>anio=%{x}<br>votos=%{y}<extra></extra>",
         "legendgroup": "FUNDACIONPARAELDESARROLLODECOMUNIDADESAFROCOLOMBIANA",
         "line": {
          "color": "#FFA15A",
          "dash": "solid"
         },
         "marker": {
          "symbol": "circle"
         },
         "mode": "markers+lines",
         "name": "FUNDACIONPARAELDESARROLLODECOMUNIDADESAFROCOLOMBIANA",
         "orientation": "v",
         "showlegend": true,
         "type": "scatter",
         "x": [
          2010
         ],
         "xaxis": "x",
         "y": [
          4
         ],
         "yaxis": "y"
        },
        {
         "hovertemplate": "partido=FUNDACIONPARAELDESARROLLOINTEGRALDELAFRODECENDIENTE<br>anio=%{x}<br>votos=%{y}<extra></extra>",
         "legendgroup": "FUNDACIONPARAELDESARROLLOINTEGRALDELAFRODECENDIENTE",
         "line": {
          "color": "#19d3f3",
          "dash": "solid"
         },
         "marker": {
          "symbol": "circle"
         },
         "mode": "markers+lines",
         "name": "FUNDACIONPARAELDESARROLLOINTEGRALDELAFRODECENDIENTE",
         "orientation": "v",
         "showlegend": true,
         "type": "scatter",
         "x": [
          2010
         ],
         "xaxis": "x",
         "y": [
          3
         ],
         "yaxis": "y"
        },
        {
         "hovertemplate": "partido=MOVIMIENTOVOLUNTADPOPULAR<br>anio=%{x}<br>votos=%{y}<extra></extra>",
         "legendgroup": "MOVIMIENTOVOLUNTADPOPULAR",
         "line": {
          "color": "#FF6692",
          "dash": "solid"
         },
         "marker": {
          "symbol": "circle"
         },
         "mode": "markers+lines",
         "name": "MOVIMIENTOVOLUNTADPOPULAR",
         "orientation": "v",
         "showlegend": true,
         "type": "scatter",
         "x": [
          2010
         ],
         "xaxis": "x",
         "y": [
          24
         ],
         "yaxis": "y"
        },
        {
         "hovertemplate": "partido=MOVIMIENTOPOPULARUNIDOMPU<br>anio=%{x}<br>votos=%{y}<extra></extra>",
         "legendgroup": "MOVIMIENTOPOPULARUNIDOMPU",
         "line": {
          "color": "#B6E880",
          "dash": "solid"
         },
         "marker": {
          "symbol": "circle"
         },
         "mode": "markers+lines",
         "name": "MOVIMIENTOPOPULARUNIDOMPU",
         "orientation": "v",
         "showlegend": true,
         "type": "scatter",
         "x": [
          2010
         ],
         "xaxis": "x",
         "y": [
          37
         ],
         "yaxis": "y"
        },
        {
         "hovertemplate": "partido=MOVIMIENTONACIONALAFROCOLOMBIANOAFRO<br>anio=%{x}<br>votos=%{y}<extra></extra>",
         "legendgroup": "MOVIMIENTONACIONALAFROCOLOMBIANOAFRO",
         "line": {
          "color": "#FF97FF",
          "dash": "solid"
         },
         "marker": {
          "symbol": "circle"
         },
         "mode": "markers+lines",
         "name": "MOVIMIENTONACIONALAFROCOLOMBIANOAFRO",
         "orientation": "v",
         "showlegend": true,
         "type": "scatter",
         "x": [
          2010
         ],
         "xaxis": "x",
         "y": [
          8
         ],
         "yaxis": "y"
        },
        {
         "hovertemplate": "partido=FUNDACIONPARAELDESARROLLOINTEGRALPARALACOMUNIDADAF<br>anio=%{x}<br>votos=%{y}<extra></extra>",
         "legendgroup": "FUNDACIONPARAELDESARROLLOINTEGRALPARALACOMUNIDADAF",
         "line": {
          "color": "#FECB52",
          "dash": "solid"
         },
         "marker": {
          "symbol": "circle"
         },
         "mode": "markers+lines",
         "name": "FUNDACIONPARAELDESARROLLOINTEGRALPARALACOMUNIDADAF",
         "orientation": "v",
         "showlegend": true,
         "type": "scatter",
         "x": [
          2010
         ],
         "xaxis": "x",
         "y": [
          1
         ],
         "yaxis": "y"
        },
        {
         "hovertemplate": "partido=FUNDACIONPARAELDESARROLLOYDEFENSADELOSDERECHOSDE<br>anio=%{x}<br>votos=%{y}<extra></extra>",
         "legendgroup": "FUNDACIONPARAELDESARROLLOYDEFENSADELOSDERECHOSDE",
         "line": {
          "color": "#636efa",
          "dash": "solid"
         },
         "marker": {
          "symbol": "circle"
         },
         "mode": "markers+lines",
         "name": "FUNDACIONPARAELDESARROLLOYDEFENSADELOSDERECHOSDE",
         "orientation": "v",
         "showlegend": true,
         "type": "scatter",
         "x": [
          2010
         ],
         "xaxis": "x",
         "y": [
          23
         ],
         "yaxis": "y"
        },
        {
         "hovertemplate": "partido=FUNDACIONNEGROSSINFRONTERASSINFRONTERAS<br>anio=%{x}<br>votos=%{y}<extra></extra>",
         "legendgroup": "FUNDACIONNEGROSSINFRONTERASSINFRONTERAS",
         "line": {
          "color": "#EF553B",
          "dash": "solid"
         },
         "marker": {
          "symbol": "circle"
         },
         "mode": "markers+lines",
         "name": "FUNDACIONNEGROSSINFRONTERASSINFRONTERAS",
         "orientation": "v",
         "showlegend": true,
         "type": "scatter",
         "x": [
          2010
         ],
         "xaxis": "x",
         "y": [
          1
         ],
         "yaxis": "y"
        },
        {
         "hovertemplate": "partido=FUNDACIONNARIENSESAFROCOLOMBIANOSFORJADORESDELFUTURO<br>anio=%{x}<br>votos=%{y}<extra></extra>",
         "legendgroup": "FUNDACIONNARIENSESAFROCOLOMBIANOSFORJADORESDELFUTURO",
         "line": {
          "color": "#00cc96",
          "dash": "solid"
         },
         "marker": {
          "symbol": "circle"
         },
         "mode": "markers+lines",
         "name": "FUNDACIONNARIENSESAFROCOLOMBIANOSFORJADORESDELFUTURO",
         "orientation": "v",
         "showlegend": true,
         "type": "scatter",
         "x": [
          2010
         ],
         "xaxis": "x",
         "y": [
          4
         ],
         "yaxis": "y"
        },
        {
         "hovertemplate": "partido=FUNDACIONLABORARPORCOLOMBIAFUNDALABOR<br>anio=%{x}<br>votos=%{y}<extra></extra>",
         "legendgroup": "FUNDACIONLABORARPORCOLOMBIAFUNDALABOR",
         "line": {
          "color": "#ab63fa",
          "dash": "solid"
         },
         "marker": {
          "symbol": "circle"
         },
         "mode": "markers+lines",
         "name": "FUNDACIONLABORARPORCOLOMBIAFUNDALABOR",
         "orientation": "v",
         "showlegend": true,
         "type": "scatter",
         "x": [
          2010
         ],
         "xaxis": "x",
         "y": [
          40
         ],
         "yaxis": "y"
        },
        {
         "hovertemplate": "partido=FUNDACIONINTENSIDADFUNDAIN<br>anio=%{x}<br>votos=%{y}<extra></extra>",
         "legendgroup": "FUNDACIONINTENSIDADFUNDAIN",
         "line": {
          "color": "#FFA15A",
          "dash": "solid"
         },
         "marker": {
          "symbol": "circle"
         },
         "mode": "markers+lines",
         "name": "FUNDACIONINTENSIDADFUNDAIN",
         "orientation": "v",
         "showlegend": true,
         "type": "scatter",
         "x": [
          2010,
          2014
         ],
         "xaxis": "x",
         "y": [
          3,
          3
         ],
         "yaxis": "y"
        },
        {
         "hovertemplate": "partido=FUNDACIONINTEGRACIONSOCIALAFROCOLOMBIANAFISA<br>anio=%{x}<br>votos=%{y}<extra></extra>",
         "legendgroup": "FUNDACIONINTEGRACIONSOCIALAFROCOLOMBIANAFISA",
         "line": {
          "color": "#19d3f3",
          "dash": "solid"
         },
         "marker": {
          "symbol": "circle"
         },
         "mode": "markers+lines",
         "name": "FUNDACIONINTEGRACIONSOCIALAFROCOLOMBIANAFISA",
         "orientation": "v",
         "showlegend": true,
         "type": "scatter",
         "x": [
          2010
         ],
         "xaxis": "x",
         "y": [
          15
         ],
         "yaxis": "y"
        },
        {
         "hovertemplate": "partido=FUNDACIONFUNDAPAS<br>anio=%{x}<br>votos=%{y}<extra></extra>",
         "legendgroup": "FUNDACIONFUNDAPAS",
         "line": {
          "color": "#FF6692",
          "dash": "solid"
         },
         "marker": {
          "symbol": "circle"
         },
         "mode": "markers+lines",
         "name": "FUNDACIONFUNDAPAS",
         "orientation": "v",
         "showlegend": true,
         "type": "scatter",
         "x": [
          2010
         ],
         "xaxis": "x",
         "y": [
          8
         ],
         "yaxis": "y"
        },
        {
         "hovertemplate": "partido=FUNDACIONDEPORTIVAVIAFARAFUNDEVIA<br>anio=%{x}<br>votos=%{y}<extra></extra>",
         "legendgroup": "FUNDACIONDEPORTIVAVIAFARAFUNDEVIA",
         "line": {
          "color": "#B6E880",
          "dash": "solid"
         },
         "marker": {
          "symbol": "circle"
         },
         "mode": "markers+lines",
         "name": "FUNDACIONDEPORTIVAVIAFARAFUNDEVIA",
         "orientation": "v",
         "showlegend": true,
         "type": "scatter",
         "x": [
          2010
         ],
         "xaxis": "x",
         "y": [
          3
         ],
         "yaxis": "y"
        },
        {
         "hovertemplate": "partido=FUNDAPALAFROCEROBATALAFUNDACIONAFROCERRITEOOBATALA<br>anio=%{x}<br>votos=%{y}<extra></extra>",
         "legendgroup": "FUNDAPALAFROCEROBATALAFUNDACIONAFROCERRITEOOBATALA",
         "line": {
          "color": "#FF97FF",
          "dash": "solid"
         },
         "marker": {
          "symbol": "circle"
         },
         "mode": "markers+lines",
         "name": "FUNDAPALAFROCEROBATALAFUNDACIONAFROCERRITEOOBATALA",
         "orientation": "v",
         "showlegend": true,
         "type": "scatter",
         "x": [
          2010
         ],
         "xaxis": "x",
         "y": [
          21
         ],
         "yaxis": "y"
        },
        {
         "hovertemplate": "partido=FUNDACIONSEMILLASSINODIOCOLOMBIA<br>anio=%{x}<br>votos=%{y}<extra></extra>",
         "legendgroup": "FUNDACIONSEMILLASSINODIOCOLOMBIA",
         "line": {
          "color": "#FECB52",
          "dash": "solid"
         },
         "marker": {
          "symbol": "circle"
         },
         "mode": "markers+lines",
         "name": "FUNDACIONSEMILLASSINODIOCOLOMBIA",
         "orientation": "v",
         "showlegend": true,
         "type": "scatter",
         "x": [
          2010
         ],
         "xaxis": "x",
         "y": [
          5
         ],
         "yaxis": "y"
        },
        {
         "hovertemplate": "partido=MOVIMIENTOAFROAMBIENTALCOLOMBIANO<br>anio=%{x}<br>votos=%{y}<extra></extra>",
         "legendgroup": "MOVIMIENTOAFROAMBIENTALCOLOMBIANO",
         "line": {
          "color": "#636efa",
          "dash": "solid"
         },
         "marker": {
          "symbol": "circle"
         },
         "mode": "markers+lines",
         "name": "MOVIMIENTOAFROAMBIENTALCOLOMBIANO",
         "orientation": "v",
         "showlegend": true,
         "type": "scatter",
         "x": [
          2010
         ],
         "xaxis": "x",
         "y": [
          9
         ],
         "yaxis": "y"
        },
        {
         "hovertemplate": "partido=ORGANIZACIONDELASETNIASAFROCOLOMBIANOSRESIDENTESENM<br>anio=%{x}<br>votos=%{y}<extra></extra>",
         "legendgroup": "ORGANIZACIONDELASETNIASAFROCOLOMBIANOSRESIDENTESENM",
         "line": {
          "color": "#EF553B",
          "dash": "solid"
         },
         "marker": {
          "symbol": "circle"
         },
         "mode": "markers+lines",
         "name": "ORGANIZACIONDELASETNIASAFROCOLOMBIANOSRESIDENTESENM",
         "orientation": "v",
         "showlegend": true,
         "type": "scatter",
         "x": [
          2010
         ],
         "xaxis": "x",
         "y": [
          10
         ],
         "yaxis": "y"
        },
        {
         "hovertemplate": "partido=ORGANIZACIONETNICACOMUNITARIAAFROCOLOMBIANAOECA<br>anio=%{x}<br>votos=%{y}<extra></extra>",
         "legendgroup": "ORGANIZACIONETNICACOMUNITARIAAFROCOLOMBIANAOECA",
         "line": {
          "color": "#00cc96",
          "dash": "solid"
         },
         "marker": {
          "symbol": "circle"
         },
         "mode": "markers+lines",
         "name": "ORGANIZACIONETNICACOMUNITARIAAFROCOLOMBIANAOECA",
         "orientation": "v",
         "showlegend": true,
         "type": "scatter",
         "x": [
          2010
         ],
         "xaxis": "x",
         "y": [
          8
         ],
         "yaxis": "y"
        },
        {
         "hovertemplate": "partido=ORGANIZACIONDELASETNIASAFROCOLOMBIANASRESIDENTESENE<br>anio=%{x}<br>votos=%{y}<extra></extra>",
         "legendgroup": "ORGANIZACIONDELASETNIASAFROCOLOMBIANASRESIDENTESENE",
         "line": {
          "color": "#ab63fa",
          "dash": "solid"
         },
         "marker": {
          "symbol": "circle"
         },
         "mode": "markers+lines",
         "name": "ORGANIZACIONDELASETNIASAFROCOLOMBIANASRESIDENTESENE",
         "orientation": "v",
         "showlegend": true,
         "type": "scatter",
         "x": [
          2010
         ],
         "xaxis": "x",
         "y": [
          7
         ],
         "yaxis": "y"
        },
        {
         "hovertemplate": "partido=VOTOSBLANCOS<br>anio=%{x}<br>votos=%{y}<extra></extra>",
         "legendgroup": "VOTOSBLANCOS",
         "line": {
          "color": "#FFA15A",
          "dash": "solid"
         },
         "marker": {
          "symbol": "circle"
         },
         "mode": "markers+lines",
         "name": "VOTOSBLANCOS",
         "orientation": "v",
         "showlegend": true,
         "type": "scatter",
         "x": [
          2010,
          2010,
          2010
         ],
         "xaxis": "x",
         "y": [
          975,
          256,
          179
         ],
         "yaxis": "y"
        },
        {
         "hovertemplate": "partido=POLODEMOCRATICOALTERNATIVO<br>anio=%{x}<br>votos=%{y}<extra></extra>",
         "legendgroup": "POLODEMOCRATICOALTERNATIVO",
         "line": {
          "color": "#19d3f3",
          "dash": "solid"
         },
         "marker": {
          "symbol": "circle"
         },
         "mode": "markers+lines",
         "name": "POLODEMOCRATICOALTERNATIVO",
         "orientation": "v",
         "showlegend": true,
         "type": "scatter",
         "x": [
          2010,
          2010,
          2014
         ],
         "xaxis": "x",
         "y": [
          1477,
          170,
          2513
         ],
         "yaxis": "y"
        },
        {
         "hovertemplate": "partido=PARTIDOVERDE<br>anio=%{x}<br>votos=%{y}<extra></extra>",
         "legendgroup": "PARTIDOVERDE",
         "line": {
          "color": "#FF6692",
          "dash": "solid"
         },
         "marker": {
          "symbol": "circle"
         },
         "mode": "markers+lines",
         "name": "PARTIDOVERDE",
         "orientation": "v",
         "showlegend": true,
         "type": "scatter",
         "x": [
          2010
         ],
         "xaxis": "x",
         "y": [
          2640
         ],
         "yaxis": "y"
        },
        {
         "hovertemplate": "partido=PARTIDOSOCIALDEUNIDADNACIONALPARTIDODELAU<br>anio=%{x}<br>votos=%{y}<extra></extra>",
         "legendgroup": "PARTIDOSOCIALDEUNIDADNACIONALPARTIDODELAU",
         "line": {
          "color": "#B6E880",
          "dash": "solid"
         },
         "marker": {
          "symbol": "circle"
         },
         "mode": "markers+lines",
         "name": "PARTIDOSOCIALDEUNIDADNACIONALPARTIDODELAU",
         "orientation": "v",
         "showlegend": true,
         "type": "scatter",
         "x": [
          2010,
          2018
         ],
         "xaxis": "x",
         "y": [
          8096,
          13829
         ],
         "yaxis": "y"
        },
        {
         "hovertemplate": "partido=PARTIDOLIBERALCOLOMBIANO<br>anio=%{x}<br>votos=%{y}<extra></extra>",
         "legendgroup": "PARTIDOLIBERALCOLOMBIANO",
         "line": {
          "color": "#FF97FF",
          "dash": "solid"
         },
         "marker": {
          "symbol": "circle"
         },
         "mode": "markers+lines",
         "name": "PARTIDOLIBERALCOLOMBIANO",
         "orientation": "v",
         "showlegend": true,
         "type": "scatter",
         "x": [
          2010,
          2014,
          2018,
          2022
         ],
         "xaxis": "x",
         "y": [
          2994,
          3053,
          4241,
          3198
         ],
         "yaxis": "y"
        },
        {
         "hovertemplate": "partido=PARTIDODEINTEGRACIONNACIONALPIN<br>anio=%{x}<br>votos=%{y}<extra></extra>",
         "legendgroup": "PARTIDODEINTEGRACIONNACIONALPIN",
         "line": {
          "color": "#FECB52",
          "dash": "solid"
         },
         "marker": {
          "symbol": "circle"
         },
         "mode": "markers+lines",
         "name": "PARTIDODEINTEGRACIONNACIONALPIN",
         "orientation": "v",
         "showlegend": true,
         "type": "scatter",
         "x": [
          2010
         ],
         "xaxis": "x",
         "y": [
          349
         ],
         "yaxis": "y"
        },
        {
         "hovertemplate": "partido=VOTOSNULOS<br>anio=%{x}<br>votos=%{y}<extra></extra>",
         "legendgroup": "VOTOSNULOS",
         "line": {
          "color": "#636efa",
          "dash": "solid"
         },
         "marker": {
          "symbol": "circle"
         },
         "mode": "markers+lines",
         "name": "VOTOSNULOS",
         "orientation": "v",
         "showlegend": true,
         "type": "scatter",
         "x": [
          2010,
          2014,
          2018
         ],
         "xaxis": "x",
         "y": [
          5772,
          6264,
          8448
         ],
         "yaxis": "y"
        },
        {
         "hovertemplate": "partido=PARTIDOCAMBIORADICAL<br>anio=%{x}<br>votos=%{y}<extra></extra>",
         "legendgroup": "PARTIDOCAMBIORADICAL",
         "line": {
          "color": "#EF553B",
          "dash": "solid"
         },
         "marker": {
          "symbol": "circle"
         },
         "mode": "markers+lines",
         "name": "PARTIDOCAMBIORADICAL",
         "orientation": "v",
         "showlegend": true,
         "type": "scatter",
         "x": [
          2010,
          2014,
          2018
         ],
         "xaxis": "x",
         "y": [
          484,
          3231,
          2792
         ],
         "yaxis": "y"
        },
        {
         "hovertemplate": "partido=MOVIMIENTOINDEPENDIENTEDERENOVACIONABSOLUTAMIRA<br>anio=%{x}<br>votos=%{y}<extra></extra>",
         "legendgroup": "MOVIMIENTOINDEPENDIENTEDERENOVACIONABSOLUTAMIRA",
         "line": {
          "color": "#00cc96",
          "dash": "solid"
         },
         "marker": {
          "symbol": "circle"
         },
         "mode": "markers+lines",
         "name": "MOVIMIENTOINDEPENDIENTEDERENOVACIONABSOLUTAMIRA",
         "orientation": "v",
         "showlegend": true,
         "type": "scatter",
         "x": [
          2010
         ],
         "xaxis": "x",
         "y": [
          5914
         ],
         "yaxis": "y"
        },
        {
         "hovertemplate": "partido=MOVIMIENTODEAUTORIDADESINDIGENASDECOLOMBIAAICO<br>anio=%{x}<br>votos=%{y}<extra></extra>",
         "legendgroup": "MOVIMIENTODEAUTORIDADESINDIGENASDECOLOMBIAAICO",
         "line": {
          "color": "#ab63fa",
          "dash": "solid"
         },
         "marker": {
          "symbol": "circle"
         },
         "mode": "markers+lines",
         "name": "MOVIMIENTODEAUTORIDADESINDIGENASDECOLOMBIAAICO",
         "orientation": "v",
         "showlegend": true,
         "type": "scatter",
         "x": [
          2010,
          2010
         ],
         "xaxis": "x",
         "y": [
          277,
          125
         ],
         "yaxis": "y"
        },
        {
         "hovertemplate": "partido=MOVIMIENTOAPERTURALIBERAL<br>anio=%{x}<br>votos=%{y}<extra></extra>",
         "legendgroup": "MOVIMIENTOAPERTURALIBERAL",
         "line": {
          "color": "#FFA15A",
          "dash": "solid"
         },
         "marker": {
          "symbol": "circle"
         },
         "mode": "markers+lines",
         "name": "MOVIMIENTOAPERTURALIBERAL",
         "orientation": "v",
         "showlegend": true,
         "type": "scatter",
         "x": [
          2010
         ],
         "xaxis": "x",
         "y": [
          86
         ],
         "yaxis": "y"
        },
        {
         "hovertemplate": "partido=VOTOSNOMARCADOS<br>anio=%{x}<br>votos=%{y}<extra></extra>",
         "legendgroup": "VOTOSNOMARCADOS",
         "line": {
          "color": "#19d3f3",
          "dash": "solid"
         },
         "marker": {
          "symbol": "circle"
         },
         "mode": "markers+lines",
         "name": "VOTOSNOMARCADOS",
         "orientation": "v",
         "showlegend": true,
         "type": "scatter",
         "x": [
          2010
         ],
         "xaxis": "x",
         "y": [
          1218
         ],
         "yaxis": "y"
        },
        {
         "hovertemplate": "partido=PARTIDOCONSERVADORCOLOMBIANO<br>anio=%{x}<br>votos=%{y}<extra></extra>",
         "legendgroup": "PARTIDOCONSERVADORCOLOMBIANO",
         "line": {
          "color": "#FF6692",
          "dash": "solid"
         },
         "marker": {
          "symbol": "circle"
         },
         "mode": "markers+lines",
         "name": "PARTIDOCONSERVADORCOLOMBIANO",
         "orientation": "v",
         "showlegend": true,
         "type": "scatter",
         "x": [
          2010,
          2014,
          2018,
          2022
         ],
         "xaxis": "x",
         "y": [
          2308,
          5621,
          3962,
          4154
         ],
         "yaxis": "y"
        },
        {
         "hovertemplate": "partido=ORGANIZACIONSOCIALDECOMUNIDADESNEGRASANGELADAVIS<br>anio=%{x}<br>votos=%{y}<extra></extra>",
         "legendgroup": "ORGANIZACIONSOCIALDECOMUNIDADESNEGRASANGELADAVIS",
         "line": {
          "color": "#B6E880",
          "dash": "solid"
         },
         "marker": {
          "symbol": "circle"
         },
         "mode": "markers+lines",
         "name": "ORGANIZACIONSOCIALDECOMUNIDADESNEGRASANGELADAVIS",
         "orientation": "v",
         "showlegend": true,
         "type": "scatter",
         "x": [
          2010
         ],
         "xaxis": "x",
         "y": [
          4
         ],
         "yaxis": "y"
        },
        {
         "hovertemplate": "partido=FUNDACIONCULTURALRAICESNEGRAS<br>anio=%{x}<br>votos=%{y}<extra></extra>",
         "legendgroup": "FUNDACIONCULTURALRAICESNEGRAS",
         "line": {
          "color": "#FF97FF",
          "dash": "solid"
         },
         "marker": {
          "symbol": "circle"
         },
         "mode": "markers+lines",
         "name": "FUNDACIONCULTURALRAICESNEGRAS",
         "orientation": "v",
         "showlegend": true,
         "type": "scatter",
         "x": [
          2010
         ],
         "xaxis": "x",
         "y": [
          12
         ],
         "yaxis": "y"
        },
        {
         "hovertemplate": "partido=MOVIMIENTONACIONALCIMARRON<br>anio=%{x}<br>votos=%{y}<extra></extra>",
         "legendgroup": "MOVIMIENTONACIONALCIMARRON",
         "line": {
          "color": "#FECB52",
          "dash": "solid"
         },
         "marker": {
          "symbol": "circle"
         },
         "mode": "markers+lines",
         "name": "MOVIMIENTONACIONALCIMARRON",
         "orientation": "v",
         "showlegend": true,
         "type": "scatter",
         "x": [
          2010
         ],
         "xaxis": "x",
         "y": [
          7
         ],
         "yaxis": "y"
        },
        {
         "hovertemplate": "partido=FUNDACIONAFROYCULTURALAESPERANZAFACE<br>anio=%{x}<br>votos=%{y}<extra></extra>",
         "legendgroup": "FUNDACIONAFROYCULTURALAESPERANZAFACE",
         "line": {
          "color": "#636efa",
          "dash": "solid"
         },
         "marker": {
          "symbol": "circle"
         },
         "mode": "markers+lines",
         "name": "FUNDACIONAFROYCULTURALAESPERANZAFACE",
         "orientation": "v",
         "showlegend": true,
         "type": "scatter",
         "x": [
          2010
         ],
         "xaxis": "x",
         "y": [
          4
         ],
         "yaxis": "y"
        },
        {
         "hovertemplate": "partido=ASOCIACIONAFRODECENDIENTEREVIVIRFERMINSALAS<br>anio=%{x}<br>votos=%{y}<extra></extra>",
         "legendgroup": "ASOCIACIONAFRODECENDIENTEREVIVIRFERMINSALAS",
         "line": {
          "color": "#EF553B",
          "dash": "solid"
         },
         "marker": {
          "symbol": "circle"
         },
         "mode": "markers+lines",
         "name": "ASOCIACIONAFRODECENDIENTEREVIVIRFERMINSALAS",
         "orientation": "v",
         "showlegend": true,
         "type": "scatter",
         "x": [
          2010
         ],
         "xaxis": "x",
         "y": [
          6
         ],
         "yaxis": "y"
        },
        {
         "hovertemplate": "partido=ASOCIACIONDEPROFESIONALESAFROCOLOMBIANOSASOPRA<br>anio=%{x}<br>votos=%{y}<extra></extra>",
         "legendgroup": "ASOCIACIONDEPROFESIONALESAFROCOLOMBIANOSASOPRA",
         "line": {
          "color": "#00cc96",
          "dash": "solid"
         },
         "marker": {
          "symbol": "circle"
         },
         "mode": "markers+lines",
         "name": "ASOCIACIONDEPROFESIONALESAFROCOLOMBIANOSASOPRA",
         "orientation": "v",
         "showlegend": true,
         "type": "scatter",
         "x": [
          2010
         ],
         "xaxis": "x",
         "y": [
          20
         ],
         "yaxis": "y"
        },
        {
         "hovertemplate": "partido=ASOCIACIONDEMUJERESAFROCOLOMBIANASHIJASDEYEMAYA<br>anio=%{x}<br>votos=%{y}<extra></extra>",
         "legendgroup": "ASOCIACIONDEMUJERESAFROCOLOMBIANASHIJASDEYEMAYA",
         "line": {
          "color": "#ab63fa",
          "dash": "solid"
         },
         "marker": {
          "symbol": "circle"
         },
         "mode": "markers+lines",
         "name": "ASOCIACIONDEMUJERESAFROCOLOMBIANASHIJASDEYEMAYA",
         "orientation": "v",
         "showlegend": true,
         "type": "scatter",
         "x": [
          2010
         ],
         "xaxis": "x",
         "y": [
          14
         ],
         "yaxis": "y"
        },
        {
         "hovertemplate": "partido=ASOCIACIONDEDESPLAZADOSDELACOSTAPACIFICARESIDENTES<br>anio=%{x}<br>votos=%{y}<extra></extra>",
         "legendgroup": "ASOCIACIONDEDESPLAZADOSDELACOSTAPACIFICARESIDENTES",
         "line": {
          "color": "#FFA15A",
          "dash": "solid"
         },
         "marker": {
          "symbol": "circle"
         },
         "mode": "markers+lines",
         "name": "ASOCIACIONDEDESPLAZADOSDELACOSTAPACIFICARESIDENTES",
         "orientation": "v",
         "showlegend": true,
         "type": "scatter",
         "x": [
          2010
         ],
         "xaxis": "x",
         "y": [
          5
         ],
         "yaxis": "y"
        },
        {
         "hovertemplate": "partido=ASOCIACIONDECOMUNIDADESNEGRASDEGUACOCHEVALLEDUPARC<br>anio=%{x}<br>votos=%{y}<extra></extra>",
         "legendgroup": "ASOCIACIONDECOMUNIDADESNEGRASDEGUACOCHEVALLEDUPARC",
         "line": {
          "color": "#19d3f3",
          "dash": "solid"
         },
         "marker": {
          "symbol": "circle"
         },
         "mode": "markers+lines",
         "name": "ASOCIACIONDECOMUNIDADESNEGRASDEGUACOCHEVALLEDUPARC",
         "orientation": "v",
         "showlegend": true,
         "type": "scatter",
         "x": [
          2010
         ],
         "xaxis": "x",
         "y": [
          2
         ],
         "yaxis": "y"
        },
        {
         "hovertemplate": "partido=ASOCIACIONDECOMUNIDADESAFROCOLOMBIANASDELMUNICIPIODE<br>anio=%{x}<br>votos=%{y}<extra></extra>",
         "legendgroup": "ASOCIACIONDECOMUNIDADESAFROCOLOMBIANASDELMUNICIPIODE",
         "line": {
          "color": "#FF6692",
          "dash": "solid"
         },
         "marker": {
          "symbol": "circle"
         },
         "mode": "markers+lines",
         "name": "ASOCIACIONDECOMUNIDADESAFROCOLOMBIANASDELMUNICIPIODE",
         "orientation": "v",
         "showlegend": true,
         "type": "scatter",
         "x": [
          2010
         ],
         "xaxis": "x",
         "y": [
          13
         ],
         "yaxis": "y"
        },
        {
         "hovertemplate": "partido=ASOCIACIONDEAFRODESCENDIENTESDELMUNICIPIODENECOCLIA<br>anio=%{x}<br>votos=%{y}<extra></extra>",
         "legendgroup": "ASOCIACIONDEAFRODESCENDIENTESDELMUNICIPIODENECOCLIA",
         "line": {
          "color": "#B6E880",
          "dash": "solid"
         },
         "marker": {
          "symbol": "circle"
         },
         "mode": "markers+lines",
         "name": "ASOCIACIONDEAFRODESCENDIENTESDELMUNICIPIODENECOCLIA",
         "orientation": "v",
         "showlegend": true,
         "type": "scatter",
         "x": [
          2010
         ],
         "xaxis": "x",
         "y": [
          8
         ],
         "yaxis": "y"
        },
        {
         "hovertemplate": "partido=ASOCIACIONDEAFROCOLOMBIANOSPARALAVIVIENDADEPORTEE<br>anio=%{x}<br>votos=%{y}<extra></extra>",
         "legendgroup": "ASOCIACIONDEAFROCOLOMBIANOSPARALAVIVIENDADEPORTEE",
         "line": {
          "color": "#FF97FF",
          "dash": "solid"
         },
         "marker": {
          "symbol": "circle"
         },
         "mode": "markers+lines",
         "name": "ASOCIACIONDEAFROCOLOMBIANOSPARALAVIVIENDADEPORTEE",
         "orientation": "v",
         "showlegend": true,
         "type": "scatter",
         "x": [
          2010
         ],
         "xaxis": "x",
         "y": [
          17
         ],
         "yaxis": "y"
        },
        {
         "hovertemplate": "partido=ASOCIACIONAFROMONTELIBANENSEANASTASIOSIERRACIMARRON<br>anio=%{x}<br>votos=%{y}<extra></extra>",
         "legendgroup": "ASOCIACIONAFROMONTELIBANENSEANASTASIOSIERRACIMARRON",
         "line": {
          "color": "#FECB52",
          "dash": "solid"
         },
         "marker": {
          "symbol": "circle"
         },
         "mode": "markers+lines",
         "name": "ASOCIACIONAFROMONTELIBANENSEANASTASIOSIERRACIMARRON",
         "orientation": "v",
         "showlegend": true,
         "type": "scatter",
         "x": [
          2010
         ],
         "xaxis": "x",
         "y": [
          2
         ],
         "yaxis": "y"
        },
        {
         "hovertemplate": "partido=FUNDACIONCOMUNIDADESDELPACIFICOCOLOMBIANOFUNCOPACOL<br>anio=%{x}<br>votos=%{y}<extra></extra>",
         "legendgroup": "FUNDACIONCOMUNIDADESDELPACIFICOCOLOMBIANOFUNCOPACOL",
         "line": {
          "color": "#636efa",
          "dash": "solid"
         },
         "marker": {
          "symbol": "circle"
         },
         "mode": "markers+lines",
         "name": "FUNDACIONCOMUNIDADESDELPACIFICOCOLOMBIANOFUNCOPACOL",
         "orientation": "v",
         "showlegend": true,
         "type": "scatter",
         "x": [
          2010
         ],
         "xaxis": "x",
         "y": [
          3
         ],
         "yaxis": "y"
        },
        {
         "hovertemplate": "partido=ASOCIACIONCOLECTIVOAFRODESCENDIENTESPRODERECHOSHUMANO<br>anio=%{x}<br>votos=%{y}<extra></extra>",
         "legendgroup": "ASOCIACIONCOLECTIVOAFRODESCENDIENTESPRODERECHOSHUMANO",
         "line": {
          "color": "#EF553B",
          "dash": "solid"
         },
         "marker": {
          "symbol": "circle"
         },
         "mode": "markers+lines",
         "name": "ASOCIACIONCOLECTIVOAFRODESCENDIENTESPRODERECHOSHUMANO",
         "orientation": "v",
         "showlegend": true,
         "type": "scatter",
         "x": [
          2010
         ],
         "xaxis": "x",
         "y": [
          2
         ],
         "yaxis": "y"
        },
        {
         "hovertemplate": "partido=ASOCIACIONDAMOSLAMANOASODM<br>anio=%{x}<br>votos=%{y}<extra></extra>",
         "legendgroup": "ASOCIACIONDAMOSLAMANOASODM",
         "line": {
          "color": "#00cc96",
          "dash": "solid"
         },
         "marker": {
          "symbol": "circle"
         },
         "mode": "markers+lines",
         "name": "ASOCIACIONDAMOSLAMANOASODM",
         "orientation": "v",
         "showlegend": true,
         "type": "scatter",
         "x": [
          2010
         ],
         "xaxis": "x",
         "y": [
          12
         ],
         "yaxis": "y"
        },
        {
         "hovertemplate": "partido=ASOCIACIONMISIONCOLOMBIA<br>anio=%{x}<br>votos=%{y}<extra></extra>",
         "legendgroup": "ASOCIACIONMISIONCOLOMBIA",
         "line": {
          "color": "#ab63fa",
          "dash": "solid"
         },
         "marker": {
          "symbol": "circle"
         },
         "mode": "markers+lines",
         "name": "ASOCIACIONMISIONCOLOMBIA",
         "orientation": "v",
         "showlegend": true,
         "type": "scatter",
         "x": [
          2010
         ],
         "xaxis": "x",
         "y": [
          13
         ],
         "yaxis": "y"
        },
        {
         "hovertemplate": "partido=ASOCIACIONKUAGROSOCIALLOSMARLINSAKUASOMAR<br>anio=%{x}<br>votos=%{y}<extra></extra>",
         "legendgroup": "ASOCIACIONKUAGROSOCIALLOSMARLINSAKUASOMAR",
         "line": {
          "color": "#FFA15A",
          "dash": "solid"
         },
         "marker": {
          "symbol": "circle"
         },
         "mode": "markers+lines",
         "name": "ASOCIACIONKUAGROSOCIALLOSMARLINSAKUASOMAR",
         "orientation": "v",
         "showlegend": true,
         "type": "scatter",
         "x": [
          2010
         ],
         "xaxis": "x",
         "y": [
          1
         ],
         "yaxis": "y"
        },
        {
         "hovertemplate": "partido=ASOCIACIONNACIONALDEESTUDIANTESAFROCOLOMBIANOSASNEA<br>anio=%{x}<br>votos=%{y}<extra></extra>",
         "legendgroup": "ASOCIACIONNACIONALDEESTUDIANTESAFROCOLOMBIANOSASNEA",
         "line": {
          "color": "#19d3f3",
          "dash": "solid"
         },
         "marker": {
          "symbol": "circle"
         },
         "mode": "markers+lines",
         "name": "ASOCIACIONNACIONALDEESTUDIANTESAFROCOLOMBIANOSASNEA",
         "orientation": "v",
         "showlegend": true,
         "type": "scatter",
         "x": [
          2010
         ],
         "xaxis": "x",
         "y": [
          14
         ],
         "yaxis": "y"
        },
        {
         "hovertemplate": "partido=ASOCIACIONCIVICAFUERZASNEGRAS<br>anio=%{x}<br>votos=%{y}<extra></extra>",
         "legendgroup": "ASOCIACIONCIVICAFUERZASNEGRAS",
         "line": {
          "color": "#FF6692",
          "dash": "solid"
         },
         "marker": {
          "symbol": "circle"
         },
         "mode": "markers+lines",
         "name": "ASOCIACIONCIVICAFUERZASNEGRAS",
         "orientation": "v",
         "showlegend": true,
         "type": "scatter",
         "x": [
          2010
         ],
         "xaxis": "x",
         "y": [
          10
         ],
         "yaxis": "y"
        },
        {
         "hovertemplate": "partido=ASOCIACIONAFROCOLOMBIANAINTERCAMBIODEEXPERIENCIASAIE<br>anio=%{x}<br>votos=%{y}<extra></extra>",
         "legendgroup": "ASOCIACIONAFROCOLOMBIANAINTERCAMBIODEEXPERIENCIASAIE",
         "line": {
          "color": "#B6E880",
          "dash": "solid"
         },
         "marker": {
          "symbol": "circle"
         },
         "mode": "markers+lines",
         "name": "ASOCIACIONAFROCOLOMBIANAINTERCAMBIODEEXPERIENCIASAIE",
         "orientation": "v",
         "showlegend": true,
         "type": "scatter",
         "x": [
          2010
         ],
         "xaxis": "x",
         "y": [
          2
         ],
         "yaxis": "y"
        },
        {
         "hovertemplate": "partido=ALIANZASOCIALAFROCOLOMBIANAASA<br>anio=%{x}<br>votos=%{y}<extra></extra>",
         "legendgroup": "ALIANZASOCIALAFROCOLOMBIANAASA",
         "line": {
          "color": "#FF97FF",
          "dash": "solid"
         },
         "marker": {
          "symbol": "circle"
         },
         "mode": "markers+lines",
         "name": "ALIANZASOCIALAFROCOLOMBIANAASA",
         "orientation": "v",
         "showlegend": true,
         "type": "scatter",
         "x": [
          2010
         ],
         "xaxis": "x",
         "y": [
          28
         ],
         "yaxis": "y"
        },
        {
         "hovertemplate": "partido=CORPORACIONSOCIALEINTEGRALDELPACIFICOCORPOSINPAC<br>anio=%{x}<br>votos=%{y}<extra></extra>",
         "legendgroup": "CORPORACIONSOCIALEINTEGRALDELPACIFICOCORPOSINPAC",
         "line": {
          "color": "#FECB52",
          "dash": "solid"
         },
         "marker": {
          "symbol": "circle"
         },
         "mode": "markers+lines",
         "name": "CORPORACIONSOCIALEINTEGRALDELPACIFICOCORPOSINPAC",
         "orientation": "v",
         "showlegend": true,
         "type": "scatter",
         "x": [
          2010
         ],
         "xaxis": "x",
         "y": [
          8
         ],
         "yaxis": "y"
        },
        {
         "hovertemplate": "partido=ASOCIACIONNUEVAVIDA<br>anio=%{x}<br>votos=%{y}<extra></extra>",
         "legendgroup": "ASOCIACIONNUEVAVIDA",
         "line": {
          "color": "#636efa",
          "dash": "solid"
         },
         "marker": {
          "symbol": "circle"
         },
         "mode": "markers+lines",
         "name": "ASOCIACIONNUEVAVIDA",
         "orientation": "v",
         "showlegend": true,
         "type": "scatter",
         "x": [
          2010
         ],
         "xaxis": "x",
         "y": [
          1
         ],
         "yaxis": "y"
        },
        {
         "hovertemplate": "partido=CORPORACIONNELSONMANDELACORMANDELA<br>anio=%{x}<br>votos=%{y}<extra></extra>",
         "legendgroup": "CORPORACIONNELSONMANDELACORMANDELA",
         "line": {
          "color": "#EF553B",
          "dash": "solid"
         },
         "marker": {
          "symbol": "circle"
         },
         "mode": "markers+lines",
         "name": "CORPORACIONNELSONMANDELACORMANDELA",
         "orientation": "v",
         "showlegend": true,
         "type": "scatter",
         "x": [
          2010
         ],
         "xaxis": "x",
         "y": [
          6
         ],
         "yaxis": "y"
        },
        {
         "hovertemplate": "partido=CORPORACIONDELIDERAZGOYDESARROLLOEMPRESARIALAFROCOLO<br>anio=%{x}<br>votos=%{y}<extra></extra>",
         "legendgroup": "CORPORACIONDELIDERAZGOYDESARROLLOEMPRESARIALAFROCOLO",
         "line": {
          "color": "#00cc96",
          "dash": "solid"
         },
         "marker": {
          "symbol": "circle"
         },
         "mode": "markers+lines",
         "name": "CORPORACIONDELIDERAZGOYDESARROLLOEMPRESARIALAFROCOLO",
         "orientation": "v",
         "showlegend": true,
         "type": "scatter",
         "x": [
          2010
         ],
         "xaxis": "x",
         "y": [
          5
         ],
         "yaxis": "y"
        },
        {
         "hovertemplate": "partido=COPORACIONPARAELDESARROLLOYCAPACITACIONDEBUENAVENTU<br>anio=%{x}<br>votos=%{y}<extra></extra>",
         "legendgroup": "COPORACIONPARAELDESARROLLOYCAPACITACIONDEBUENAVENTU",
         "line": {
          "color": "#ab63fa",
          "dash": "solid"
         },
         "marker": {
          "symbol": "circle"
         },
         "mode": "markers+lines",
         "name": "COPORACIONPARAELDESARROLLOYCAPACITACIONDEBUENAVENTU",
         "orientation": "v",
         "showlegend": true,
         "type": "scatter",
         "x": [
          2010
         ],
         "xaxis": "x",
         "y": [
          8
         ],
         "yaxis": "y"
        },
        {
         "hovertemplate": "partido=CORPORACIONCIMARRON<br>anio=%{x}<br>votos=%{y}<extra></extra>",
         "legendgroup": "CORPORACIONCIMARRON",
         "line": {
          "color": "#FFA15A",
          "dash": "solid"
         },
         "marker": {
          "symbol": "circle"
         },
         "mode": "markers+lines",
         "name": "CORPORACIONCIMARRON",
         "orientation": "v",
         "showlegend": true,
         "type": "scatter",
         "x": [
          2010
         ],
         "xaxis": "x",
         "y": [
          3
         ],
         "yaxis": "y"
        },
        {
         "hovertemplate": "partido=CORPORACIONAFROETNICO<br>anio=%{x}<br>votos=%{y}<extra></extra>",
         "legendgroup": "CORPORACIONAFROETNICO",
         "line": {
          "color": "#19d3f3",
          "dash": "solid"
         },
         "marker": {
          "symbol": "circle"
         },
         "mode": "markers+lines",
         "name": "CORPORACIONAFROETNICO",
         "orientation": "v",
         "showlegend": true,
         "type": "scatter",
         "x": [
          2010
         ],
         "xaxis": "x",
         "y": [
          4
         ],
         "yaxis": "y"
        },
        {
         "hovertemplate": "partido=CORPORACIONAFROCOLOMBIANAMALCOLMX<br>anio=%{x}<br>votos=%{y}<extra></extra>",
         "legendgroup": "CORPORACIONAFROCOLOMBIANAMALCOLMX",
         "line": {
          "color": "#FF6692",
          "dash": "solid"
         },
         "marker": {
          "symbol": "circle"
         },
         "mode": "markers+lines",
         "name": "CORPORACIONAFROCOLOMBIANAMALCOLMX",
         "orientation": "v",
         "showlegend": true,
         "type": "scatter",
         "x": [
          2010
         ],
         "xaxis": "x",
         "y": [
          2
         ],
         "yaxis": "y"
        },
        {
         "hovertemplate": "partido=CORPORACIONAFROCARTAGENAAFROCAR<br>anio=%{x}<br>votos=%{y}<extra></extra>",
         "legendgroup": "CORPORACIONAFROCARTAGENAAFROCAR",
         "line": {
          "color": "#B6E880",
          "dash": "solid"
         },
         "marker": {
          "symbol": "circle"
         },
         "mode": "markers+lines",
         "name": "CORPORACIONAFROCARTAGENAAFROCAR",
         "orientation": "v",
         "showlegend": true,
         "type": "scatter",
         "x": [
          2010
         ],
         "xaxis": "x",
         "y": [
          8
         ],
         "yaxis": "y"
        },
        {
         "hovertemplate": "partido=CORPORACIONABOSAOCORABOSAO<br>anio=%{x}<br>votos=%{y}<extra></extra>",
         "legendgroup": "CORPORACIONABOSAOCORABOSAO",
         "line": {
          "color": "#FF97FF",
          "dash": "solid"
         },
         "marker": {
          "symbol": "circle"
         },
         "mode": "markers+lines",
         "name": "CORPORACIONABOSAOCORABOSAO",
         "orientation": "v",
         "showlegend": true,
         "type": "scatter",
         "x": [
          2010
         ],
         "xaxis": "x",
         "y": [
          9
         ],
         "yaxis": "y"
        },
        {
         "hovertemplate": "partido=ASOCIACIONPORLOSDERECHOSDELASCOMUNIDADESNEGRASDEL<br>anio=%{x}<br>votos=%{y}<extra></extra>",
         "legendgroup": "ASOCIACIONPORLOSDERECHOSDELASCOMUNIDADESNEGRASDEL",
         "line": {
          "color": "#FECB52",
          "dash": "solid"
         },
         "marker": {
          "symbol": "circle"
         },
         "mode": "markers+lines",
         "name": "ASOCIACIONPORLOSDERECHOSDELASCOMUNIDADESNEGRASDEL",
         "orientation": "v",
         "showlegend": true,
         "type": "scatter",
         "x": [
          2010
         ],
         "xaxis": "x",
         "y": [
          2
         ],
         "yaxis": "y"
        },
        {
         "hovertemplate": "partido=CONVIVENCIAPACIFICAFUNDACION<br>anio=%{x}<br>votos=%{y}<extra></extra>",
         "legendgroup": "CONVIVENCIAPACIFICAFUNDACION",
         "line": {
          "color": "#636efa",
          "dash": "solid"
         },
         "marker": {
          "symbol": "circle"
         },
         "mode": "markers+lines",
         "name": "CONVIVENCIAPACIFICAFUNDACION",
         "orientation": "v",
         "showlegend": true,
         "type": "scatter",
         "x": [
          2010
         ],
         "xaxis": "x",
         "y": [
          8
         ],
         "yaxis": "y"
        },
        {
         "hovertemplate": "partido=CONSEJOCOMUNITARIODELAINSPECCIONDEPOLICIADEPUERTO<br>anio=%{x}<br>votos=%{y}<extra></extra>",
         "legendgroup": "CONSEJOCOMUNITARIODELAINSPECCIONDEPOLICIADEPUERTO",
         "line": {
          "color": "#EF553B",
          "dash": "solid"
         },
         "marker": {
          "symbol": "circle"
         },
         "mode": "markers+lines",
         "name": "CONSEJOCOMUNITARIODELAINSPECCIONDEPOLICIADEPUERTO",
         "orientation": "v",
         "showlegend": true,
         "type": "scatter",
         "x": [
          2010
         ],
         "xaxis": "x",
         "y": [
          3
         ],
         "yaxis": "y"
        },
        {
         "hovertemplate": "partido=CONSEJOCOMUNITARIODECORDOBAYSANCIPRIANODELMUNICIPI<br>anio=%{x}<br>votos=%{y}<extra></extra>",
         "legendgroup": "CONSEJOCOMUNITARIODECORDOBAYSANCIPRIANODELMUNICIPI",
         "line": {
          "color": "#00cc96",
          "dash": "solid"
         },
         "marker": {
          "symbol": "circle"
         },
         "mode": "markers+lines",
         "name": "CONSEJOCOMUNITARIODECORDOBAYSANCIPRIANODELMUNICIPI",
         "orientation": "v",
         "showlegend": true,
         "type": "scatter",
         "x": [
          2010
         ],
         "xaxis": "x",
         "y": [
          3
         ],
         "yaxis": "y"
        },
        {
         "hovertemplate": "partido=COMUNIDADESAFROCOLOMBIANASYNEGRITUDESORGANIZADASPARA<br>anio=%{x}<br>votos=%{y}<extra></extra>",
         "legendgroup": "COMUNIDADESAFROCOLOMBIANASYNEGRITUDESORGANIZADASPARA",
         "line": {
          "color": "#ab63fa",
          "dash": "solid"
         },
         "marker": {
          "symbol": "circle"
         },
         "mode": "markers+lines",
         "name": "COMUNIDADESAFROCOLOMBIANASYNEGRITUDESORGANIZADASPARA",
         "orientation": "v",
         "showlegend": true,
         "type": "scatter",
         "x": [
          2010
         ],
         "xaxis": "x",
         "y": [
          3
         ],
         "yaxis": "y"
        },
        {
         "hovertemplate": "partido=ASOCIACIONPORLOSDERECHOSDELASCOMUNIDADESNEGRASDES<br>anio=%{x}<br>votos=%{y}<extra></extra>",
         "legendgroup": "ASOCIACIONPORLOSDERECHOSDELASCOMUNIDADESNEGRASDES",
         "line": {
          "color": "#FFA15A",
          "dash": "solid"
         },
         "marker": {
          "symbol": "circle"
         },
         "mode": "markers+lines",
         "name": "ASOCIACIONPORLOSDERECHOSDELASCOMUNIDADESNEGRASDES",
         "orientation": "v",
         "showlegend": true,
         "type": "scatter",
         "x": [
          2010
         ],
         "xaxis": "x",
         "y": [
          4
         ],
         "yaxis": "y"
        },
        {
         "hovertemplate": "partido=ASOCIACIONPORLOSDERECHOSDELASCOMUNIDADESNEGRASDEP<br>anio=%{x}<br>votos=%{y}<extra></extra>",
         "legendgroup": "ASOCIACIONPORLOSDERECHOSDELASCOMUNIDADESNEGRASDEP",
         "line": {
          "color": "#19d3f3",
          "dash": "solid"
         },
         "marker": {
          "symbol": "circle"
         },
         "mode": "markers+lines",
         "name": "ASOCIACIONPORLOSDERECHOSDELASCOMUNIDADESNEGRASDEP",
         "orientation": "v",
         "showlegend": true,
         "type": "scatter",
         "x": [
          2010
         ],
         "xaxis": "x",
         "y": [
          7
         ],
         "yaxis": "y"
        },
        {
         "hovertemplate": "partido=ASOCIACIONPORLOSDERECHOSDELASCOMUNIDADESNEGRASDEB<br>anio=%{x}<br>votos=%{y}<extra></extra>",
         "legendgroup": "ASOCIACIONPORLOSDERECHOSDELASCOMUNIDADESNEGRASDEB",
         "line": {
          "color": "#FF6692",
          "dash": "solid"
         },
         "marker": {
          "symbol": "circle"
         },
         "mode": "markers+lines",
         "name": "ASOCIACIONPORLOSDERECHOSDELASCOMUNIDADESNEGRASDEB",
         "orientation": "v",
         "showlegend": true,
         "type": "scatter",
         "x": [
          2010
         ],
         "xaxis": "x",
         "y": [
          1
         ],
         "yaxis": "y"
        },
        {
         "hovertemplate": "partido=FUNDACIONAFROGUAJIRAFUNAGUA<br>anio=%{x}<br>votos=%{y}<extra></extra>",
         "legendgroup": "FUNDACIONAFROGUAJIRAFUNAGUA",
         "line": {
          "color": "#B6E880",
          "dash": "solid"
         },
         "marker": {
          "symbol": "circle"
         },
         "mode": "markers+lines",
         "name": "FUNDACIONAFROGUAJIRAFUNAGUA",
         "orientation": "v",
         "showlegend": true,
         "type": "scatter",
         "x": [
          2010
         ],
         "xaxis": "x",
         "y": [
          5
         ],
         "yaxis": "y"
        },
        {
         "hovertemplate": "partido=FUNDPARAELDESINTEGDELAFRODESCENDIENTEFUNDIAFRO<br>anio=%{x}<br>votos=%{y}<extra></extra>",
         "legendgroup": "FUNDPARAELDESINTEGDELAFRODESCENDIENTEFUNDIAFRO",
         "line": {
          "color": "#FF97FF",
          "dash": "solid"
         },
         "marker": {
          "symbol": "circle"
         },
         "mode": "markers+lines",
         "name": "FUNDPARAELDESINTEGDELAFRODESCENDIENTEFUNDIAFRO",
         "orientation": "v",
         "showlegend": true,
         "type": "scatter",
         "x": [
          2014
         ],
         "xaxis": "x",
         "y": [
          3
         ],
         "yaxis": "y"
        },
        {
         "hovertemplate": "partido=FUNPROESAT<br>anio=%{x}<br>votos=%{y}<extra></extra>",
         "legendgroup": "FUNPROESAT",
         "line": {
          "color": "#FECB52",
          "dash": "solid"
         },
         "marker": {
          "symbol": "circle"
         },
         "mode": "markers+lines",
         "name": "FUNPROESAT",
         "orientation": "v",
         "showlegend": true,
         "type": "scatter",
         "x": [
          2014
         ],
         "xaxis": "x",
         "y": [
          1
         ],
         "yaxis": "y"
        },
        {
         "hovertemplate": "partido=VOTOENBLANCO<br>anio=%{x}<br>votos=%{y}<extra></extra>",
         "legendgroup": "VOTOENBLANCO",
         "line": {
          "color": "#636efa",
          "dash": "solid"
         },
         "marker": {
          "symbol": "circle"
         },
         "mode": "markers+lines",
         "name": "VOTOENBLANCO",
         "orientation": "v",
         "showlegend": true,
         "type": "scatter",
         "x": [
          2014,
          2014,
          2014,
          2018,
          2018,
          2018
         ],
         "xaxis": "x",
         "y": [
          328,
          4692,
          142,
          5331,
          826,
          767
         ],
         "yaxis": "y"
        },
        {
         "hovertemplate": "partido=LOSPALENKESBELLAVISTACH<br>anio=%{x}<br>votos=%{y}<extra></extra>",
         "legendgroup": "LOSPALENKESBELLAVISTACH",
         "line": {
          "color": "#EF553B",
          "dash": "solid"
         },
         "marker": {
          "symbol": "circle"
         },
         "mode": "markers+lines",
         "name": "LOSPALENKESBELLAVISTACH",
         "orientation": "v",
         "showlegend": true,
         "type": "scatter",
         "x": [
          2014
         ],
         "xaxis": "x",
         "y": [
          12
         ],
         "yaxis": "y"
        },
        {
         "hovertemplate": "partido=FUNDPARAELDESARROLLODELACUENDELPACFCOLOMBIANO<br>anio=%{x}<br>votos=%{y}<extra></extra>",
         "legendgroup": "FUNDPARAELDESARROLLODELACUENDELPACFCOLOMBIANO",
         "line": {
          "color": "#00cc96",
          "dash": "solid"
         },
         "marker": {
          "symbol": "circle"
         },
         "mode": "markers+lines",
         "name": "FUNDPARAELDESARROLLODELACUENDELPACFCOLOMBIANO",
         "orientation": "v",
         "showlegend": true,
         "type": "scatter",
         "x": [
          2014
         ],
         "xaxis": "x",
         "y": [
          15
         ],
         "yaxis": "y"
        },
        {
         "hovertemplate": "partido=ORGTNICACOMUNITARIAAFROCOLOMBIANAOECA<br>anio=%{x}<br>votos=%{y}<extra></extra>",
         "legendgroup": "ORGTNICACOMUNITARIAAFROCOLOMBIANAOECA",
         "line": {
          "color": "#ab63fa",
          "dash": "solid"
         },
         "marker": {
          "symbol": "circle"
         },
         "mode": "markers+lines",
         "name": "ORGTNICACOMUNITARIAAFROCOLOMBIANAOECA",
         "orientation": "v",
         "showlegend": true,
         "type": "scatter",
         "x": [
          2014
         ],
         "xaxis": "x",
         "y": [
          6
         ],
         "yaxis": "y"
        },
        {
         "hovertemplate": "partido=UNETE<br>anio=%{x}<br>votos=%{y}<extra></extra>",
         "legendgroup": "UNETE",
         "line": {
          "color": "#FFA15A",
          "dash": "solid"
         },
         "marker": {
          "symbol": "circle"
         },
         "mode": "markers+lines",
         "name": "UNETE",
         "orientation": "v",
         "showlegend": true,
         "type": "scatter",
         "x": [
          2014
         ],
         "xaxis": "x",
         "y": [
          18
         ],
         "yaxis": "y"
        },
        {
         "hovertemplate": "partido=MOVIMIENTOAFROCOLOMBIANOSOCIOAMBIENTALISTAMACOAS<br>anio=%{x}<br>votos=%{y}<extra></extra>",
         "legendgroup": "MOVIMIENTOAFROCOLOMBIANOSOCIOAMBIENTALISTAMACOAS",
         "line": {
          "color": "#19d3f3",
          "dash": "solid"
         },
         "marker": {
          "symbol": "circle"
         },
         "mode": "markers+lines",
         "name": "MOVIMIENTOAFROCOLOMBIANOSOCIOAMBIENTALISTAMACOAS",
         "orientation": "v",
         "showlegend": true,
         "type": "scatter",
         "x": [
          2014
         ],
         "xaxis": "x",
         "y": [
          11
         ],
         "yaxis": "y"
        },
        {
         "hovertemplate": "partido=MOVIMIENTODEINCLUSINYOPORTUNIDADES<br>anio=%{x}<br>votos=%{y}<extra></extra>",
         "legendgroup": "MOVIMIENTODEINCLUSINYOPORTUNIDADES",
         "line": {
          "color": "#FF6692",
          "dash": "solid"
         },
         "marker": {
          "symbol": "circle"
         },
         "mode": "markers+lines",
         "name": "MOVIMIENTODEINCLUSINYOPORTUNIDADES",
         "orientation": "v",
         "showlegend": true,
         "type": "scatter",
         "x": [
          2014,
          2014
         ],
         "xaxis": "x",
         "y": [
          61,
          23
         ],
         "yaxis": "y"
        },
        {
         "hovertemplate": "partido=SISEPUEDE<br>anio=%{x}<br>votos=%{y}<extra></extra>",
         "legendgroup": "SISEPUEDE",
         "line": {
          "color": "#B6E880",
          "dash": "solid"
         },
         "marker": {
          "symbol": "circle"
         },
         "mode": "markers+lines",
         "name": "SISEPUEDE",
         "orientation": "v",
         "showlegend": true,
         "type": "scatter",
         "x": [
          2014,
          2018
         ],
         "xaxis": "x",
         "y": [
          5,
          35
         ],
         "yaxis": "y"
        },
        {
         "hovertemplate": "partido=FUNDPARAELDESLASOLIDARIYLAINTEGDELASCOMUNNEGRASDECO<br>anio=%{x}<br>votos=%{y}<extra></extra>",
         "legendgroup": "FUNDPARAELDESLASOLIDARIYLAINTEGDELASCOMUNNEGRASDECO",
         "line": {
          "color": "#FF97FF",
          "dash": "solid"
         },
         "marker": {
          "symbol": "circle"
         },
         "mode": "markers+lines",
         "name": "FUNDPARAELDESLASOLIDARIYLAINTEGDELASCOMUNNEGRASDECO",
         "orientation": "v",
         "showlegend": true,
         "type": "scatter",
         "x": [
          2014
         ],
         "xaxis": "x",
         "y": [
          3
         ],
         "yaxis": "y"
        },
        {
         "hovertemplate": "partido=MOVIMIENTOMIRA<br>anio=%{x}<br>votos=%{y}<extra></extra>",
         "legendgroup": "MOVIMIENTOMIRA",
         "line": {
          "color": "#FECB52",
          "dash": "solid"
         },
         "marker": {
          "symbol": "circle"
         },
         "mode": "markers+lines",
         "name": "MOVIMIENTOMIRA",
         "orientation": "v",
         "showlegend": true,
         "type": "scatter",
         "x": [
          2014
         ],
         "xaxis": "x",
         "y": [
          10572
         ],
         "yaxis": "y"
        },
        {
         "hovertemplate": "partido=PARTIDODELAU<br>anio=%{x}<br>votos=%{y}<extra></extra>",
         "legendgroup": "PARTIDODELAU",
         "line": {
          "color": "#636efa",
          "dash": "solid"
         },
         "marker": {
          "symbol": "circle"
         },
         "mode": "markers+lines",
         "name": "PARTIDODELAU",
         "orientation": "v",
         "showlegend": true,
         "type": "scatter",
         "x": [
          2014
         ],
         "xaxis": "x",
         "y": [
          7234
         ],
         "yaxis": "y"
        },
        {
         "hovertemplate": "partido=VOTONOMARCADOS<br>anio=%{x}<br>votos=%{y}<extra></extra>",
         "legendgroup": "VOTONOMARCADOS",
         "line": {
          "color": "#EF553B",
          "dash": "solid"
         },
         "marker": {
          "symbol": "circle"
         },
         "mode": "markers+lines",
         "name": "VOTONOMARCADOS",
         "orientation": "v",
         "showlegend": true,
         "type": "scatter",
         "x": [
          2014,
          2018
         ],
         "xaxis": "x",
         "y": [
          1731,
          2392
         ],
         "yaxis": "y"
        },
        {
         "hovertemplate": "partido=PARTIDOOPCIONCIUDADANA<br>anio=%{x}<br>votos=%{y}<extra></extra>",
         "legendgroup": "PARTIDOOPCIONCIUDADANA",
         "line": {
          "color": "#00cc96",
          "dash": "solid"
         },
         "marker": {
          "symbol": "circle"
         },
         "mode": "markers+lines",
         "name": "PARTIDOOPCIONCIUDADANA",
         "orientation": "v",
         "showlegend": true,
         "type": "scatter",
         "x": [
          2014
         ],
         "xaxis": "x",
         "y": [
          319
         ],
         "yaxis": "y"
        },
        {
         "hovertemplate": "partido=PARTIDOALIANZASOCIALINDEPENDIENTE<br>anio=%{x}<br>votos=%{y}<extra></extra>",
         "legendgroup": "PARTIDOALIANZASOCIALINDEPENDIENTE",
         "line": {
          "color": "#ab63fa",
          "dash": "solid"
         },
         "marker": {
          "symbol": "circle"
         },
         "mode": "markers+lines",
         "name": "PARTIDOALIANZASOCIALINDEPENDIENTE",
         "orientation": "v",
         "showlegend": true,
         "type": "scatter",
         "x": [
          2014,
          2018
         ],
         "xaxis": "x",
         "y": [
          1918,
          810
         ],
         "yaxis": "y"
        },
        {
         "hovertemplate": "partido=PARTIDOUNIONPATRIOTICAUP<br>anio=%{x}<br>votos=%{y}<extra></extra>",
         "legendgroup": "PARTIDOUNIONPATRIOTICAUP",
         "line": {
          "color": "#FFA15A",
          "dash": "solid"
         },
         "marker": {
          "symbol": "circle"
         },
         "mode": "markers+lines",
         "name": "PARTIDOUNIONPATRIOTICAUP",
         "orientation": "v",
         "showlegend": true,
         "type": "scatter",
         "x": [
          2014
         ],
         "xaxis": "x",
         "y": [
          934
         ],
         "yaxis": "y"
        },
        {
         "hovertemplate": "partido=PARTIDOALIANZAVERDE<br>anio=%{x}<br>votos=%{y}<extra></extra>",
         "legendgroup": "PARTIDOALIANZAVERDE",
         "line": {
          "color": "#19d3f3",
          "dash": "solid"
         },
         "marker": {
          "symbol": "circle"
         },
         "mode": "markers+lines",
         "name": "PARTIDOALIANZAVERDE",
         "orientation": "v",
         "showlegend": true,
         "type": "scatter",
         "x": [
          2014,
          2018,
          2022
         ],
         "xaxis": "x",
         "y": [
          3088,
          14876,
          11463
         ],
         "yaxis": "y"
        },
        {
         "hovertemplate": "partido=FUNDACIONFORFUTURO<br>anio=%{x}<br>votos=%{y}<extra></extra>",
         "legendgroup": "FUNDACIONFORFUTURO",
         "line": {
          "color": "#FF6692",
          "dash": "solid"
         },
         "marker": {
          "symbol": "circle"
         },
         "mode": "markers+lines",
         "name": "FUNDACIONFORFUTURO",
         "orientation": "v",
         "showlegend": true,
         "type": "scatter",
         "x": [
          2014
         ],
         "xaxis": "x",
         "y": [
          4
         ],
         "yaxis": "y"
        },
        {
         "hovertemplate": "partido=FUNDACIONEBANODECOLOMBIAFUNECO<br>anio=%{x}<br>votos=%{y}<extra></extra>",
         "legendgroup": "FUNDACIONEBANODECOLOMBIAFUNECO",
         "line": {
          "color": "#B6E880",
          "dash": "solid"
         },
         "marker": {
          "symbol": "circle"
         },
         "mode": "markers+lines",
         "name": "FUNDACIONEBANODECOLOMBIAFUNECO",
         "orientation": "v",
         "showlegend": true,
         "type": "scatter",
         "x": [
          2014
         ],
         "xaxis": "x",
         "y": [
          28
         ],
         "yaxis": "y"
        },
        {
         "hovertemplate": "partido=FUNDACIONAFROCOLOMBIANOSENACCION<br>anio=%{x}<br>votos=%{y}<extra></extra>",
         "legendgroup": "FUNDACIONAFROCOLOMBIANOSENACCION",
         "line": {
          "color": "#FF97FF",
          "dash": "solid"
         },
         "marker": {
          "symbol": "circle"
         },
         "mode": "markers+lines",
         "name": "FUNDACIONAFROCOLOMBIANOSENACCION",
         "orientation": "v",
         "showlegend": true,
         "type": "scatter",
         "x": [
          2014
         ],
         "xaxis": "x",
         "y": [
          25
         ],
         "yaxis": "y"
        },
        {
         "hovertemplate": "partido=RENOVACIONETNICADECOLOMBIA<br>anio=%{x}<br>votos=%{y}<extra></extra>",
         "legendgroup": "RENOVACIONETNICADECOLOMBIA",
         "line": {
          "color": "#FECB52",
          "dash": "solid"
         },
         "marker": {
          "symbol": "circle"
         },
         "mode": "markers+lines",
         "name": "RENOVACIONETNICADECOLOMBIA",
         "orientation": "v",
         "showlegend": true,
         "type": "scatter",
         "x": [
          2014
         ],
         "xaxis": "x",
         "y": [
          33
         ],
         "yaxis": "y"
        },
        {
         "hovertemplate": "partido=MOVUNIDADINDGENAYPOPULARPORCOLMUIPC<br>anio=%{x}<br>votos=%{y}<extra></extra>",
         "legendgroup": "MOVUNIDADINDGENAYPOPULARPORCOLMUIPC",
         "line": {
          "color": "#636efa",
          "dash": "solid"
         },
         "marker": {
          "symbol": "circle"
         },
         "mode": "markers+lines",
         "name": "MOVUNIDADINDGENAYPOPULARPORCOLMUIPC",
         "orientation": "v",
         "showlegend": true,
         "type": "scatter",
         "x": [
          2014
         ],
         "xaxis": "x",
         "y": [
          19
         ],
         "yaxis": "y"
        },
        {
         "hovertemplate": "partido=VIANUEVA<br>anio=%{x}<br>votos=%{y}<extra></extra>",
         "legendgroup": "VIANUEVA",
         "line": {
          "color": "#EF553B",
          "dash": "solid"
         },
         "marker": {
          "symbol": "circle"
         },
         "mode": "markers+lines",
         "name": "VIANUEVA",
         "orientation": "v",
         "showlegend": true,
         "type": "scatter",
         "x": [
          2014
         ],
         "xaxis": "x",
         "y": [
          13
         ],
         "yaxis": "y"
        },
        {
         "hovertemplate": "partido=AFROVIDES<br>anio=%{x}<br>votos=%{y}<extra></extra>",
         "legendgroup": "AFROVIDES",
         "line": {
          "color": "#00cc96",
          "dash": "solid"
         },
         "marker": {
          "symbol": "circle"
         },
         "mode": "markers+lines",
         "name": "AFROVIDES",
         "orientation": "v",
         "showlegend": true,
         "type": "scatter",
         "x": [
          2014
         ],
         "xaxis": "x",
         "y": [
          16
         ],
         "yaxis": "y"
        },
        {
         "hovertemplate": "partido=AIMAC<br>anio=%{x}<br>votos=%{y}<extra></extra>",
         "legendgroup": "AIMAC",
         "line": {
          "color": "#ab63fa",
          "dash": "solid"
         },
         "marker": {
          "symbol": "circle"
         },
         "mode": "markers+lines",
         "name": "AIMAC",
         "orientation": "v",
         "showlegend": true,
         "type": "scatter",
         "x": [
          2014
         ],
         "xaxis": "x",
         "y": [
          8
         ],
         "yaxis": "y"
        },
        {
         "hovertemplate": "partido=MOVIMIENTOALTERNATIVOINDIGENAYSOCIALMAIS<br>anio=%{x}<br>votos=%{y}<extra></extra>",
         "legendgroup": "MOVIMIENTOALTERNATIVOINDIGENAYSOCIALMAIS",
         "line": {
          "color": "#FFA15A",
          "dash": "solid"
         },
         "marker": {
          "symbol": "circle"
         },
         "mode": "markers+lines",
         "name": "MOVIMIENTOALTERNATIVOINDIGENAYSOCIALMAIS",
         "orientation": "v",
         "showlegend": true,
         "type": "scatter",
         "x": [
          2014
         ],
         "xaxis": "x",
         "y": [
          46
         ],
         "yaxis": "y"
        },
        {
         "hovertemplate": "partido=ASOCDEAFRODESCENDIENTESDELMAGDMEDIOAFRODMAM<br>anio=%{x}<br>votos=%{y}<extra></extra>",
         "legendgroup": "ASOCDEAFRODESCENDIENTESDELMAGDMEDIOAFRODMAM",
         "line": {
          "color": "#19d3f3",
          "dash": "solid"
         },
         "marker": {
          "symbol": "circle"
         },
         "mode": "markers+lines",
         "name": "ASOCDEAFRODESCENDIENTESDELMAGDMEDIOAFRODMAM",
         "orientation": "v",
         "showlegend": true,
         "type": "scatter",
         "x": [
          2014
         ],
         "xaxis": "x",
         "y": [
          1
         ],
         "yaxis": "y"
        },
        {
         "hovertemplate": "partido=EMBERACHAMIDELRESGUARDOINDIGENADACHIAGOREDRUA<br>anio=%{x}<br>votos=%{y}<extra></extra>",
         "legendgroup": "EMBERACHAMIDELRESGUARDOINDIGENADACHIAGOREDRUA",
         "line": {
          "color": "#FF6692",
          "dash": "solid"
         },
         "marker": {
          "symbol": "circle"
         },
         "mode": "markers+lines",
         "name": "EMBERACHAMIDELRESGUARDOINDIGENADACHIAGOREDRUA",
         "orientation": "v",
         "showlegend": true,
         "type": "scatter",
         "x": [
          2014
         ],
         "xaxis": "x",
         "y": [
          13
         ],
         "yaxis": "y"
        },
        {
         "hovertemplate": "partido=ASOCDEAUTORIDADESTRADYCABILDOSINDGENASDECOL<br>anio=%{x}<br>votos=%{y}<extra></extra>",
         "legendgroup": "ASOCDEAUTORIDADESTRADYCABILDOSINDGENASDECOL",
         "line": {
          "color": "#B6E880",
          "dash": "solid"
         },
         "marker": {
          "symbol": "circle"
         },
         "mode": "markers+lines",
         "name": "ASOCDEAUTORIDADESTRADYCABILDOSINDGENASDECOL",
         "orientation": "v",
         "showlegend": true,
         "type": "scatter",
         "x": [
          2014
         ],
         "xaxis": "x",
         "y": [
          25
         ],
         "yaxis": "y"
        },
        {
         "hovertemplate": "partido=MOVIMIENTOAUTORIDADESINDIGENASDECOLOMBIA<br>anio=%{x}<br>votos=%{y}<extra></extra>",
         "legendgroup": "MOVIMIENTOAUTORIDADESINDIGENASDECOLOMBIA",
         "line": {
          "color": "#FF97FF",
          "dash": "solid"
         },
         "marker": {
          "symbol": "circle"
         },
         "mode": "markers+lines",
         "name": "MOVIMIENTOAUTORIDADESINDIGENASDECOLOMBIA",
         "orientation": "v",
         "showlegend": true,
         "type": "scatter",
         "x": [
          2014
         ],
         "xaxis": "x",
         "y": [
          48
         ],
         "yaxis": "y"
        },
        {
         "hovertemplate": "partido=ASOCIACIONDEAUTORIDADESTRADICIONALESINDIGENASOPIC<br>anio=%{x}<br>votos=%{y}<extra></extra>",
         "legendgroup": "ASOCIACIONDEAUTORIDADESTRADICIONALESINDIGENASOPIC",
         "line": {
          "color": "#FECB52",
          "dash": "solid"
         },
         "marker": {
          "symbol": "circle"
         },
         "mode": "markers+lines",
         "name": "ASOCIACIONDEAUTORIDADESTRADICIONALESINDIGENASOPIC",
         "orientation": "v",
         "showlegend": true,
         "type": "scatter",
         "x": [
          2014
         ],
         "xaxis": "x",
         "y": [
          10
         ],
         "yaxis": "y"
        },
        {
         "hovertemplate": "partido=CORPNELSONMANDELACORMANDELA<br>anio=%{x}<br>votos=%{y}<extra></extra>",
         "legendgroup": "CORPNELSONMANDELACORMANDELA",
         "line": {
          "color": "#636efa",
          "dash": "solid"
         },
         "marker": {
          "symbol": "circle"
         },
         "mode": "markers+lines",
         "name": "CORPNELSONMANDELACORMANDELA",
         "orientation": "v",
         "showlegend": true,
         "type": "scatter",
         "x": [
          2014
         ],
         "xaxis": "x",
         "y": [
          6
         ],
         "yaxis": "y"
        },
        {
         "hovertemplate": "partido=FUNDACIONCULTURALCOSTACARIBEFUNCULCOSTA<br>anio=%{x}<br>votos=%{y}<extra></extra>",
         "legendgroup": "FUNDACIONCULTURALCOSTACARIBEFUNCULCOSTA",
         "line": {
          "color": "#EF553B",
          "dash": "solid"
         },
         "marker": {
          "symbol": "circle"
         },
         "mode": "markers+lines",
         "name": "FUNDACIONCULTURALCOSTACARIBEFUNCULCOSTA",
         "orientation": "v",
         "showlegend": true,
         "type": "scatter",
         "x": [
          2014
         ],
         "xaxis": "x",
         "y": [
          6
         ],
         "yaxis": "y"
        },
        {
         "hovertemplate": "partido=ASODEPORTES<br>anio=%{x}<br>votos=%{y}<extra></extra>",
         "legendgroup": "ASODEPORTES",
         "line": {
          "color": "#00cc96",
          "dash": "solid"
         },
         "marker": {
          "symbol": "circle"
         },
         "mode": "markers+lines",
         "name": "ASODEPORTES",
         "orientation": "v",
         "showlegend": true,
         "type": "scatter",
         "x": [
          2014
         ],
         "xaxis": "x",
         "y": [
          35
         ],
         "yaxis": "y"
        },
        {
         "hovertemplate": "partido=ASOPRA<br>anio=%{x}<br>votos=%{y}<extra></extra>",
         "legendgroup": "ASOPRA",
         "line": {
          "color": "#ab63fa",
          "dash": "solid"
         },
         "marker": {
          "symbol": "circle"
         },
         "mode": "markers+lines",
         "name": "ASOPRA",
         "orientation": "v",
         "showlegend": true,
         "type": "scatter",
         "x": [
          2014
         ],
         "xaxis": "x",
         "y": [
          12
         ],
         "yaxis": "y"
        },
        {
         "hovertemplate": "partido=CONSCOMUNIDELOSCORREGIDESANANTONIOYELCASTILLO<br>anio=%{x}<br>votos=%{y}<extra></extra>",
         "legendgroup": "CONSCOMUNIDELOSCORREGIDESANANTONIOYELCASTILLO",
         "line": {
          "color": "#FFA15A",
          "dash": "solid"
         },
         "marker": {
          "symbol": "circle"
         },
         "mode": "markers+lines",
         "name": "CONSCOMUNIDELOSCORREGIDESANANTONIOYELCASTILLO",
         "orientation": "v",
         "showlegend": true,
         "type": "scatter",
         "x": [
          2014
         ],
         "xaxis": "x",
         "y": [
          11
         ],
         "yaxis": "y"
        },
        {
         "hovertemplate": "partido=CORPORACIONVIDESYSUSNICHES<br>anio=%{x}<br>votos=%{y}<extra></extra>",
         "legendgroup": "CORPORACIONVIDESYSUSNICHES",
         "line": {
          "color": "#19d3f3",
          "dash": "solid"
         },
         "marker": {
          "symbol": "circle"
         },
         "mode": "markers+lines",
         "name": "CORPORACIONVIDESYSUSNICHES",
         "orientation": "v",
         "showlegend": true,
         "type": "scatter",
         "x": [
          2014
         ],
         "xaxis": "x",
         "y": [
          2
         ],
         "yaxis": "y"
        },
        {
         "hovertemplate": "partido=ASOCONEGUA<br>anio=%{x}<br>votos=%{y}<extra></extra>",
         "legendgroup": "ASOCONEGUA",
         "line": {
          "color": "#FF6692",
          "dash": "solid"
         },
         "marker": {
          "symbol": "circle"
         },
         "mode": "markers+lines",
         "name": "ASOCONEGUA",
         "orientation": "v",
         "showlegend": true,
         "type": "scatter",
         "x": [
          2014
         ],
         "xaxis": "x",
         "y": [
          89
         ],
         "yaxis": "y"
        },
        {
         "hovertemplate": "partido=CORPORACIONAFROETNICOS<br>anio=%{x}<br>votos=%{y}<extra></extra>",
         "legendgroup": "CORPORACIONAFROETNICOS",
         "line": {
          "color": "#B6E880",
          "dash": "solid"
         },
         "marker": {
          "symbol": "circle"
         },
         "mode": "markers+lines",
         "name": "CORPORACIONAFROETNICOS",
         "orientation": "v",
         "showlegend": true,
         "type": "scatter",
         "x": [
          2014
         ],
         "xaxis": "x",
         "y": [
          2
         ],
         "yaxis": "y"
        },
        {
         "hovertemplate": "partido=ASOCREGIONALDEAFROCOLLAMINGAAFROMINGA<br>anio=%{x}<br>votos=%{y}<extra></extra>",
         "legendgroup": "ASOCREGIONALDEAFROCOLLAMINGAAFROMINGA",
         "line": {
          "color": "#FF97FF",
          "dash": "solid"
         },
         "marker": {
          "symbol": "circle"
         },
         "mode": "markers+lines",
         "name": "ASOCREGIONALDEAFROCOLLAMINGAAFROMINGA",
         "orientation": "v",
         "showlegend": true,
         "type": "scatter",
         "x": [
          2014
         ],
         "xaxis": "x",
         "y": [
          3
         ],
         "yaxis": "y"
        },
        {
         "hovertemplate": "partido=CORPORACIONPODERCIUDADANO<br>anio=%{x}<br>votos=%{y}<extra></extra>",
         "legendgroup": "CORPORACIONPODERCIUDADANO",
         "line": {
          "color": "#FECB52",
          "dash": "solid"
         },
         "marker": {
          "symbol": "circle"
         },
         "mode": "markers+lines",
         "name": "CORPORACIONPODERCIUDADANO",
         "orientation": "v",
         "showlegend": true,
         "type": "scatter",
         "x": [
          2014
         ],
         "xaxis": "x",
         "y": [
          15
         ],
         "yaxis": "y"
        },
        {
         "hovertemplate": "partido=CORPSOCIALEINTEGDELPACFICOCORPOSINPAC<br>anio=%{x}<br>votos=%{y}<extra></extra>",
         "legendgroup": "CORPSOCIALEINTEGDELPACFICOCORPOSINPAC",
         "line": {
          "color": "#636efa",
          "dash": "solid"
         },
         "marker": {
          "symbol": "circle"
         },
         "mode": "markers+lines",
         "name": "CORPSOCIALEINTEGDELPACFICOCORPOSINPAC",
         "orientation": "v",
         "showlegend": true,
         "type": "scatter",
         "x": [
          2014
         ],
         "xaxis": "x",
         "y": [
          16
         ],
         "yaxis": "y"
        },
        {
         "hovertemplate": "partido=EATBOTICACOMUNITARIADELVALLEDELCAUCA<br>anio=%{x}<br>votos=%{y}<extra></extra>",
         "legendgroup": "EATBOTICACOMUNITARIADELVALLEDELCAUCA",
         "line": {
          "color": "#EF553B",
          "dash": "solid"
         },
         "marker": {
          "symbol": "circle"
         },
         "mode": "markers+lines",
         "name": "EATBOTICACOMUNITARIADELVALLEDELCAUCA",
         "orientation": "v",
         "showlegend": true,
         "type": "scatter",
         "x": [
          2014
         ],
         "xaxis": "x",
         "y": [
          2
         ],
         "yaxis": "y"
        },
        {
         "hovertemplate": "partido=FUNDACIONESPERANZAAFROESAFRO<br>anio=%{x}<br>votos=%{y}<extra></extra>",
         "legendgroup": "FUNDACIONESPERANZAAFROESAFRO",
         "line": {
          "color": "#00cc96",
          "dash": "solid"
         },
         "marker": {
          "symbol": "circle"
         },
         "mode": "markers+lines",
         "name": "FUNDACIONESPERANZAAFROESAFRO",
         "orientation": "v",
         "showlegend": true,
         "type": "scatter",
         "x": [
          2014
         ],
         "xaxis": "x",
         "y": [
          34
         ],
         "yaxis": "y"
        },
        {
         "hovertemplate": "partido=CONSEJOCOMUNITARIODECOMUNIDADESNEGRASSANTODOMINGO<br>anio=%{x}<br>votos=%{y}<extra></extra>",
         "legendgroup": "CONSEJOCOMUNITARIODECOMUNIDADESNEGRASSANTODOMINGO",
         "line": {
          "color": "#ab63fa",
          "dash": "solid"
         },
         "marker": {
          "symbol": "circle"
         },
         "mode": "markers+lines",
         "name": "CONSEJOCOMUNITARIODECOMUNIDADESNEGRASSANTODOMINGO",
         "orientation": "v",
         "showlegend": true,
         "type": "scatter",
         "x": [
          2018
         ],
         "xaxis": "x",
         "y": [
          16
         ],
         "yaxis": "y"
        },
        {
         "hovertemplate": "partido=CUENCADELRIOISCUANDE<br>anio=%{x}<br>votos=%{y}<extra></extra>",
         "legendgroup": "CUENCADELRIOISCUANDE",
         "line": {
          "color": "#FFA15A",
          "dash": "solid"
         },
         "marker": {
          "symbol": "circle"
         },
         "mode": "markers+lines",
         "name": "CUENCADELRIOISCUANDE",
         "orientation": "v",
         "showlegend": true,
         "type": "scatter",
         "x": [
          2018
         ],
         "xaxis": "x",
         "y": [
          9
         ],
         "yaxis": "y"
        },
        {
         "hovertemplate": "partido=FUNDACINAMORYPAZFAP<br>anio=%{x}<br>votos=%{y}<extra></extra>",
         "legendgroup": "FUNDACINAMORYPAZFAP",
         "line": {
          "color": "#19d3f3",
          "dash": "solid"
         },
         "marker": {
          "symbol": "circle"
         },
         "mode": "markers+lines",
         "name": "FUNDACINAMORYPAZFAP",
         "orientation": "v",
         "showlegend": true,
         "type": "scatter",
         "x": [
          2018
         ],
         "xaxis": "x",
         "y": [
          13
         ],
         "yaxis": "y"
        },
        {
         "hovertemplate": "partido=CONSEJOCOMUNITARIOVEREDASUNIDASUNBIENCOMN<br>anio=%{x}<br>votos=%{y}<extra></extra>",
         "legendgroup": "CONSEJOCOMUNITARIOVEREDASUNIDASUNBIENCOMN",
         "line": {
          "color": "#FF6692",
          "dash": "solid"
         },
         "marker": {
          "symbol": "circle"
         },
         "mode": "markers+lines",
         "name": "CONSEJOCOMUNITARIOVEREDASUNIDASUNBIENCOMN",
         "orientation": "v",
         "showlegend": true,
         "type": "scatter",
         "x": [
          2018,
          2022
         ],
         "xaxis": "x",
         "y": [
          10,
          43
         ],
         "yaxis": "y"
        },
        {
         "hovertemplate": "partido=CORPORACINPODERCIUDADANO<br>anio=%{x}<br>votos=%{y}<extra></extra>",
         "legendgroup": "CORPORACINPODERCIUDADANO",
         "line": {
          "color": "#B6E880",
          "dash": "solid"
         },
         "marker": {
          "symbol": "circle"
         },
         "mode": "markers+lines",
         "name": "CORPORACINPODERCIUDADANO",
         "orientation": "v",
         "showlegend": true,
         "type": "scatter",
         "x": [
          2018
         ],
         "xaxis": "x",
         "y": [
          58
         ],
         "yaxis": "y"
        },
        {
         "hovertemplate": "partido=CONSEJOCOMUNITARIODECOMUNIDADESNEGRASOBATALA<br>anio=%{x}<br>votos=%{y}<extra></extra>",
         "legendgroup": "CONSEJOCOMUNITARIODECOMUNIDADESNEGRASOBATALA",
         "line": {
          "color": "#FF97FF",
          "dash": "solid"
         },
         "marker": {
          "symbol": "circle"
         },
         "mode": "markers+lines",
         "name": "CONSEJOCOMUNITARIODECOMUNIDADESNEGRASOBATALA",
         "orientation": "v",
         "showlegend": true,
         "type": "scatter",
         "x": [
          2018
         ],
         "xaxis": "x",
         "y": [
          5
         ],
         "yaxis": "y"
        },
        {
         "hovertemplate": "partido=FUNDACINLABORARPORCOLOMBIAFUNDALABOR<br>anio=%{x}<br>votos=%{y}<extra></extra>",
         "legendgroup": "FUNDACINLABORARPORCOLOMBIAFUNDALABOR",
         "line": {
          "color": "#FECB52",
          "dash": "solid"
         },
         "marker": {
          "symbol": "circle"
         },
         "mode": "markers+lines",
         "name": "FUNDACINLABORARPORCOLOMBIAFUNDALABOR",
         "orientation": "v",
         "showlegend": true,
         "type": "scatter",
         "x": [
          2018
         ],
         "xaxis": "x",
         "y": [
          45
         ],
         "yaxis": "y"
        },
        {
         "hovertemplate": "partido=FUNDAFRODESCENDIENTEPROFESIONALDECORDOBAFUNAFROPECOR<br>anio=%{x}<br>votos=%{y}<extra></extra>",
         "legendgroup": "FUNDAFRODESCENDIENTEPROFESIONALDECORDOBAFUNAFROPECOR",
         "line": {
          "color": "#636efa",
          "dash": "solid"
         },
         "marker": {
          "symbol": "circle"
         },
         "mode": "markers+lines",
         "name": "FUNDAFRODESCENDIENTEPROFESIONALDECORDOBAFUNAFROPECOR",
         "orientation": "v",
         "showlegend": true,
         "type": "scatter",
         "x": [
          2018
         ],
         "xaxis": "x",
         "y": [
          9
         ],
         "yaxis": "y"
        },
        {
         "hovertemplate": "partido=FUNDACINTNICADECOLOMBIAFUNETCOL<br>anio=%{x}<br>votos=%{y}<extra></extra>",
         "legendgroup": "FUNDACINTNICADECOLOMBIAFUNETCOL",
         "line": {
          "color": "#EF553B",
          "dash": "solid"
         },
         "marker": {
          "symbol": "circle"
         },
         "mode": "markers+lines",
         "name": "FUNDACINTNICADECOLOMBIAFUNETCOL",
         "orientation": "v",
         "showlegend": true,
         "type": "scatter",
         "x": [
          2018
         ],
         "xaxis": "x",
         "y": [
          6
         ],
         "yaxis": "y"
        },
        {
         "hovertemplate": "partido=FUNDAFROCOLOMBIANALIBERALDEDESARROLLOSOCIALAFROCODES<br>anio=%{x}<br>votos=%{y}<extra></extra>",
         "legendgroup": "FUNDAFROCOLOMBIANALIBERALDEDESARROLLOSOCIALAFROCODES",
         "line": {
          "color": "#00cc96",
          "dash": "solid"
         },
         "marker": {
          "symbol": "circle"
         },
         "mode": "markers+lines",
         "name": "FUNDAFROCOLOMBIANALIBERALDEDESARROLLOSOCIALAFROCODES",
         "orientation": "v",
         "showlegend": true,
         "type": "scatter",
         "x": [
          2018
         ],
         "xaxis": "x",
         "y": [
          8
         ],
         "yaxis": "y"
        },
        {
         "hovertemplate": "partido=CONSEJOCOMUNITARIODELASBARAS<br>anio=%{x}<br>votos=%{y}<extra></extra>",
         "legendgroup": "CONSEJOCOMUNITARIODELASBARAS",
         "line": {
          "color": "#ab63fa",
          "dash": "solid"
         },
         "marker": {
          "symbol": "circle"
         },
         "mode": "markers+lines",
         "name": "CONSEJOCOMUNITARIODELASBARAS",
         "orientation": "v",
         "showlegend": true,
         "type": "scatter",
         "x": [
          2018
         ],
         "xaxis": "x",
         "y": [
          5
         ],
         "yaxis": "y"
        },
        {
         "hovertemplate": "partido=CONSEJOCOMUNITARIORENACERNEGRO<br>anio=%{x}<br>votos=%{y}<extra></extra>",
         "legendgroup": "CONSEJOCOMUNITARIORENACERNEGRO",
         "line": {
          "color": "#FFA15A",
          "dash": "solid"
         },
         "marker": {
          "symbol": "circle"
         },
         "mode": "markers+lines",
         "name": "CONSEJOCOMUNITARIORENACERNEGRO",
         "orientation": "v",
         "showlegend": true,
         "type": "scatter",
         "x": [
          2018
         ],
         "xaxis": "x",
         "y": [
          25
         ],
         "yaxis": "y"
        },
        {
         "hovertemplate": "partido=CONSEJOCOMUNITARIODELACOMUNIDADNEGRADELIMONES<br>anio=%{x}<br>votos=%{y}<extra></extra>",
         "legendgroup": "CONSEJOCOMUNITARIODELACOMUNIDADNEGRADELIMONES",
         "line": {
          "color": "#19d3f3",
          "dash": "solid"
         },
         "marker": {
          "symbol": "circle"
         },
         "mode": "markers+lines",
         "name": "CONSEJOCOMUNITARIODELACOMUNIDADNEGRADELIMONES",
         "orientation": "v",
         "showlegend": true,
         "type": "scatter",
         "x": [
          2018
         ],
         "xaxis": "x",
         "y": [
          36
         ],
         "yaxis": "y"
        },
        {
         "hovertemplate": "partido=MOVIMIENTOTODOSSOMOSCOLOMBIATSC<br>anio=%{x}<br>votos=%{y}<extra></extra>",
         "legendgroup": "MOVIMIENTOTODOSSOMOSCOLOMBIATSC",
         "line": {
          "color": "#FF6692",
          "dash": "solid"
         },
         "marker": {
          "symbol": "circle"
         },
         "mode": "markers+lines",
         "name": "MOVIMIENTOTODOSSOMOSCOLOMBIATSC",
         "orientation": "v",
         "showlegend": true,
         "type": "scatter",
         "x": [
          2018
         ],
         "xaxis": "x",
         "y": [
          143
         ],
         "yaxis": "y"
        },
        {
         "hovertemplate": "partido=FUNDACINDEPORTIVAVIAFARAFUNDEVIA<br>anio=%{x}<br>votos=%{y}<extra></extra>",
         "legendgroup": "FUNDACINDEPORTIVAVIAFARAFUNDEVIA",
         "line": {
          "color": "#B6E880",
          "dash": "solid"
         },
         "marker": {
          "symbol": "circle"
         },
         "mode": "markers+lines",
         "name": "FUNDACINDEPORTIVAVIAFARAFUNDEVIA",
         "orientation": "v",
         "showlegend": true,
         "type": "scatter",
         "x": [
          2018
         ],
         "xaxis": "x",
         "y": [
          19
         ],
         "yaxis": "y"
        },
        {
         "hovertemplate": "partido=FUNDACINESPERANZAAFROESAFRO<br>anio=%{x}<br>votos=%{y}<extra></extra>",
         "legendgroup": "FUNDACINESPERANZAAFROESAFRO",
         "line": {
          "color": "#FF97FF",
          "dash": "solid"
         },
         "marker": {
          "symbol": "circle"
         },
         "mode": "markers+lines",
         "name": "FUNDACINESPERANZAAFROESAFRO",
         "orientation": "v",
         "showlegend": true,
         "type": "scatter",
         "x": [
          2018
         ],
         "xaxis": "x",
         "y": [
          90
         ],
         "yaxis": "y"
        },
        {
         "hovertemplate": "partido=CONSEJOCOMUNITARIOTABLONSALADO<br>anio=%{x}<br>votos=%{y}<extra></extra>",
         "legendgroup": "CONSEJOCOMUNITARIOTABLONSALADO",
         "line": {
          "color": "#FECB52",
          "dash": "solid"
         },
         "marker": {
          "symbol": "circle"
         },
         "mode": "markers+lines",
         "name": "CONSEJOCOMUNITARIOTABLONSALADO",
         "orientation": "v",
         "showlegend": true,
         "type": "scatter",
         "x": [
          2018
         ],
         "xaxis": "x",
         "y": [
          13
         ],
         "yaxis": "y"
        },
        {
         "hovertemplate": "partido=ORGSOCIALDECOMUNIDADESNEGRASNELSONMANDELA<br>anio=%{x}<br>votos=%{y}<extra></extra>",
         "legendgroup": "ORGSOCIALDECOMUNIDADESNEGRASNELSONMANDELA",
         "line": {
          "color": "#636efa",
          "dash": "solid"
         },
         "marker": {
          "symbol": "circle"
         },
         "mode": "markers+lines",
         "name": "ORGSOCIALDECOMUNIDADESNEGRASNELSONMANDELA",
         "orientation": "v",
         "showlegend": true,
         "type": "scatter",
         "x": [
          2018
         ],
         "xaxis": "x",
         "y": [
          15
         ],
         "yaxis": "y"
        },
        {
         "hovertemplate": "partido=FUNDACINRENACERPARATODOS<br>anio=%{x}<br>votos=%{y}<extra></extra>",
         "legendgroup": "FUNDACINRENACERPARATODOS",
         "line": {
          "color": "#EF553B",
          "dash": "solid"
         },
         "marker": {
          "symbol": "circle"
         },
         "mode": "markers+lines",
         "name": "FUNDACINRENACERPARATODOS",
         "orientation": "v",
         "showlegend": true,
         "type": "scatter",
         "x": [
          2018
         ],
         "xaxis": "x",
         "y": [
          7
         ],
         "yaxis": "y"
        },
        {
         "hovertemplate": "partido=KUSUTOMAGENDECOKUMALUDELURUACO<br>anio=%{x}<br>votos=%{y}<extra></extra>",
         "legendgroup": "KUSUTOMAGENDECOKUMALUDELURUACO",
         "line": {
          "color": "#00cc96",
          "dash": "solid"
         },
         "marker": {
          "symbol": "circle"
         },
         "mode": "markers+lines",
         "name": "KUSUTOMAGENDECOKUMALUDELURUACO",
         "orientation": "v",
         "showlegend": true,
         "type": "scatter",
         "x": [
          2018
         ],
         "xaxis": "x",
         "y": [
          22
         ],
         "yaxis": "y"
        },
        {
         "hovertemplate": "partido=LOSPALENKES<br>anio=%{x}<br>votos=%{y}<extra></extra>",
         "legendgroup": "LOSPALENKES",
         "line": {
          "color": "#ab63fa",
          "dash": "solid"
         },
         "marker": {
          "symbol": "circle"
         },
         "mode": "markers+lines",
         "name": "LOSPALENKES",
         "orientation": "v",
         "showlegend": true,
         "type": "scatter",
         "x": [
          2018
         ],
         "xaxis": "x",
         "y": [
          15
         ],
         "yaxis": "y"
        },
        {
         "hovertemplate": "partido=CONSEJOCOMUNITARIODEALEJANDRODURANDIAZ<br>anio=%{x}<br>votos=%{y}<extra></extra>",
         "legendgroup": "CONSEJOCOMUNITARIODEALEJANDRODURANDIAZ",
         "line": {
          "color": "#FFA15A",
          "dash": "solid"
         },
         "marker": {
          "symbol": "circle"
         },
         "mode": "markers+lines",
         "name": "CONSEJOCOMUNITARIODEALEJANDRODURANDIAZ",
         "orientation": "v",
         "showlegend": true,
         "type": "scatter",
         "x": [
          2018
         ],
         "xaxis": "x",
         "y": [
          16
         ],
         "yaxis": "y"
        },
        {
         "hovertemplate": "partido=PARTIDOCENTRODEMOCRTICO<br>anio=%{x}<br>votos=%{y}<extra></extra>",
         "legendgroup": "PARTIDOCENTRODEMOCRTICO",
         "line": {
          "color": "#19d3f3",
          "dash": "solid"
         },
         "marker": {
          "symbol": "circle"
         },
         "mode": "markers+lines",
         "name": "PARTIDOCENTRODEMOCRTICO",
         "orientation": "v",
         "showlegend": true,
         "type": "scatter",
         "x": [
          2018,
          2022
         ],
         "xaxis": "x",
         "y": [
          40048,
          29917
         ],
         "yaxis": "y"
        },
        {
         "hovertemplate": "partido=ASOCIACINCOLOMBIANEGRAHUELLASDEAFRICANIAENPAZ<br>anio=%{x}<br>votos=%{y}<extra></extra>",
         "legendgroup": "ASOCIACINCOLOMBIANEGRAHUELLASDEAFRICANIAENPAZ",
         "line": {
          "color": "#FF6692",
          "dash": "solid"
         },
         "marker": {
          "symbol": "circle"
         },
         "mode": "markers+lines",
         "name": "ASOCIACINCOLOMBIANEGRAHUELLASDEAFRICANIAENPAZ",
         "orientation": "v",
         "showlegend": true,
         "type": "scatter",
         "x": [
          2018
         ],
         "xaxis": "x",
         "y": [
          28
         ],
         "yaxis": "y"
        },
        {
         "hovertemplate": "partido=PARTIDOPOLTICOMIRA<br>anio=%{x}<br>votos=%{y}<extra></extra>",
         "legendgroup": "PARTIDOPOLTICOMIRA",
         "line": {
          "color": "#B6E880",
          "dash": "solid"
         },
         "marker": {
          "symbol": "circle"
         },
         "mode": "markers+lines",
         "name": "PARTIDOPOLTICOMIRA",
         "orientation": "v",
         "showlegend": true,
         "type": "scatter",
         "x": [
          2018,
          2022
         ],
         "xaxis": "x",
         "y": [
          19354,
          12426
         ],
         "yaxis": "y"
        },
        {
         "hovertemplate": "partido=ASOCDEAFRSINANIMODELUCRODESCRISTBALSURASAFROSCOL4<br>anio=%{x}<br>votos=%{y}<extra></extra>",
         "legendgroup": "ASOCDEAFRSINANIMODELUCRODESCRISTBALSURASAFROSCOL4",
         "line": {
          "color": "#FF97FF",
          "dash": "solid"
         },
         "marker": {
          "symbol": "circle"
         },
         "mode": "markers+lines",
         "name": "ASOCDEAFRSINANIMODELUCRODESCRISTBALSURASAFROSCOL4",
         "orientation": "v",
         "showlegend": true,
         "type": "scatter",
         "x": [
          2018
         ],
         "xaxis": "x",
         "y": [
          13
         ],
         "yaxis": "y"
        },
        {
         "hovertemplate": "partido=ASOAFROCDEASENTAMIENANCESTRALMUNICIPIODESANPEDROAFROSANPEDRO<br>anio=%{x}<br>votos=%{y}<extra></extra>",
         "legendgroup": "ASOAFROCDEASENTAMIENANCESTRALMUNICIPIODESANPEDROAFROSANPEDRO",
         "line": {
          "color": "#FECB52",
          "dash": "solid"
         },
         "marker": {
          "symbol": "circle"
         },
         "mode": "markers+lines",
         "name": "ASOAFROCDEASENTAMIENANCESTRALMUNICIPIODESANPEDROAFROSANPEDRO",
         "orientation": "v",
         "showlegend": true,
         "type": "scatter",
         "x": [
          2018
         ],
         "xaxis": "x",
         "y": [
          10
         ],
         "yaxis": "y"
        },
        {
         "hovertemplate": "partido=ASOCENTRODEAUTORECONOCIMIENTOAFROCOLOMBIANOCENAFRO<br>anio=%{x}<br>votos=%{y}<extra></extra>",
         "legendgroup": "ASOCENTRODEAUTORECONOCIMIENTOAFROCOLOMBIANOCENAFRO",
         "line": {
          "color": "#636efa",
          "dash": "solid"
         },
         "marker": {
          "symbol": "circle"
         },
         "mode": "markers+lines",
         "name": "ASOCENTRODEAUTORECONOCIMIENTOAFROCOLOMBIANOCENAFRO",
         "orientation": "v",
         "showlegend": true,
         "type": "scatter",
         "x": [
          2018
         ],
         "xaxis": "x",
         "y": [
          12
         ],
         "yaxis": "y"
        },
        {
         "hovertemplate": "partido=UAIZSACOR<br>anio=%{x}<br>votos=%{y}<extra></extra>",
         "legendgroup": "UAIZSACOR",
         "line": {
          "color": "#EF553B",
          "dash": "solid"
         },
         "marker": {
          "symbol": "circle"
         },
         "mode": "markers+lines",
         "name": "UAIZSACOR",
         "orientation": "v",
         "showlegend": true,
         "type": "scatter",
         "x": [
          2018
         ],
         "xaxis": "x",
         "y": [
          41
         ],
         "yaxis": "y"
        },
        {
         "hovertemplate": "partido=PARTIDOPOLODEMOCRTICOALTERNATIVO<br>anio=%{x}<br>votos=%{y}<extra></extra>",
         "legendgroup": "PARTIDOPOLODEMOCRTICOALTERNATIVO",
         "line": {
          "color": "#00cc96",
          "dash": "solid"
         },
         "marker": {
          "symbol": "circle"
         },
         "mode": "markers+lines",
         "name": "PARTIDOPOLODEMOCRTICOALTERNATIVO",
         "orientation": "v",
         "showlegend": true,
         "type": "scatter",
         "x": [
          2018
         ],
         "xaxis": "x",
         "y": [
          5856
         ],
         "yaxis": "y"
        },
        {
         "hovertemplate": "partido=ASOCNALDECABILDOSYAUTORIDADESINDGENASENCOLANICOL<br>anio=%{x}<br>votos=%{y}<extra></extra>",
         "legendgroup": "ASOCNALDECABILDOSYAUTORIDADESINDGENASENCOLANICOL",
         "line": {
          "color": "#ab63fa",
          "dash": "solid"
         },
         "marker": {
          "symbol": "circle"
         },
         "mode": "markers+lines",
         "name": "ASOCNALDECABILDOSYAUTORIDADESINDGENASENCOLANICOL",
         "orientation": "v",
         "showlegend": true,
         "type": "scatter",
         "x": [
          2018
         ],
         "xaxis": "x",
         "y": [
          134
         ],
         "yaxis": "y"
        },
        {
         "hovertemplate": "partido=FUNDACINTAITAZIPA<br>anio=%{x}<br>votos=%{y}<extra></extra>",
         "legendgroup": "FUNDACINTAITAZIPA",
         "line": {
          "color": "#FFA15A",
          "dash": "solid"
         },
         "marker": {
          "symbol": "circle"
         },
         "mode": "markers+lines",
         "name": "FUNDACINTAITAZIPA",
         "orientation": "v",
         "showlegend": true,
         "type": "scatter",
         "x": [
          2018
         ],
         "xaxis": "x",
         "y": [
          73
         ],
         "yaxis": "y"
        },
        {
         "hovertemplate": "partido=AUTORIDADTRADICIONALCASIYOUREN<br>anio=%{x}<br>votos=%{y}<extra></extra>",
         "legendgroup": "AUTORIDADTRADICIONALCASIYOUREN",
         "line": {
          "color": "#19d3f3",
          "dash": "solid"
         },
         "marker": {
          "symbol": "circle"
         },
         "mode": "markers+lines",
         "name": "AUTORIDADTRADICIONALCASIYOUREN",
         "orientation": "v",
         "showlegend": true,
         "type": "scatter",
         "x": [
          2018
         ],
         "xaxis": "x",
         "y": [
          14
         ],
         "yaxis": "y"
        },
        {
         "hovertemplate": "partido=PARTIDOOPCINCIUDADANA<br>anio=%{x}<br>votos=%{y}<extra></extra>",
         "legendgroup": "PARTIDOOPCINCIUDADANA",
         "line": {
          "color": "#FF6692",
          "dash": "solid"
         },
         "marker": {
          "symbol": "circle"
         },
         "mode": "markers+lines",
         "name": "PARTIDOOPCINCIUDADANA",
         "orientation": "v",
         "showlegend": true,
         "type": "scatter",
         "x": [
          2018
         ],
         "xaxis": "x",
         "y": [
          549
         ],
         "yaxis": "y"
        },
        {
         "hovertemplate": "partido=CONSEJOCOMUNITARIOMAYORDECERTEGUI<br>anio=%{x}<br>votos=%{y}<extra></extra>",
         "legendgroup": "CONSEJOCOMUNITARIOMAYORDECERTEGUI",
         "line": {
          "color": "#B6E880",
          "dash": "solid"
         },
         "marker": {
          "symbol": "circle"
         },
         "mode": "markers+lines",
         "name": "CONSEJOCOMUNITARIOMAYORDECERTEGUI",
         "orientation": "v",
         "showlegend": true,
         "type": "scatter",
         "x": [
          2018,
          2022
         ],
         "xaxis": "x",
         "y": [
          66,
          32
         ],
         "yaxis": "y"
        },
        {
         "hovertemplate": "partido=CCDECOMUNNEGRASPALENQUEVDALASTRESCIENTASYMUNGALAPA<br>anio=%{x}<br>votos=%{y}<extra></extra>",
         "legendgroup": "CCDECOMUNNEGRASPALENQUEVDALASTRESCIENTASYMUNGALAPA",
         "line": {
          "color": "#FF97FF",
          "dash": "solid"
         },
         "marker": {
          "symbol": "circle"
         },
         "mode": "markers+lines",
         "name": "CCDECOMUNNEGRASPALENQUEVDALASTRESCIENTASYMUNGALAPA",
         "orientation": "v",
         "showlegend": true,
         "type": "scatter",
         "x": [
          2018
         ],
         "xaxis": "x",
         "y": [
          25
         ],
         "yaxis": "y"
        },
        {
         "hovertemplate": "partido=CCANCESTRALDECOMUNIDADESNEGRASPLAYARENACIENTE<br>anio=%{x}<br>votos=%{y}<extra></extra>",
         "legendgroup": "CCANCESTRALDECOMUNIDADESNEGRASPLAYARENACIENTE",
         "line": {
          "color": "#FECB52",
          "dash": "solid"
         },
         "marker": {
          "symbol": "circle"
         },
         "mode": "markers+lines",
         "name": "CCANCESTRALDECOMUNIDADESNEGRASPLAYARENACIENTE",
         "orientation": "v",
         "showlegend": true,
         "type": "scatter",
         "x": [
          2018
         ],
         "xaxis": "x",
         "y": [
          64
         ],
         "yaxis": "y"
        },
        {
         "hovertemplate": "partido=CCDELACOMUNIDADNEGRADELAPLATABAHAMLAGA<br>anio=%{x}<br>votos=%{y}<extra></extra>",
         "legendgroup": "CCDELACOMUNIDADNEGRADELAPLATABAHAMLAGA",
         "line": {
          "color": "#636efa",
          "dash": "solid"
         },
         "marker": {
          "symbol": "circle"
         },
         "mode": "markers+lines",
         "name": "CCDELACOMUNIDADNEGRADELAPLATABAHAMLAGA",
         "orientation": "v",
         "showlegend": true,
         "type": "scatter",
         "x": [
          2018
         ],
         "xaxis": "x",
         "y": [
          30
         ],
         "yaxis": "y"
        },
        {
         "hovertemplate": "partido=CCDELACOMUNNEGRADETIERRABAJAMITERRITORIOANCESTRAL<br>anio=%{x}<br>votos=%{y}<extra></extra>",
         "legendgroup": "CCDELACOMUNNEGRADETIERRABAJAMITERRITORIOANCESTRAL",
         "line": {
          "color": "#EF553B",
          "dash": "solid"
         },
         "marker": {
          "symbol": "circle"
         },
         "mode": "markers+lines",
         "name": "CCDELACOMUNNEGRADETIERRABAJAMITERRITORIOANCESTRAL",
         "orientation": "v",
         "showlegend": true,
         "type": "scatter",
         "x": [
          2018
         ],
         "xaxis": "x",
         "y": [
          10
         ],
         "yaxis": "y"
        },
        {
         "hovertemplate": "partido=CCGENERALDELROBAUDYSUSAFLUENTESACABA<br>anio=%{x}<br>votos=%{y}<extra></extra>",
         "legendgroup": "CCGENERALDELROBAUDYSUSAFLUENTESACABA",
         "line": {
          "color": "#00cc96",
          "dash": "solid"
         },
         "marker": {
          "symbol": "circle"
         },
         "mode": "markers+lines",
         "name": "CCGENERALDELROBAUDYSUSAFLUENTESACABA",
         "orientation": "v",
         "showlegend": true,
         "type": "scatter",
         "x": [
          2018
         ],
         "xaxis": "x",
         "y": [
          8
         ],
         "yaxis": "y"
        },
        {
         "hovertemplate": "partido=CCDELOSCORREGIMIENTOSDESANANTONIOYELCASTILLO<br>anio=%{x}<br>votos=%{y}<extra></extra>",
         "legendgroup": "CCDELOSCORREGIMIENTOSDESANANTONIOYELCASTILLO",
         "line": {
          "color": "#ab63fa",
          "dash": "solid"
         },
         "marker": {
          "symbol": "circle"
         },
         "mode": "markers+lines",
         "name": "CCDELOSCORREGIMIENTOSDESANANTONIOYELCASTILLO",
         "orientation": "v",
         "showlegend": true,
         "type": "scatter",
         "x": [
          2018
         ],
         "xaxis": "x",
         "y": [
          37
         ],
         "yaxis": "y"
        },
        {
         "hovertemplate": "partido=MOVIMIENTOALTERNATIVOINDGENAYSOCIALMAIS<br>anio=%{x}<br>votos=%{y}<extra></extra>",
         "legendgroup": "MOVIMIENTOALTERNATIVOINDGENAYSOCIALMAIS",
         "line": {
          "color": "#FFA15A",
          "dash": "solid"
         },
         "marker": {
          "symbol": "circle"
         },
         "mode": "markers+lines",
         "name": "MOVIMIENTOALTERNATIVOINDGENAYSOCIALMAIS",
         "orientation": "v",
         "showlegend": true,
         "type": "scatter",
         "x": [
          2018
         ],
         "xaxis": "x",
         "y": [
          1171
         ],
         "yaxis": "y"
        },
        {
         "hovertemplate": "partido=MOVIMIENTOAUTORIDADESINDGENASDECOLOMBIA<br>anio=%{x}<br>votos=%{y}<extra></extra>",
         "legendgroup": "MOVIMIENTOAUTORIDADESINDGENASDECOLOMBIA",
         "line": {
          "color": "#19d3f3",
          "dash": "solid"
         },
         "marker": {
          "symbol": "circle"
         },
         "mode": "markers+lines",
         "name": "MOVIMIENTOAUTORIDADESINDGENASDECOLOMBIA",
         "orientation": "v",
         "showlegend": true,
         "type": "scatter",
         "x": [
          2018
         ],
         "xaxis": "x",
         "y": [
          254
         ],
         "yaxis": "y"
        },
        {
         "hovertemplate": "partido=CONSEJOCOMUNITARIODELRIOYURUMANGUI<br>anio=%{x}<br>votos=%{y}<extra></extra>",
         "legendgroup": "CONSEJOCOMUNITARIODELRIOYURUMANGUI",
         "line": {
          "color": "#FF6692",
          "dash": "solid"
         },
         "marker": {
          "symbol": "circle"
         },
         "mode": "markers+lines",
         "name": "CONSEJOCOMUNITARIODELRIOYURUMANGUI",
         "orientation": "v",
         "showlegend": true,
         "type": "scatter",
         "x": [
          2018
         ],
         "xaxis": "x",
         "y": [
          463
         ],
         "yaxis": "y"
        },
        {
         "hovertemplate": "partido=CONSEJOCOMUNITARIOIMBILPIDELCARMEN<br>anio=%{x}<br>votos=%{y}<extra></extra>",
         "legendgroup": "CONSEJOCOMUNITARIOIMBILPIDELCARMEN",
         "line": {
          "color": "#B6E880",
          "dash": "solid"
         },
         "marker": {
          "symbol": "circle"
         },
         "mode": "markers+lines",
         "name": "CONSEJOCOMUNITARIOIMBILPIDELCARMEN",
         "orientation": "v",
         "showlegend": true,
         "type": "scatter",
         "x": [
          2018
         ],
         "xaxis": "x",
         "y": [
          9
         ],
         "yaxis": "y"
        },
        {
         "hovertemplate": "partido=CONSEJOCOMUNITARIOMAKANKAMANADESANBASILIODEPALENQUE<br>anio=%{x}<br>votos=%{y}<extra></extra>",
         "legendgroup": "CONSEJOCOMUNITARIOMAKANKAMANADESANBASILIODEPALENQUE",
         "line": {
          "color": "#FF97FF",
          "dash": "solid"
         },
         "marker": {
          "symbol": "circle"
         },
         "mode": "markers+lines",
         "name": "CONSEJOCOMUNITARIOMAKANKAMANADESANBASILIODEPALENQUE",
         "orientation": "v",
         "showlegend": true,
         "type": "scatter",
         "x": [
          2018
         ],
         "xaxis": "x",
         "y": [
          13
         ],
         "yaxis": "y"
        },
        {
         "hovertemplate": "partido=CONSEJOCOMUNITARIOBOCASDELATRATOYLEONCITO<br>anio=%{x}<br>votos=%{y}<extra></extra>",
         "legendgroup": "CONSEJOCOMUNITARIOBOCASDELATRATOYLEONCITO",
         "line": {
          "color": "#FECB52",
          "dash": "solid"
         },
         "marker": {
          "symbol": "circle"
         },
         "mode": "markers+lines",
         "name": "CONSEJOCOMUNITARIOBOCASDELATRATOYLEONCITO",
         "orientation": "v",
         "showlegend": true,
         "type": "scatter",
         "x": [
          2018,
          2022
         ],
         "xaxis": "x",
         "y": [
          18,
          59
         ],
         "yaxis": "y"
        },
        {
         "hovertemplate": "partido=AGENCIAAFROCOLOMBIANAEMPRESAASOCIATIVADETRABAJOACNEAT<br>anio=%{x}<br>votos=%{y}<extra></extra>",
         "legendgroup": "AGENCIAAFROCOLOMBIANAEMPRESAASOCIATIVADETRABAJOACNEAT",
         "line": {
          "color": "#636efa",
          "dash": "solid"
         },
         "marker": {
          "symbol": "circle"
         },
         "mode": "markers+lines",
         "name": "AGENCIAAFROCOLOMBIANAEMPRESAASOCIATIVADETRABAJOACNEAT",
         "orientation": "v",
         "showlegend": true,
         "type": "scatter",
         "x": [
          2018
         ],
         "xaxis": "x",
         "y": [
          24
         ],
         "yaxis": "y"
        },
        {
         "hovertemplate": "partido=CONSEJOCOMUNITARIOLAMAMUNCIA<br>anio=%{x}<br>votos=%{y}<extra></extra>",
         "legendgroup": "CONSEJOCOMUNITARIOLAMAMUNCIA",
         "line": {
          "color": "#EF553B",
          "dash": "solid"
         },
         "marker": {
          "symbol": "circle"
         },
         "mode": "markers+lines",
         "name": "CONSEJOCOMUNITARIOLAMAMUNCIA",
         "orientation": "v",
         "showlegend": true,
         "type": "scatter",
         "x": [
          2018
         ],
         "xaxis": "x",
         "y": [
          162
         ],
         "yaxis": "y"
        },
        {
         "hovertemplate": "partido=CCDELACOMUNIDADNEGRADELACALLELARGARIODAGUA<br>anio=%{x}<br>votos=%{y}<extra></extra>",
         "legendgroup": "CCDELACOMUNIDADNEGRADELACALLELARGARIODAGUA",
         "line": {
          "color": "#00cc96",
          "dash": "solid"
         },
         "marker": {
          "symbol": "circle"
         },
         "mode": "markers+lines",
         "name": "CCDELACOMUNIDADNEGRADELACALLELARGARIODAGUA",
         "orientation": "v",
         "showlegend": true,
         "type": "scatter",
         "x": [
          2018
         ],
         "xaxis": "x",
         "y": [
          21
         ],
         "yaxis": "y"
        },
        {
         "hovertemplate": "partido=CONSEJOCOMUNITARIOLOSANDES<br>anio=%{x}<br>votos=%{y}<extra></extra>",
         "legendgroup": "CONSEJOCOMUNITARIOLOSANDES",
         "line": {
          "color": "#ab63fa",
          "dash": "solid"
         },
         "marker": {
          "symbol": "circle"
         },
         "mode": "markers+lines",
         "name": "CONSEJOCOMUNITARIOLOSANDES",
         "orientation": "v",
         "showlegend": true,
         "type": "scatter",
         "x": [
          2018
         ],
         "xaxis": "x",
         "y": [
          34
         ],
         "yaxis": "y"
        },
        {
         "hovertemplate": "partido=FUNDACINSOCIALMAGENDEMI<br>anio=%{x}<br>votos=%{y}<extra></extra>",
         "legendgroup": "FUNDACINSOCIALMAGENDEMI",
         "line": {
          "color": "#FFA15A",
          "dash": "solid"
         },
         "marker": {
          "symbol": "circle"
         },
         "mode": "markers+lines",
         "name": "FUNDACINSOCIALMAGENDEMI",
         "orientation": "v",
         "showlegend": true,
         "type": "scatter",
         "x": [
          2022
         ],
         "xaxis": "x",
         "y": [
          11
         ],
         "yaxis": "y"
        },
        {
         "hovertemplate": "partido=FUNDACINPARAELDESARROLLOSOCIALDECOMUNIDADESNEGRAS<br>anio=%{x}<br>votos=%{y}<extra></extra>",
         "legendgroup": "FUNDACINPARAELDESARROLLOSOCIALDECOMUNIDADESNEGRAS",
         "line": {
          "color": "#19d3f3",
          "dash": "solid"
         },
         "marker": {
          "symbol": "circle"
         },
         "mode": "markers+lines",
         "name": "FUNDACINPARAELDESARROLLOSOCIALDECOMUNIDADESNEGRAS",
         "orientation": "v",
         "showlegend": true,
         "type": "scatter",
         "x": [
          2022
         ],
         "xaxis": "x",
         "y": [
          106
         ],
         "yaxis": "y"
        },
        {
         "hovertemplate": "partido=FERNANDOROSHIDALGO<br>anio=%{x}<br>votos=%{y}<extra></extra>",
         "legendgroup": "FERNANDOROSHIDALGO",
         "line": {
          "color": "#FF6692",
          "dash": "solid"
         },
         "marker": {
          "symbol": "circle"
         },
         "mode": "markers+lines",
         "name": "FERNANDOROSHIDALGO",
         "orientation": "v",
         "showlegend": true,
         "type": "scatter",
         "x": [
          2022
         ],
         "xaxis": "x",
         "y": [
          2662
         ],
         "yaxis": "y"
        },
        {
         "hovertemplate": "partido=CORPORACINKOFIANNAN<br>anio=%{x}<br>votos=%{y}<extra></extra>",
         "legendgroup": "CORPORACINKOFIANNAN",
         "line": {
          "color": "#B6E880",
          "dash": "solid"
         },
         "marker": {
          "symbol": "circle"
         },
         "mode": "markers+lines",
         "name": "CORPORACINKOFIANNAN",
         "orientation": "v",
         "showlegend": true,
         "type": "scatter",
         "x": [
          2022
         ],
         "xaxis": "x",
         "y": [
          23
         ],
         "yaxis": "y"
        },
        {
         "hovertemplate": "partido=CORPORACINDEEDUCADORESDELLITORALPACIFICOCORELIPA<br>anio=%{x}<br>votos=%{y}<extra></extra>",
         "legendgroup": "CORPORACINDEEDUCADORESDELLITORALPACIFICOCORELIPA",
         "line": {
          "color": "#FF97FF",
          "dash": "solid"
         },
         "marker": {
          "symbol": "circle"
         },
         "mode": "markers+lines",
         "name": "CORPORACINDEEDUCADORESDELLITORALPACIFICOCORELIPA",
         "orientation": "v",
         "showlegend": true,
         "type": "scatter",
         "x": [
          2022
         ],
         "xaxis": "x",
         "y": [
          26
         ],
         "yaxis": "y"
        },
        {
         "hovertemplate": "partido=CONSEJOMAYORCONDOTOIR<br>anio=%{x}<br>votos=%{y}<extra></extra>",
         "legendgroup": "CONSEJOMAYORCONDOTOIR",
         "line": {
          "color": "#FECB52",
          "dash": "solid"
         },
         "marker": {
          "symbol": "circle"
         },
         "mode": "markers+lines",
         "name": "CONSEJOMAYORCONDOTOIR",
         "orientation": "v",
         "showlegend": true,
         "type": "scatter",
         "x": [
          2022
         ],
         "xaxis": "x",
         "y": [
          40
         ],
         "yaxis": "y"
        },
        {
         "hovertemplate": "partido=CONSEJOCOMUNITARIODECOMUNIDADESNEGRASDECAMPOHERMOSO<br>anio=%{x}<br>votos=%{y}<extra></extra>",
         "legendgroup": "CONSEJOCOMUNITARIODECOMUNIDADESNEGRASDECAMPOHERMOSO",
         "line": {
          "color": "#636efa",
          "dash": "solid"
         },
         "marker": {
          "symbol": "circle"
         },
         "mode": "markers+lines",
         "name": "CONSEJOCOMUNITARIODECOMUNIDADESNEGRASDECAMPOHERMOSO",
         "orientation": "v",
         "showlegend": true,
         "type": "scatter",
         "x": [
          2022
         ],
         "xaxis": "x",
         "y": [
          62
         ],
         "yaxis": "y"
        },
        {
         "hovertemplate": "partido=CONSEJOCOMUNITPIEDRASBACHICHICORREGSANTACECILIA<br>anio=%{x}<br>votos=%{y}<extra></extra>",
         "legendgroup": "CONSEJOCOMUNITPIEDRASBACHICHICORREGSANTACECILIA",
         "line": {
          "color": "#EF553B",
          "dash": "solid"
         },
         "marker": {
          "symbol": "circle"
         },
         "mode": "markers+lines",
         "name": "CONSEJOCOMUNITPIEDRASBACHICHICORREGSANTACECILIA",
         "orientation": "v",
         "showlegend": true,
         "type": "scatter",
         "x": [
          2022
         ],
         "xaxis": "x",
         "y": [
          27
         ],
         "yaxis": "y"
        },
        {
         "hovertemplate": "partido=CONSEJOCOMUNITARIOUNINPATAVIEJO<br>anio=%{x}<br>votos=%{y}<extra></extra>",
         "legendgroup": "CONSEJOCOMUNITARIOUNINPATAVIEJO",
         "line": {
          "color": "#00cc96",
          "dash": "solid"
         },
         "marker": {
          "symbol": "circle"
         },
         "mode": "markers+lines",
         "name": "CONSEJOCOMUNITARIOUNINPATAVIEJO",
         "orientation": "v",
         "showlegend": true,
         "type": "scatter",
         "x": [
          2022
         ],
         "xaxis": "x",
         "y": [
          58
         ],
         "yaxis": "y"
        },
        {
         "hovertemplate": "partido=CONSEJOCOMUNITARIORIOCURBARAD<br>anio=%{x}<br>votos=%{y}<extra></extra>",
         "legendgroup": "CONSEJOCOMUNITARIORIOCURBARAD",
         "line": {
          "color": "#ab63fa",
          "dash": "solid"
         },
         "marker": {
          "symbol": "circle"
         },
         "mode": "markers+lines",
         "name": "CONSEJOCOMUNITARIORIOCURBARAD",
         "orientation": "v",
         "showlegend": true,
         "type": "scatter",
         "x": [
          2022
         ],
         "xaxis": "x",
         "y": [
          13
         ],
         "yaxis": "y"
        },
        {
         "hovertemplate": "partido=CONSEJOCOMUNITARIORESCATELASVARAS<br>anio=%{x}<br>votos=%{y}<extra></extra>",
         "legendgroup": "CONSEJOCOMUNITARIORESCATELASVARAS",
         "line": {
          "color": "#FFA15A",
          "dash": "solid"
         },
         "marker": {
          "symbol": "circle"
         },
         "mode": "markers+lines",
         "name": "CONSEJOCOMUNITARIORESCATELASVARAS",
         "orientation": "v",
         "showlegend": true,
         "type": "scatter",
         "x": [
          2022
         ],
         "xaxis": "x",
         "y": [
          40
         ],
         "yaxis": "y"
        },
        {
         "hovertemplate": "partido=CONSEJOCOMUNITARIODECOMUNIDADESNEGRASDEGUAYABAL<br>anio=%{x}<br>votos=%{y}<extra></extra>",
         "legendgroup": "CONSEJOCOMUNITARIODECOMUNIDADESNEGRASDEGUAYABAL",
         "line": {
          "color": "#19d3f3",
          "dash": "solid"
         },
         "marker": {
          "symbol": "circle"
         },
         "mode": "markers+lines",
         "name": "CONSEJOCOMUNITARIODECOMUNIDADESNEGRASDEGUAYABAL",
         "orientation": "v",
         "showlegend": true,
         "type": "scatter",
         "x": [
          2022
         ],
         "xaxis": "x",
         "y": [
          621
         ],
         "yaxis": "y"
        },
        {
         "hovertemplate": "partido=CONSEJOCOMUNITARIODECOMUNIDADESNEGRASSOCOLANDO<br>anio=%{x}<br>votos=%{y}<extra></extra>",
         "legendgroup": "CONSEJOCOMUNITARIODECOMUNIDADESNEGRASSOCOLANDO",
         "line": {
          "color": "#FF6692",
          "dash": "solid"
         },
         "marker": {
          "symbol": "circle"
         },
         "mode": "markers+lines",
         "name": "CONSEJOCOMUNITARIODECOMUNIDADESNEGRASSOCOLANDO",
         "orientation": "v",
         "showlegend": true,
         "type": "scatter",
         "x": [
          2022
         ],
         "xaxis": "x",
         "y": [
          32
         ],
         "yaxis": "y"
        },
        {
         "hovertemplate": "partido=CONSEJOCOMUNITARIOBOCASDETAPARAL<br>anio=%{x}<br>votos=%{y}<extra></extra>",
         "legendgroup": "CONSEJOCOMUNITARIOBOCASDETAPARAL",
         "line": {
          "color": "#B6E880",
          "dash": "solid"
         },
         "marker": {
          "symbol": "circle"
         },
         "mode": "markers+lines",
         "name": "CONSEJOCOMUNITARIOBOCASDETAPARAL",
         "orientation": "v",
         "showlegend": true,
         "type": "scatter",
         "x": [
          2022
         ],
         "xaxis": "x",
         "y": [
          106
         ],
         "yaxis": "y"
        },
        {
         "hovertemplate": "partido=COMUNIDADDENEGROSDEAGUASBLANCAS<br>anio=%{x}<br>votos=%{y}<extra></extra>",
         "legendgroup": "COMUNIDADDENEGROSDEAGUASBLANCAS",
         "line": {
          "color": "#FF97FF",
          "dash": "solid"
         },
         "marker": {
          "symbol": "circle"
         },
         "mode": "markers+lines",
         "name": "COMUNIDADDENEGROSDEAGUASBLANCAS",
         "orientation": "v",
         "showlegend": true,
         "type": "scatter",
         "x": [
          2022
         ],
         "xaxis": "x",
         "y": [
          15
         ],
         "yaxis": "y"
        },
        {
         "hovertemplate": "partido=CONSEJOCOMUNITARIOMANUELZAPATAOLIVELLADESANANTERO<br>anio=%{x}<br>votos=%{y}<extra></extra>",
         "legendgroup": "CONSEJOCOMUNITARIOMANUELZAPATAOLIVELLADESANANTERO",
         "line": {
          "color": "#FECB52",
          "dash": "solid"
         },
         "marker": {
          "symbol": "circle"
         },
         "mode": "markers+lines",
         "name": "CONSEJOCOMUNITARIOMANUELZAPATAOLIVELLADESANANTERO",
         "orientation": "v",
         "showlegend": true,
         "type": "scatter",
         "x": [
          2022
         ],
         "xaxis": "x",
         "y": [
          184
         ],
         "yaxis": "y"
        },
        {
         "hovertemplate": "partido=MOVIMIENTOALIANZADEMOCRTICAAMPLIA<br>anio=%{x}<br>votos=%{y}<extra></extra>",
         "legendgroup": "MOVIMIENTOALIANZADEMOCRTICAAMPLIA",
         "line": {
          "color": "#636efa",
          "dash": "solid"
         },
         "marker": {
          "symbol": "circle"
         },
         "mode": "markers+lines",
         "name": "MOVIMIENTOALIANZADEMOCRTICAAMPLIA",
         "orientation": "v",
         "showlegend": true,
         "type": "scatter",
         "x": [
          2022
         ],
         "xaxis": "x",
         "y": [
          40
         ],
         "yaxis": "y"
        },
        {
         "hovertemplate": "partido=TarjetonesNoMarcados<br>anio=%{x}<br>votos=%{y}<extra></extra>",
         "legendgroup": "TarjetonesNoMarcados",
         "line": {
          "color": "#EF553B",
          "dash": "solid"
         },
         "marker": {
          "symbol": "circle"
         },
         "mode": "markers+lines",
         "name": "TarjetonesNoMarcados",
         "orientation": "v",
         "showlegend": true,
         "type": "scatter",
         "x": [
          2022,
          2022,
          2022
         ],
         "xaxis": "x",
         "y": [
          812,
          210,
          61
         ],
         "yaxis": "y"
        },
        {
         "hovertemplate": "partido=PARTIDONUEVOLIBERALISMO<br>anio=%{x}<br>votos=%{y}<extra></extra>",
         "legendgroup": "PARTIDONUEVOLIBERALISMO",
         "line": {
          "color": "#00cc96",
          "dash": "solid"
         },
         "marker": {
          "symbol": "circle"
         },
         "mode": "markers+lines",
         "name": "PARTIDONUEVOLIBERALISMO",
         "orientation": "v",
         "showlegend": true,
         "type": "scatter",
         "x": [
          2022
         ],
         "xaxis": "x",
         "y": [
          7842
         ],
         "yaxis": "y"
        },
        {
         "hovertemplate": "partido=Votosenblanco<br>anio=%{x}<br>votos=%{y}<extra></extra>",
         "legendgroup": "Votosenblanco",
         "line": {
          "color": "#ab63fa",
          "dash": "solid"
         },
         "marker": {
          "symbol": "circle"
         },
         "mode": "markers+lines",
         "name": "Votosenblanco",
         "orientation": "v",
         "showlegend": true,
         "type": "scatter",
         "x": [
          2022,
          2022,
          2022
         ],
         "xaxis": "x",
         "y": [
          1278,
          599,
          6682
         ],
         "yaxis": "y"
        },
        {
         "hovertemplate": "partido=CONSEJOCOMUNITARIOMAYORDECASIMIRO<br>anio=%{x}<br>votos=%{y}<extra></extra>",
         "legendgroup": "CONSEJOCOMUNITARIOMAYORDECASIMIRO",
         "line": {
          "color": "#FFA15A",
          "dash": "solid"
         },
         "marker": {
          "symbol": "circle"
         },
         "mode": "markers+lines",
         "name": "CONSEJOCOMUNITARIOMAYORDECASIMIRO",
         "orientation": "v",
         "showlegend": true,
         "type": "scatter",
         "x": [
          2022
         ],
         "xaxis": "x",
         "y": [
          65
         ],
         "yaxis": "y"
        },
        {
         "hovertemplate": "partido=PACTOHISTRICO<br>anio=%{x}<br>votos=%{y}<extra></extra>",
         "legendgroup": "PACTOHISTRICO",
         "line": {
          "color": "#19d3f3",
          "dash": "solid"
         },
         "marker": {
          "symbol": "circle"
         },
         "mode": "markers+lines",
         "name": "PACTOHISTRICO",
         "orientation": "v",
         "showlegend": true,
         "type": "scatter",
         "x": [
          2022
         ],
         "xaxis": "x",
         "y": [
          37220
         ],
         "yaxis": "y"
        },
        {
         "hovertemplate": "partido=FUERZACOLOMBIA<br>anio=%{x}<br>votos=%{y}<extra></extra>",
         "legendgroup": "FUERZACOLOMBIA",
         "line": {
          "color": "#FF6692",
          "dash": "solid"
         },
         "marker": {
          "symbol": "circle"
         },
         "mode": "markers+lines",
         "name": "FUERZACOLOMBIA",
         "orientation": "v",
         "showlegend": true,
         "type": "scatter",
         "x": [
          2022
         ],
         "xaxis": "x",
         "y": [
          2371
         ],
         "yaxis": "y"
        },
        {
         "hovertemplate": "partido=COALICINMOVIMIENTOSALVACINNACIONALYCOLOMBIAJUSTALIBRES<br>anio=%{x}<br>votos=%{y}<extra></extra>",
         "legendgroup": "COALICINMOVIMIENTOSALVACINNACIONALYCOLOMBIAJUSTALIBRES",
         "line": {
          "color": "#B6E880",
          "dash": "solid"
         },
         "marker": {
          "symbol": "circle"
         },
         "mode": "markers+lines",
         "name": "COALICINMOVIMIENTOSALVACINNACIONALYCOLOMBIAJUSTALIBRES",
         "orientation": "v",
         "showlegend": true,
         "type": "scatter",
         "x": [
          2022
         ],
         "xaxis": "x",
         "y": [
          1853
         ],
         "yaxis": "y"
        },
        {
         "hovertemplate": "partido=SOMOSIDENTIDAD<br>anio=%{x}<br>votos=%{y}<extra></extra>",
         "legendgroup": "SOMOSIDENTIDAD",
         "line": {
          "color": "#FF97FF",
          "dash": "solid"
         },
         "marker": {
          "symbol": "circle"
         },
         "mode": "markers+lines",
         "name": "SOMOSIDENTIDAD",
         "orientation": "v",
         "showlegend": true,
         "type": "scatter",
         "x": [
          2022
         ],
         "xaxis": "x",
         "y": [
          159
         ],
         "yaxis": "y"
        },
        {
         "hovertemplate": "partido=PARTIDOCOLOMBIARENACIENTE<br>anio=%{x}<br>votos=%{y}<extra></extra>",
         "legendgroup": "PARTIDOCOLOMBIARENACIENTE",
         "line": {
          "color": "#FECB52",
          "dash": "solid"
         },
         "marker": {
          "symbol": "circle"
         },
         "mode": "markers+lines",
         "name": "PARTIDOCOLOMBIARENACIENTE",
         "orientation": "v",
         "showlegend": true,
         "type": "scatter",
         "x": [
          2022
         ],
         "xaxis": "x",
         "y": [
          96
         ],
         "yaxis": "y"
        },
        {
         "hovertemplate": "partido=PALENQUEDELAVEREDALASTRECIENTASYDELMUNICIPIODEGALAPA<br>anio=%{x}<br>votos=%{y}<extra></extra>",
         "legendgroup": "PALENQUEDELAVEREDALASTRECIENTASYDELMUNICIPIODEGALAPA",
         "line": {
          "color": "#636efa",
          "dash": "solid"
         },
         "marker": {
          "symbol": "circle"
         },
         "mode": "markers+lines",
         "name": "PALENQUEDELAVEREDALASTRECIENTASYDELMUNICIPIODEGALAPA",
         "orientation": "v",
         "showlegend": true,
         "type": "scatter",
         "x": [
          2022
         ],
         "xaxis": "x",
         "y": [
          289
         ],
         "yaxis": "y"
        },
        {
         "hovertemplate": "partido=ODEPRIVICOR<br>anio=%{x}<br>votos=%{y}<extra></extra>",
         "legendgroup": "ODEPRIVICOR",
         "line": {
          "color": "#EF553B",
          "dash": "solid"
         },
         "marker": {
          "symbol": "circle"
         },
         "mode": "markers+lines",
         "name": "ODEPRIVICOR",
         "orientation": "v",
         "showlegend": true,
         "type": "scatter",
         "x": [
          2022
         ],
         "xaxis": "x",
         "y": [
          2
         ],
         "yaxis": "y"
        },
        {
         "hovertemplate": "partido=CONSEJOCOMUNITRECUERDODENUESTROSANCESTROSRIOMEJICANO<br>anio=%{x}<br>votos=%{y}<extra></extra>",
         "legendgroup": "CONSEJOCOMUNITRECUERDODENUESTROSANCESTROSRIOMEJICANO",
         "line": {
          "color": "#00cc96",
          "dash": "solid"
         },
         "marker": {
          "symbol": "circle"
         },
         "mode": "markers+lines",
         "name": "CONSEJOCOMUNITRECUERDODENUESTROSANCESTROSRIOMEJICANO",
         "orientation": "v",
         "showlegend": true,
         "type": "scatter",
         "x": [
          2022
         ],
         "xaxis": "x",
         "y": [
          70
         ],
         "yaxis": "y"
        },
        {
         "hovertemplate": "partido=CONSEJOCOMUNITARIOPUERTOGIRN<br>anio=%{x}<br>votos=%{y}<extra></extra>",
         "legendgroup": "CONSEJOCOMUNITARIOPUERTOGIRN",
         "line": {
          "color": "#ab63fa",
          "dash": "solid"
         },
         "marker": {
          "symbol": "circle"
         },
         "mode": "markers+lines",
         "name": "CONSEJOCOMUNITARIOPUERTOGIRN",
         "orientation": "v",
         "showlegend": true,
         "type": "scatter",
         "x": [
          2022
         ],
         "xaxis": "x",
         "y": [
          18
         ],
         "yaxis": "y"
        },
        {
         "hovertemplate": "partido=Votosnulos<br>anio=%{x}<br>votos=%{y}<extra></extra>",
         "legendgroup": "Votosnulos",
         "line": {
          "color": "#FFA15A",
          "dash": "solid"
         },
         "marker": {
          "symbol": "circle"
         },
         "mode": "markers+lines",
         "name": "Votosnulos",
         "orientation": "v",
         "showlegend": true,
         "type": "scatter",
         "x": [
          2022,
          2022,
          2022
         ],
         "xaxis": "x",
         "y": [
          123,
          60,
          935
         ],
         "yaxis": "y"
        },
        {
         "hovertemplate": "partido=CONSEJOCOMUNITARIODELGUABAL<br>anio=%{x}<br>votos=%{y}<extra></extra>",
         "legendgroup": "CONSEJOCOMUNITARIODELGUABAL",
         "line": {
          "color": "#19d3f3",
          "dash": "solid"
         },
         "marker": {
          "symbol": "circle"
         },
         "mode": "markers+lines",
         "name": "CONSEJOCOMUNITARIODELGUABAL",
         "orientation": "v",
         "showlegend": true,
         "type": "scatter",
         "x": [
          2022
         ],
         "xaxis": "x",
         "y": [
          39
         ],
         "yaxis": "y"
        },
        {
         "hovertemplate": "partido=CONSEJOCOMUNITARIODELOSCORREGIMIENTOSDESANANTONIOYELCASTILLOMUNICIPIODEELCERRITO<br>anio=%{x}<br>votos=%{y}<extra></extra>",
         "legendgroup": "CONSEJOCOMUNITARIODELOSCORREGIMIENTOSDESANANTONIOYELCASTILLOMUNICIPIODEELCERRITO",
         "line": {
          "color": "#FF6692",
          "dash": "solid"
         },
         "marker": {
          "symbol": "circle"
         },
         "mode": "markers+lines",
         "name": "CONSEJOCOMUNITARIODELOSCORREGIMIENTOSDESANANTONIOYELCASTILLOMUNICIPIODEELCERRITO",
         "orientation": "v",
         "showlegend": true,
         "type": "scatter",
         "x": [
          2022
         ],
         "xaxis": "x",
         "y": [
          33
         ],
         "yaxis": "y"
        },
        {
         "hovertemplate": "partido=ALIANZANACIONALAFROCOLOMBIANA<br>anio=%{x}<br>votos=%{y}<extra></extra>",
         "legendgroup": "ALIANZANACIONALAFROCOLOMBIANA",
         "line": {
          "color": "#B6E880",
          "dash": "solid"
         },
         "marker": {
          "symbol": "circle"
         },
         "mode": "markers+lines",
         "name": "ALIANZANACIONALAFROCOLOMBIANA",
         "orientation": "v",
         "showlegend": true,
         "type": "scatter",
         "x": [
          2022
         ],
         "xaxis": "x",
         "y": [
          232
         ],
         "yaxis": "y"
        },
        {
         "hovertemplate": "partido=AFROMUTATA<br>anio=%{x}<br>votos=%{y}<extra></extra>",
         "legendgroup": "AFROMUTATA",
         "line": {
          "color": "#FF97FF",
          "dash": "solid"
         },
         "marker": {
          "symbol": "circle"
         },
         "mode": "markers+lines",
         "name": "AFROMUTATA",
         "orientation": "v",
         "showlegend": true,
         "type": "scatter",
         "x": [
          2022
         ],
         "xaxis": "x",
         "y": [
          44
         ],
         "yaxis": "y"
        },
        {
         "hovertemplate": "partido=PARTIDODELAUNINPORLAGENTEPARTIDODELAU<br>anio=%{x}<br>votos=%{y}<extra></extra>",
         "legendgroup": "PARTIDODELAUNINPORLAGENTEPARTIDODELAU",
         "line": {
          "color": "#FECB52",
          "dash": "solid"
         },
         "marker": {
          "symbol": "circle"
         },
         "mode": "markers+lines",
         "name": "PARTIDODELAUNINPORLAGENTEPARTIDODELAU",
         "orientation": "v",
         "showlegend": true,
         "type": "scatter",
         "x": [
          2022
         ],
         "xaxis": "x",
         "y": [
          2812
         ],
         "yaxis": "y"
        },
        {
         "hovertemplate": "partido=RESGUARDOINDGENAALTAYMEDIAGUAJIRA<br>anio=%{x}<br>votos=%{y}<extra></extra>",
         "legendgroup": "RESGUARDOINDGENAALTAYMEDIAGUAJIRA",
         "line": {
          "color": "#636efa",
          "dash": "solid"
         },
         "marker": {
          "symbol": "circle"
         },
         "mode": "markers+lines",
         "name": "RESGUARDOINDGENAALTAYMEDIAGUAJIRA",
         "orientation": "v",
         "showlegend": true,
         "type": "scatter",
         "x": [
          2022
         ],
         "xaxis": "x",
         "y": [
          305
         ],
         "yaxis": "y"
        },
        {
         "hovertemplate": "partido=ASOCIACINNACIONALDECABILDOSYAUTORIDADESINDGENASENCOLOMBIAANICOL<br>anio=%{x}<br>votos=%{y}<extra></extra>",
         "legendgroup": "ASOCIACINNACIONALDECABILDOSYAUTORIDADESINDGENASENCOLOMBIAANICOL",
         "line": {
          "color": "#EF553B",
          "dash": "solid"
         },
         "marker": {
          "symbol": "circle"
         },
         "mode": "markers+lines",
         "name": "ASOCIACINNACIONALDECABILDOSYAUTORIDADESINDGENASENCOLOMBIAANICOL",
         "orientation": "v",
         "showlegend": true,
         "type": "scatter",
         "x": [
          2022
         ],
         "xaxis": "x",
         "y": [
          263
         ],
         "yaxis": "y"
        },
        {
         "hovertemplate": "partido=MOVIMIENTOAUTORIDADESINDGENASDECOLOMBIAAICO<br>anio=%{x}<br>votos=%{y}<extra></extra>",
         "legendgroup": "MOVIMIENTOAUTORIDADESINDGENASDECOLOMBIAAICO",
         "line": {
          "color": "#00cc96",
          "dash": "solid"
         },
         "marker": {
          "symbol": "circle"
         },
         "mode": "markers+lines",
         "name": "MOVIMIENTOAUTORIDADESINDGENASDECOLOMBIAAICO",
         "orientation": "v",
         "showlegend": true,
         "type": "scatter",
         "x": [
          2022
         ],
         "xaxis": "x",
         "y": [
          362
         ],
         "yaxis": "y"
        },
        {
         "hovertemplate": "partido=MOVIMIENTOALTERNATIVOINDGENASOCIALMAIS<br>anio=%{x}<br>votos=%{y}<extra></extra>",
         "legendgroup": "MOVIMIENTOALTERNATIVOINDGENASOCIALMAIS",
         "line": {
          "color": "#ab63fa",
          "dash": "solid"
         },
         "marker": {
          "symbol": "circle"
         },
         "mode": "markers+lines",
         "name": "MOVIMIENTOALTERNATIVOINDGENASOCIALMAIS",
         "orientation": "v",
         "showlegend": true,
         "type": "scatter",
         "x": [
          2022
         ],
         "xaxis": "x",
         "y": [
          963
         ],
         "yaxis": "y"
        },
        {
         "hovertemplate": "partido=CABILDOINDGENAAYWJAWASHI<br>anio=%{x}<br>votos=%{y}<extra></extra>",
         "legendgroup": "CABILDOINDGENAAYWJAWASHI",
         "line": {
          "color": "#FFA15A",
          "dash": "solid"
         },
         "marker": {
          "symbol": "circle"
         },
         "mode": "markers+lines",
         "name": "CABILDOINDGENAAYWJAWASHI",
         "orientation": "v",
         "showlegend": true,
         "type": "scatter",
         "x": [
          2022
         ],
         "xaxis": "x",
         "y": [
          216
         ],
         "yaxis": "y"
        },
        {
         "hovertemplate": "partido=PARTIDOINDGENACOLOMBIANOPIC<br>anio=%{x}<br>votos=%{y}<extra></extra>",
         "legendgroup": "PARTIDOINDGENACOLOMBIANOPIC",
         "line": {
          "color": "#19d3f3",
          "dash": "solid"
         },
         "marker": {
          "symbol": "circle"
         },
         "mode": "markers+lines",
         "name": "PARTIDOINDGENACOLOMBIANOPIC",
         "orientation": "v",
         "showlegend": true,
         "type": "scatter",
         "x": [
          2022
         ],
         "xaxis": "x",
         "y": [
          815
         ],
         "yaxis": "y"
        },
        {
         "hovertemplate": "partido=ORGANIZACINTNICADECOMUNIDADESAFROSLOSPALENKES<br>anio=%{x}<br>votos=%{y}<extra></extra>",
         "legendgroup": "ORGANIZACINTNICADECOMUNIDADESAFROSLOSPALENKES",
         "line": {
          "color": "#FF6692",
          "dash": "solid"
         },
         "marker": {
          "symbol": "circle"
         },
         "mode": "markers+lines",
         "name": "ORGANIZACINTNICADECOMUNIDADESAFROSLOSPALENKES",
         "orientation": "v",
         "showlegend": true,
         "type": "scatter",
         "x": [
          2022
         ],
         "xaxis": "x",
         "y": [
          51
         ],
         "yaxis": "y"
        },
        {
         "hovertemplate": "partido=CONSEJOCOMUNITARIODELACOSTAPACFICACONCOSTA<br>anio=%{x}<br>votos=%{y}<extra></extra>",
         "legendgroup": "CONSEJOCOMUNITARIODELACOSTAPACFICACONCOSTA",
         "line": {
          "color": "#B6E880",
          "dash": "solid"
         },
         "marker": {
          "symbol": "circle"
         },
         "mode": "markers+lines",
         "name": "CONSEJOCOMUNITARIODELACOSTAPACFICACONCOSTA",
         "orientation": "v",
         "showlegend": true,
         "type": "scatter",
         "x": [
          2022
         ],
         "xaxis": "x",
         "y": [
          213
         ],
         "yaxis": "y"
        },
        {
         "hovertemplate": "partido=ASOCIACINAFRODESCENDIENTESDEARBOLETESAFRODESAR<br>anio=%{x}<br>votos=%{y}<extra></extra>",
         "legendgroup": "ASOCIACINAFRODESCENDIENTESDEARBOLETESAFRODESAR",
         "line": {
          "color": "#FF97FF",
          "dash": "solid"
         },
         "marker": {
          "symbol": "circle"
         },
         "mode": "markers+lines",
         "name": "ASOCIACINAFRODESCENDIENTESDEARBOLETESAFRODESAR",
         "orientation": "v",
         "showlegend": true,
         "type": "scatter",
         "x": [
          2022
         ],
         "xaxis": "x",
         "y": [
          48
         ],
         "yaxis": "y"
        },
        {
         "hovertemplate": "partido=ASOCAFROCOLDESPLAZADOSMCPIOGUACARVALLEDELCAUCAADAG<br>anio=%{x}<br>votos=%{y}<extra></extra>",
         "legendgroup": "ASOCAFROCOLDESPLAZADOSMCPIOGUACARVALLEDELCAUCAADAG",
         "line": {
          "color": "#FECB52",
          "dash": "solid"
         },
         "marker": {
          "symbol": "circle"
         },
         "mode": "markers+lines",
         "name": "ASOCAFROCOLDESPLAZADOSMCPIOGUACARVALLEDELCAUCAADAG",
         "orientation": "v",
         "showlegend": true,
         "type": "scatter",
         "x": [
          2022
         ],
         "xaxis": "x",
         "y": [
          33
         ],
         "yaxis": "y"
        },
        {
         "hovertemplate": "partido=RESGUARDOINDGENAZENDELALTOSANJORGE<br>anio=%{x}<br>votos=%{y}<extra></extra>",
         "legendgroup": "RESGUARDOINDGENAZENDELALTOSANJORGE",
         "line": {
          "color": "#636efa",
          "dash": "solid"
         },
         "marker": {
          "symbol": "circle"
         },
         "mode": "markers+lines",
         "name": "RESGUARDOINDGENAZENDELALTOSANJORGE",
         "orientation": "v",
         "showlegend": true,
         "type": "scatter",
         "x": [
          2022
         ],
         "xaxis": "x",
         "y": [
          129
         ],
         "yaxis": "y"
        },
        {
         "hovertemplate": "partido=CCLATOMA<br>anio=%{x}<br>votos=%{y}<extra></extra>",
         "legendgroup": "CCLATOMA",
         "line": {
          "color": "#EF553B",
          "dash": "solid"
         },
         "marker": {
          "symbol": "circle"
         },
         "mode": "markers+lines",
         "name": "CCLATOMA",
         "orientation": "v",
         "showlegend": true,
         "type": "scatter",
         "x": [
          2022
         ],
         "xaxis": "x",
         "y": [
          1309
         ],
         "yaxis": "y"
        },
        {
         "hovertemplate": "partido=COACNEJA<br>anio=%{x}<br>votos=%{y}<extra></extra>",
         "legendgroup": "COACNEJA",
         "line": {
          "color": "#00cc96",
          "dash": "solid"
         },
         "marker": {
          "symbol": "circle"
         },
         "mode": "markers+lines",
         "name": "COACNEJA",
         "orientation": "v",
         "showlegend": true,
         "type": "scatter",
         "x": [
          2022
         ],
         "xaxis": "x",
         "y": [
          1
         ],
         "yaxis": "y"
        },
        {
         "hovertemplate": "partido=CONMOGUZ<br>anio=%{x}<br>votos=%{y}<extra></extra>",
         "legendgroup": "CONMOGUZ",
         "line": {
          "color": "#ab63fa",
          "dash": "solid"
         },
         "marker": {
          "symbol": "circle"
         },
         "mode": "markers+lines",
         "name": "CONMOGUZ",
         "orientation": "v",
         "showlegend": true,
         "type": "scatter",
         "x": [
          2022
         ],
         "xaxis": "x",
         "y": [
          21
         ],
         "yaxis": "y"
        },
        {
         "hovertemplate": "partido=CONSEJOCOMUNITARIODEVUELTAMANZA<br>anio=%{x}<br>votos=%{y}<extra></extra>",
         "legendgroup": "CONSEJOCOMUNITARIODEVUELTAMANZA",
         "line": {
          "color": "#FFA15A",
          "dash": "solid"
         },
         "marker": {
          "symbol": "circle"
         },
         "mode": "markers+lines",
         "name": "CONSEJOCOMUNITARIODEVUELTAMANZA",
         "orientation": "v",
         "showlegend": true,
         "type": "scatter",
         "x": [
          2022
         ],
         "xaxis": "x",
         "y": [
          20
         ],
         "yaxis": "y"
        },
        {
         "hovertemplate": "partido=CONSEJOCOMUNITARIODELROGUAJU<br>anio=%{x}<br>votos=%{y}<extra></extra>",
         "legendgroup": "CONSEJOCOMUNITARIODELROGUAJU",
         "line": {
          "color": "#19d3f3",
          "dash": "solid"
         },
         "marker": {
          "symbol": "circle"
         },
         "mode": "markers+lines",
         "name": "CONSEJOCOMUNITARIODELROGUAJU",
         "orientation": "v",
         "showlegend": true,
         "type": "scatter",
         "x": [
          2022
         ],
         "xaxis": "x",
         "y": [
          30
         ],
         "yaxis": "y"
        },
        {
         "hovertemplate": "partido=CONSEJOCOMUNITARIODEFLAMENCOMUNICIPIODEMARALABAJA<br>anio=%{x}<br>votos=%{y}<extra></extra>",
         "legendgroup": "CONSEJOCOMUNITARIODEFLAMENCOMUNICIPIODEMARALABAJA",
         "line": {
          "color": "#FF6692",
          "dash": "solid"
         },
         "marker": {
          "symbol": "circle"
         },
         "mode": "markers+lines",
         "name": "CONSEJOCOMUNITARIODEFLAMENCOMUNICIPIODEMARALABAJA",
         "orientation": "v",
         "showlegend": true,
         "type": "scatter",
         "x": [
          2022
         ],
         "xaxis": "x",
         "y": [
          31
         ],
         "yaxis": "y"
        },
        {
         "hovertemplate": "partido=CONSEJOCOMUNITARIODELACOMUNIDADNEGRALIMONES<br>anio=%{x}<br>votos=%{y}<extra></extra>",
         "legendgroup": "CONSEJOCOMUNITARIODELACOMUNIDADNEGRALIMONES",
         "line": {
          "color": "#B6E880",
          "dash": "solid"
         },
         "marker": {
          "symbol": "circle"
         },
         "mode": "markers+lines",
         "name": "CONSEJOCOMUNITARIODELACOMUNIDADNEGRALIMONES",
         "orientation": "v",
         "showlegend": true,
         "type": "scatter",
         "x": [
          2022
         ],
         "xaxis": "x",
         "y": [
          114
         ],
         "yaxis": "y"
        },
        {
         "hovertemplate": "partido=CONSEJOCOMUNITARIODELACOMUNIDADNEGRADEVILLAGLORIA<br>anio=%{x}<br>votos=%{y}<extra></extra>",
         "legendgroup": "CONSEJOCOMUNITARIODELACOMUNIDADNEGRADEVILLAGLORIA",
         "line": {
          "color": "#FF97FF",
          "dash": "solid"
         },
         "marker": {
          "symbol": "circle"
         },
         "mode": "markers+lines",
         "name": "CONSEJOCOMUNITARIODELACOMUNIDADNEGRADEVILLAGLORIA",
         "orientation": "v",
         "showlegend": true,
         "type": "scatter",
         "x": [
          2022
         ],
         "xaxis": "x",
         "y": [
          60
         ],
         "yaxis": "y"
        },
        {
         "hovertemplate": "partido=CONSEJOCOMUNITARIOINTEGRALDELLOR<br>anio=%{x}<br>votos=%{y}<extra></extra>",
         "legendgroup": "CONSEJOCOMUNITARIOINTEGRALDELLOR",
         "line": {
          "color": "#FECB52",
          "dash": "solid"
         },
         "marker": {
          "symbol": "circle"
         },
         "mode": "markers+lines",
         "name": "CONSEJOCOMUNITARIOINTEGRALDELLOR",
         "orientation": "v",
         "showlegend": true,
         "type": "scatter",
         "x": [
          2022
         ],
         "xaxis": "x",
         "y": [
          52
         ],
         "yaxis": "y"
        },
        {
         "hovertemplate": "partido=CONSEJOCOMUNITARIOARCILLACARDNYTUNA<br>anio=%{x}<br>votos=%{y}<extra></extra>",
         "legendgroup": "CONSEJOCOMUNITARIOARCILLACARDNYTUNA",
         "line": {
          "color": "#636efa",
          "dash": "solid"
         },
         "marker": {
          "symbol": "circle"
         },
         "mode": "markers+lines",
         "name": "CONSEJOCOMUNITARIOARCILLACARDNYTUNA",
         "orientation": "v",
         "showlegend": true,
         "type": "scatter",
         "x": [
          2022
         ],
         "xaxis": "x",
         "y": [
          25
         ],
         "yaxis": "y"
        },
        {
         "hovertemplate": "partido=CONSEJOCOMUNITARIOALTOPARASO<br>anio=%{x}<br>votos=%{y}<extra></extra>",
         "legendgroup": "CONSEJOCOMUNITARIOALTOPARASO",
         "line": {
          "color": "#EF553B",
          "dash": "solid"
         },
         "marker": {
          "symbol": "circle"
         },
         "mode": "markers+lines",
         "name": "CONSEJOCOMUNITARIOALTOPARASO",
         "orientation": "v",
         "showlegend": true,
         "type": "scatter",
         "x": [
          2022
         ],
         "xaxis": "x",
         "y": [
          88
         ],
         "yaxis": "y"
        },
        {
         "hovertemplate": "partido=CONSEJOCOMUNITARIOAFROZABALETAS<br>anio=%{x}<br>votos=%{y}<extra></extra>",
         "legendgroup": "CONSEJOCOMUNITARIOAFROZABALETAS",
         "line": {
          "color": "#00cc96",
          "dash": "solid"
         },
         "marker": {
          "symbol": "circle"
         },
         "mode": "markers+lines",
         "name": "CONSEJOCOMUNITARIOAFROZABALETAS",
         "orientation": "v",
         "showlegend": true,
         "type": "scatter",
         "x": [
          2022
         ],
         "xaxis": "x",
         "y": [
          402
         ],
         "yaxis": "y"
        },
        {
         "hovertemplate": "partido=CONSEJOCOMUNITARIOLAVOZDELOSNEGROS<br>anio=%{x}<br>votos=%{y}<extra></extra>",
         "legendgroup": "CONSEJOCOMUNITARIOLAVOZDELOSNEGROS",
         "line": {
          "color": "#ab63fa",
          "dash": "solid"
         },
         "marker": {
          "symbol": "circle"
         },
         "mode": "markers+lines",
         "name": "CONSEJOCOMUNITARIOLAVOZDELOSNEGROS",
         "orientation": "v",
         "showlegend": true,
         "type": "scatter",
         "x": [
          2022
         ],
         "xaxis": "x",
         "y": [
          501
         ],
         "yaxis": "y"
        }
       ],
       "layout": {
        "legend": {
         "title": {
          "text": "partido"
         },
         "tracegroupgap": 0
        },
        "template": {
         "data": {
          "bar": [
           {
            "error_x": {
             "color": "#2a3f5f"
            },
            "error_y": {
             "color": "#2a3f5f"
            },
            "marker": {
             "line": {
              "color": "#E5ECF6",
              "width": 0.5
             },
             "pattern": {
              "fillmode": "overlay",
              "size": 10,
              "solidity": 0.2
             }
            },
            "type": "bar"
           }
          ],
          "barpolar": [
           {
            "marker": {
             "line": {
              "color": "#E5ECF6",
              "width": 0.5
             },
             "pattern": {
              "fillmode": "overlay",
              "size": 10,
              "solidity": 0.2
             }
            },
            "type": "barpolar"
           }
          ],
          "carpet": [
           {
            "aaxis": {
             "endlinecolor": "#2a3f5f",
             "gridcolor": "white",
             "linecolor": "white",
             "minorgridcolor": "white",
             "startlinecolor": "#2a3f5f"
            },
            "baxis": {
             "endlinecolor": "#2a3f5f",
             "gridcolor": "white",
             "linecolor": "white",
             "minorgridcolor": "white",
             "startlinecolor": "#2a3f5f"
            },
            "type": "carpet"
           }
          ],
          "choropleth": [
           {
            "colorbar": {
             "outlinewidth": 0,
             "ticks": ""
            },
            "type": "choropleth"
           }
          ],
          "contour": [
           {
            "colorbar": {
             "outlinewidth": 0,
             "ticks": ""
            },
            "colorscale": [
             [
              0,
              "#0d0887"
             ],
             [
              0.1111111111111111,
              "#46039f"
             ],
             [
              0.2222222222222222,
              "#7201a8"
             ],
             [
              0.3333333333333333,
              "#9c179e"
             ],
             [
              0.4444444444444444,
              "#bd3786"
             ],
             [
              0.5555555555555556,
              "#d8576b"
             ],
             [
              0.6666666666666666,
              "#ed7953"
             ],
             [
              0.7777777777777778,
              "#fb9f3a"
             ],
             [
              0.8888888888888888,
              "#fdca26"
             ],
             [
              1,
              "#f0f921"
             ]
            ],
            "type": "contour"
           }
          ],
          "contourcarpet": [
           {
            "colorbar": {
             "outlinewidth": 0,
             "ticks": ""
            },
            "type": "contourcarpet"
           }
          ],
          "heatmap": [
           {
            "colorbar": {
             "outlinewidth": 0,
             "ticks": ""
            },
            "colorscale": [
             [
              0,
              "#0d0887"
             ],
             [
              0.1111111111111111,
              "#46039f"
             ],
             [
              0.2222222222222222,
              "#7201a8"
             ],
             [
              0.3333333333333333,
              "#9c179e"
             ],
             [
              0.4444444444444444,
              "#bd3786"
             ],
             [
              0.5555555555555556,
              "#d8576b"
             ],
             [
              0.6666666666666666,
              "#ed7953"
             ],
             [
              0.7777777777777778,
              "#fb9f3a"
             ],
             [
              0.8888888888888888,
              "#fdca26"
             ],
             [
              1,
              "#f0f921"
             ]
            ],
            "type": "heatmap"
           }
          ],
          "heatmapgl": [
           {
            "colorbar": {
             "outlinewidth": 0,
             "ticks": ""
            },
            "colorscale": [
             [
              0,
              "#0d0887"
             ],
             [
              0.1111111111111111,
              "#46039f"
             ],
             [
              0.2222222222222222,
              "#7201a8"
             ],
             [
              0.3333333333333333,
              "#9c179e"
             ],
             [
              0.4444444444444444,
              "#bd3786"
             ],
             [
              0.5555555555555556,
              "#d8576b"
             ],
             [
              0.6666666666666666,
              "#ed7953"
             ],
             [
              0.7777777777777778,
              "#fb9f3a"
             ],
             [
              0.8888888888888888,
              "#fdca26"
             ],
             [
              1,
              "#f0f921"
             ]
            ],
            "type": "heatmapgl"
           }
          ],
          "histogram": [
           {
            "marker": {
             "pattern": {
              "fillmode": "overlay",
              "size": 10,
              "solidity": 0.2
             }
            },
            "type": "histogram"
           }
          ],
          "histogram2d": [
           {
            "colorbar": {
             "outlinewidth": 0,
             "ticks": ""
            },
            "colorscale": [
             [
              0,
              "#0d0887"
             ],
             [
              0.1111111111111111,
              "#46039f"
             ],
             [
              0.2222222222222222,
              "#7201a8"
             ],
             [
              0.3333333333333333,
              "#9c179e"
             ],
             [
              0.4444444444444444,
              "#bd3786"
             ],
             [
              0.5555555555555556,
              "#d8576b"
             ],
             [
              0.6666666666666666,
              "#ed7953"
             ],
             [
              0.7777777777777778,
              "#fb9f3a"
             ],
             [
              0.8888888888888888,
              "#fdca26"
             ],
             [
              1,
              "#f0f921"
             ]
            ],
            "type": "histogram2d"
           }
          ],
          "histogram2dcontour": [
           {
            "colorbar": {
             "outlinewidth": 0,
             "ticks": ""
            },
            "colorscale": [
             [
              0,
              "#0d0887"
             ],
             [
              0.1111111111111111,
              "#46039f"
             ],
             [
              0.2222222222222222,
              "#7201a8"
             ],
             [
              0.3333333333333333,
              "#9c179e"
             ],
             [
              0.4444444444444444,
              "#bd3786"
             ],
             [
              0.5555555555555556,
              "#d8576b"
             ],
             [
              0.6666666666666666,
              "#ed7953"
             ],
             [
              0.7777777777777778,
              "#fb9f3a"
             ],
             [
              0.8888888888888888,
              "#fdca26"
             ],
             [
              1,
              "#f0f921"
             ]
            ],
            "type": "histogram2dcontour"
           }
          ],
          "mesh3d": [
           {
            "colorbar": {
             "outlinewidth": 0,
             "ticks": ""
            },
            "type": "mesh3d"
           }
          ],
          "parcoords": [
           {
            "line": {
             "colorbar": {
              "outlinewidth": 0,
              "ticks": ""
             }
            },
            "type": "parcoords"
           }
          ],
          "pie": [
           {
            "automargin": true,
            "type": "pie"
           }
          ],
          "scatter": [
           {
            "fillpattern": {
             "fillmode": "overlay",
             "size": 10,
             "solidity": 0.2
            },
            "type": "scatter"
           }
          ],
          "scatter3d": [
           {
            "line": {
             "colorbar": {
              "outlinewidth": 0,
              "ticks": ""
             }
            },
            "marker": {
             "colorbar": {
              "outlinewidth": 0,
              "ticks": ""
             }
            },
            "type": "scatter3d"
           }
          ],
          "scattercarpet": [
           {
            "marker": {
             "colorbar": {
              "outlinewidth": 0,
              "ticks": ""
             }
            },
            "type": "scattercarpet"
           }
          ],
          "scattergeo": [
           {
            "marker": {
             "colorbar": {
              "outlinewidth": 0,
              "ticks": ""
             }
            },
            "type": "scattergeo"
           }
          ],
          "scattergl": [
           {
            "marker": {
             "colorbar": {
              "outlinewidth": 0,
              "ticks": ""
             }
            },
            "type": "scattergl"
           }
          ],
          "scattermapbox": [
           {
            "marker": {
             "colorbar": {
              "outlinewidth": 0,
              "ticks": ""
             }
            },
            "type": "scattermapbox"
           }
          ],
          "scatterpolar": [
           {
            "marker": {
             "colorbar": {
              "outlinewidth": 0,
              "ticks": ""
             }
            },
            "type": "scatterpolar"
           }
          ],
          "scatterpolargl": [
           {
            "marker": {
             "colorbar": {
              "outlinewidth": 0,
              "ticks": ""
             }
            },
            "type": "scatterpolargl"
           }
          ],
          "scatterternary": [
           {
            "marker": {
             "colorbar": {
              "outlinewidth": 0,
              "ticks": ""
             }
            },
            "type": "scatterternary"
           }
          ],
          "surface": [
           {
            "colorbar": {
             "outlinewidth": 0,
             "ticks": ""
            },
            "colorscale": [
             [
              0,
              "#0d0887"
             ],
             [
              0.1111111111111111,
              "#46039f"
             ],
             [
              0.2222222222222222,
              "#7201a8"
             ],
             [
              0.3333333333333333,
              "#9c179e"
             ],
             [
              0.4444444444444444,
              "#bd3786"
             ],
             [
              0.5555555555555556,
              "#d8576b"
             ],
             [
              0.6666666666666666,
              "#ed7953"
             ],
             [
              0.7777777777777778,
              "#fb9f3a"
             ],
             [
              0.8888888888888888,
              "#fdca26"
             ],
             [
              1,
              "#f0f921"
             ]
            ],
            "type": "surface"
           }
          ],
          "table": [
           {
            "cells": {
             "fill": {
              "color": "#EBF0F8"
             },
             "line": {
              "color": "white"
             }
            },
            "header": {
             "fill": {
              "color": "#C8D4E3"
             },
             "line": {
              "color": "white"
             }
            },
            "type": "table"
           }
          ]
         },
         "layout": {
          "annotationdefaults": {
           "arrowcolor": "#2a3f5f",
           "arrowhead": 0,
           "arrowwidth": 1
          },
          "autotypenumbers": "strict",
          "coloraxis": {
           "colorbar": {
            "outlinewidth": 0,
            "ticks": ""
           }
          },
          "colorscale": {
           "diverging": [
            [
             0,
             "#8e0152"
            ],
            [
             0.1,
             "#c51b7d"
            ],
            [
             0.2,
             "#de77ae"
            ],
            [
             0.3,
             "#f1b6da"
            ],
            [
             0.4,
             "#fde0ef"
            ],
            [
             0.5,
             "#f7f7f7"
            ],
            [
             0.6,
             "#e6f5d0"
            ],
            [
             0.7,
             "#b8e186"
            ],
            [
             0.8,
             "#7fbc41"
            ],
            [
             0.9,
             "#4d9221"
            ],
            [
             1,
             "#276419"
            ]
           ],
           "sequential": [
            [
             0,
             "#0d0887"
            ],
            [
             0.1111111111111111,
             "#46039f"
            ],
            [
             0.2222222222222222,
             "#7201a8"
            ],
            [
             0.3333333333333333,
             "#9c179e"
            ],
            [
             0.4444444444444444,
             "#bd3786"
            ],
            [
             0.5555555555555556,
             "#d8576b"
            ],
            [
             0.6666666666666666,
             "#ed7953"
            ],
            [
             0.7777777777777778,
             "#fb9f3a"
            ],
            [
             0.8888888888888888,
             "#fdca26"
            ],
            [
             1,
             "#f0f921"
            ]
           ],
           "sequentialminus": [
            [
             0,
             "#0d0887"
            ],
            [
             0.1111111111111111,
             "#46039f"
            ],
            [
             0.2222222222222222,
             "#7201a8"
            ],
            [
             0.3333333333333333,
             "#9c179e"
            ],
            [
             0.4444444444444444,
             "#bd3786"
            ],
            [
             0.5555555555555556,
             "#d8576b"
            ],
            [
             0.6666666666666666,
             "#ed7953"
            ],
            [
             0.7777777777777778,
             "#fb9f3a"
            ],
            [
             0.8888888888888888,
             "#fdca26"
            ],
            [
             1,
             "#f0f921"
            ]
           ]
          },
          "colorway": [
           "#636efa",
           "#EF553B",
           "#00cc96",
           "#ab63fa",
           "#FFA15A",
           "#19d3f3",
           "#FF6692",
           "#B6E880",
           "#FF97FF",
           "#FECB52"
          ],
          "font": {
           "color": "#2a3f5f"
          },
          "geo": {
           "bgcolor": "white",
           "lakecolor": "white",
           "landcolor": "#E5ECF6",
           "showlakes": true,
           "showland": true,
           "subunitcolor": "white"
          },
          "hoverlabel": {
           "align": "left"
          },
          "hovermode": "closest",
          "mapbox": {
           "style": "light"
          },
          "paper_bgcolor": "white",
          "plot_bgcolor": "#E5ECF6",
          "polar": {
           "angularaxis": {
            "gridcolor": "white",
            "linecolor": "white",
            "ticks": ""
           },
           "bgcolor": "#E5ECF6",
           "radialaxis": {
            "gridcolor": "white",
            "linecolor": "white",
            "ticks": ""
           }
          },
          "scene": {
           "xaxis": {
            "backgroundcolor": "#E5ECF6",
            "gridcolor": "white",
            "gridwidth": 2,
            "linecolor": "white",
            "showbackground": true,
            "ticks": "",
            "zerolinecolor": "white"
           },
           "yaxis": {
            "backgroundcolor": "#E5ECF6",
            "gridcolor": "white",
            "gridwidth": 2,
            "linecolor": "white",
            "showbackground": true,
            "ticks": "",
            "zerolinecolor": "white"
           },
           "zaxis": {
            "backgroundcolor": "#E5ECF6",
            "gridcolor": "white",
            "gridwidth": 2,
            "linecolor": "white",
            "showbackground": true,
            "ticks": "",
            "zerolinecolor": "white"
           }
          },
          "shapedefaults": {
           "line": {
            "color": "#2a3f5f"
           }
          },
          "ternary": {
           "aaxis": {
            "gridcolor": "white",
            "linecolor": "white",
            "ticks": ""
           },
           "baxis": {
            "gridcolor": "white",
            "linecolor": "white",
            "ticks": ""
           },
           "bgcolor": "#E5ECF6",
           "caxis": {
            "gridcolor": "white",
            "linecolor": "white",
            "ticks": ""
           }
          },
          "title": {
           "x": 0.05
          },
          "xaxis": {
           "automargin": true,
           "gridcolor": "white",
           "linecolor": "white",
           "ticks": "",
           "title": {
            "standoff": 15
           },
           "zerolinecolor": "white",
           "zerolinewidth": 2
          },
          "yaxis": {
           "automargin": true,
           "gridcolor": "white",
           "linecolor": "white",
           "ticks": "",
           "title": {
            "standoff": 15
           },
           "zerolinecolor": "white",
           "zerolinewidth": 2
          }
         }
        },
        "title": {
         "text": "Total votos globales por anio, circunscripcion y partido"
        },
        "xaxis": {
         "anchor": "y",
         "domain": [
          0,
          1
         ],
         "title": {
          "text": "anio"
         }
        },
        "yaxis": {
         "anchor": "x",
         "domain": [
          0,
          1
         ],
         "title": {
          "text": "votos"
         }
        }
       }
      }
     },
     "metadata": {},
     "output_type": "display_data"
    }
   ],
   "source": [
    "import plotly.express as px\n",
    "cax_ag=cax_ag.sort_values(by=['anio'])\n",
    "\n",
    "\n",
    "fig = px.line(cax_ag, x='anio', y='votos', color='partido', markers=True,\n",
    "              title=\"Total votos globales por anio, circunscripcion y partido\"\n",
    "              )\n",
    "\n",
    "# fig.update_layout(\n",
    "#     {\n",
    "#         \"paper_bgcolor\": \"rgba(0, 0, 0, 0)\",\n",
    "#         \"plot_bgcolor\": \"rgba(0, 0, 0, 0)\",\n",
    "#     }\n",
    "# )\n",
    "\n",
    "fig.show()"
   ]
  },
  {
   "cell_type": "markdown",
   "metadata": {},
   "source": [
    "### b. Estados Unidos, por anio, ciudad, circunscripcion y partido"
   ]
  },
  {
   "cell_type": "code",
   "execution_count": null,
   "metadata": {},
   "outputs": [],
   "source": []
  },
  {
   "cell_type": "code",
   "execution_count": null,
   "metadata": {},
   "outputs": [],
   "source": []
  },
  {
   "cell_type": "code",
   "execution_count": null,
   "metadata": {},
   "outputs": [],
   "source": []
  },
  {
   "cell_type": "code",
   "execution_count": null,
   "metadata": {},
   "outputs": [],
   "source": []
  },
  {
   "cell_type": "markdown",
   "metadata": {},
   "source": [
    "Senado\n",
    "\n",
    "    Nacional\n",
    "            Listas,candidatos, votos por lista, votos por candidato, nulo, blanco, no marcado y censo\n",
    "    Indigena\n",
    "            Listas,candidatos, votos por lista, votos por candidato, nulo, blanco, no marcado y censo\n",
    "\n",
    "\n",
    "Camara\n",
    "\n",
    "    Territorial\n",
    "    Indigena\n",
    "    Negritude \n",
    "    CITREP"
   ]
  },
  {
   "cell_type": "code",
   "execution_count": null,
   "metadata": {},
   "outputs": [],
   "source": [
    "ca=d22.loc[d22.coddepto==88]"
   ]
  },
  {
   "cell_type": "markdown",
   "metadata": {},
   "source": [
    "## a. Por Anio, Senado, Camara Territorial, Camara Indigenas, Camara Negritudes, Camara CITREP"
   ]
  },
  {
   "cell_type": "code",
   "execution_count": null,
   "metadata": {},
   "outputs": [],
   "source": []
  },
  {
   "cell_type": "markdown",
   "metadata": {},
   "source": []
  },
  {
   "cell_type": "markdown",
   "metadata": {},
   "source": [
    "## b. Por anio, senado: lista, candidatos, umbral, elegidos\n"
   ]
  },
  {
   "cell_type": "markdown",
   "metadata": {},
   "source": [
    "## c. Por anio camara en el exterior "
   ]
  },
  {
   "cell_type": "markdown",
   "metadata": {},
   "source": [
    "### Tabla"
   ]
  },
  {
   "cell_type": "code",
   "execution_count": 102,
   "metadata": {},
   "outputs": [
    {
     "data": {
      "text/html": [
       "<div>\n",
       "<style scoped>\n",
       "    .dataframe tbody tr th:only-of-type {\n",
       "        vertical-align: middle;\n",
       "    }\n",
       "\n",
       "    .dataframe tbody tr th {\n",
       "        vertical-align: top;\n",
       "    }\n",
       "\n",
       "    .dataframe thead th {\n",
       "        text-align: right;\n",
       "    }\n",
       "</style>\n",
       "<table border=\"1\" class=\"dataframe\">\n",
       "  <thead>\n",
       "    <tr style=\"text-align: right;\">\n",
       "      <th></th>\n",
       "      <th>annoh</th>\n",
       "      <th>corp</th>\n",
       "      <th>eleccion</th>\n",
       "      <th>codcirc</th>\n",
       "      <th>nomdepto</th>\n",
       "      <th>coddepto</th>\n",
       "      <th>nommun</th>\n",
       "      <th>codmpio</th>\n",
       "      <th>zona</th>\n",
       "      <th>nompuesto</th>\n",
       "      <th>puesto</th>\n",
       "      <th>nomparti</th>\n",
       "      <th>codparti</th>\n",
       "      <th>nomcandi</th>\n",
       "      <th>codcandi</th>\n",
       "      <th>votos</th>\n",
       "      <th>censo</th>\n",
       "      <th>rcd___id</th>\n",
       "    </tr>\n",
       "  </thead>\n",
       "  <tbody>\n",
       "    <tr>\n",
       "      <th>203555</th>\n",
       "      <td>2010</td>\n",
       "      <td>2</td>\n",
       "      <td>CmaraTerritorial</td>\n",
       "      <td>1</td>\n",
       "      <td>CONSULADOS</td>\n",
       "      <td>88</td>\n",
       "      <td>ALEMANIA</td>\n",
       "      <td>120</td>\n",
       "      <td>Urbano</td>\n",
       "      <td>BerlinEmbajada</td>\n",
       "      <td>1.0</td>\n",
       "      <td>PARTIDOLIBERALCOLOMBIANO</td>\n",
       "      <td>1</td>\n",
       "      <td>PARTIDOLIBERALCOLOMBIANO</td>\n",
       "      <td>0</td>\n",
       "      <td>6</td>\n",
       "      <td>608</td>\n",
       "      <td>1nce6r88</td>\n",
       "    </tr>\n",
       "    <tr>\n",
       "      <th>203556</th>\n",
       "      <td>2010</td>\n",
       "      <td>2</td>\n",
       "      <td>CmaraTerritorial</td>\n",
       "      <td>1</td>\n",
       "      <td>CONSULADOS</td>\n",
       "      <td>88</td>\n",
       "      <td>ALEMANIA</td>\n",
       "      <td>120</td>\n",
       "      <td>Urbano</td>\n",
       "      <td>BerlinEmbajada</td>\n",
       "      <td>1.0</td>\n",
       "      <td>PARTIDOCONSERVADORCOLOMBIANO</td>\n",
       "      <td>2</td>\n",
       "      <td>OSCARJOSEPEREZALVAREZ</td>\n",
       "      <td>401</td>\n",
       "      <td>4</td>\n",
       "      <td>608</td>\n",
       "      <td>nk7av6l7</td>\n",
       "    </tr>\n",
       "  </tbody>\n",
       "</table>\n",
       "</div>"
      ],
      "text/plain": [
       "        annoh  corp          eleccion  codcirc    nomdepto  coddepto  \\\n",
       "203555   2010     2  CmaraTerritorial        1  CONSULADOS        88   \n",
       "203556   2010     2  CmaraTerritorial        1  CONSULADOS        88   \n",
       "\n",
       "          nommun  codmpio    zona       nompuesto  puesto  \\\n",
       "203555  ALEMANIA      120  Urbano  BerlinEmbajada     1.0   \n",
       "203556  ALEMANIA      120  Urbano  BerlinEmbajada     1.0   \n",
       "\n",
       "                            nomparti  codparti                  nomcandi  \\\n",
       "203555      PARTIDOLIBERALCOLOMBIANO         1  PARTIDOLIBERALCOLOMBIANO   \n",
       "203556  PARTIDOCONSERVADORCOLOMBIANO         2     OSCARJOSEPEREZALVAREZ   \n",
       "\n",
       "        codcandi  votos  censo  rcd___id  \n",
       "203555         0      6    608  1nce6r88  \n",
       "203556       401      4    608  nk7av6l7  "
      ]
     },
     "execution_count": 102,
     "metadata": {},
     "output_type": "execute_result"
    }
   ],
   "source": []
  },
  {
   "cell_type": "code",
   "execution_count": 106,
   "metadata": {},
   "outputs": [
    {
     "data": {
      "text/plain": [
       "44955"
      ]
     },
     "execution_count": 106,
     "metadata": {},
     "output_type": "execute_result"
    }
   ],
   "source": [
    "cax18=cax.loc[(cax.annoh==2018) & (cax.nommun=='ESTADOSUNIDOS')]\n",
    "cax18.votos.sum()"
   ]
  },
  {
   "cell_type": "code",
   "execution_count": 99,
   "metadata": {},
   "outputs": [],
   "source": [
    "re=cax.groupby(by=['annoh', 'nompuesto']).size()"
   ]
  },
  {
   "cell_type": "code",
   "execution_count": 72,
   "metadata": {},
   "outputs": [
    {
     "data": {
      "text/html": [
       "<div>\n",
       "<style scoped>\n",
       "    .dataframe tbody tr th:only-of-type {\n",
       "        vertical-align: middle;\n",
       "    }\n",
       "\n",
       "    .dataframe tbody tr th {\n",
       "        vertical-align: top;\n",
       "    }\n",
       "\n",
       "    .dataframe thead th {\n",
       "        text-align: right;\n",
       "    }\n",
       "</style>\n",
       "<table border=\"1\" class=\"dataframe\">\n",
       "  <thead>\n",
       "    <tr style=\"text-align: right;\">\n",
       "      <th></th>\n",
       "      <th>anio</th>\n",
       "      <th>partido</th>\n",
       "      <th>votos</th>\n",
       "      <th>censo</th>\n",
       "    </tr>\n",
       "  </thead>\n",
       "  <tbody>\n",
       "    <tr>\n",
       "      <th>0</th>\n",
       "      <td>2010</td>\n",
       "      <td>ALIANZASOCIALINDIGENA</td>\n",
       "      <td>377</td>\n",
       "      <td>92023</td>\n",
       "    </tr>\n",
       "    <tr>\n",
       "      <th>1</th>\n",
       "      <td>2010</td>\n",
       "      <td>MOVIMIENTOAPERTURALIBERAL</td>\n",
       "      <td>86</td>\n",
       "      <td>58771</td>\n",
       "    </tr>\n",
       "  </tbody>\n",
       "</table>\n",
       "</div>"
      ],
      "text/plain": [
       "   anio                    partido  votos  censo\n",
       "0  2010      ALIANZASOCIALINDIGENA    377  92023\n",
       "1  2010  MOVIMIENTOAPERTURALIBERAL     86  58771"
      ]
     },
     "execution_count": 72,
     "metadata": {},
     "output_type": "execute_result"
    }
   ],
   "source": [
    "cax_ag = (cax.groupby(['annoh', 'nomparti'], as_index=False)\n",
    "         .agg({'votos':'sum','censo':'sum'})\n",
    "         .rename(columns={'annoh':'anio', 'nomparti':'partido'}))\n",
    "cax_ag.head(2)"
   ]
  },
  {
   "cell_type": "markdown",
   "metadata": {},
   "source": [
    "### Grafica"
   ]
  },
  {
   "cell_type": "code",
   "execution_count": 90,
   "metadata": {},
   "outputs": [
    {
     "data": {
      "application/vnd.plotly.v1+json": {
       "config": {
        "plotlyServerURL": "https://plot.ly"
       },
       "data": [
        {
         "type": "heatmap",
         "x": [
          2010,
          2010,
          2010,
          2010,
          2010,
          2010,
          2010,
          2010,
          2010,
          2010,
          2010,
          2010,
          2010,
          2010,
          2014,
          2014,
          2014,
          2014,
          2014,
          2014,
          2014,
          2014,
          2014,
          2014,
          2014,
          2014,
          2014,
          2014,
          2018,
          2018,
          2018,
          2018,
          2018,
          2018,
          2018,
          2018,
          2018,
          2018,
          2018,
          2018,
          2018,
          2022,
          2022,
          2022,
          2022,
          2022,
          2022,
          2022,
          2022,
          2022,
          2022,
          2022,
          2022,
          2022
         ],
         "y": [
          "ALIANZASOCIALINDIGENA",
          "MOVIMIENTOAPERTURALIBERAL",
          "MOVIMIENTODEAUTORIDADESINDIGENASDECOLOMBIAAICO",
          "MOVIMIENTOINDEPENDIENTEDERENOVACIONABSOLUTAMIRA",
          "PARTIDOCAMBIORADICAL",
          "PARTIDOCONSERVADORCOLOMBIANO",
          "PARTIDODEINTEGRACIONNACIONALPIN",
          "PARTIDOLIBERALCOLOMBIANO",
          "PARTIDOSOCIALDEUNIDADNACIONALPARTIDODELAU",
          "PARTIDOVERDE",
          "POLODEMOCRATICOALTERNATIVO",
          "VOTOSBLANCOS",
          "VOTOSNOMARCADOS",
          "VOTOSNULOS",
          "MOVIMIENTODEINCLUSINYOPORTUNIDADES",
          "MOVIMIENTOMIRA",
          "PARTIDOALIANZASOCIALINDEPENDIENTE",
          "PARTIDOALIANZAVERDE",
          "PARTIDOCAMBIORADICAL",
          "PARTIDOCONSERVADORCOLOMBIANO",
          "PARTIDODELAU",
          "PARTIDOLIBERALCOLOMBIANO",
          "PARTIDOOPCIONCIUDADANA",
          "PARTIDOUNIONPATRIOTICAUP",
          "POLODEMOCRATICOALTERNATIVO",
          "VOTOENBLANCO",
          "VOTONOMARCADOS",
          "VOTOSNULOS",
          "PARTIDOALIANZASOCIALINDEPENDIENTE",
          "PARTIDOALIANZAVERDE",
          "PARTIDOCAMBIORADICAL",
          "PARTIDOCENTRODEMOCRTICO",
          "PARTIDOCONSERVADORCOLOMBIANO",
          "PARTIDOLIBERALCOLOMBIANO",
          "PARTIDOOPCINCIUDADANA",
          "PARTIDOPOLODEMOCRTICOALTERNATIVO",
          "PARTIDOPOLTICOMIRA",
          "PARTIDOSOCIALDEUNIDADNACIONALPARTIDODELAU",
          "VOTOENBLANCO",
          "VOTONOMARCADOS",
          "VOTOSNULOS",
          "COALICINMOVIMIENTOSALVACINNACIONALYCOLOMBIAJUSTALIBRES",
          "FUERZACOLOMBIA",
          "PACTOHISTRICO",
          "PARTIDOALIANZAVERDE",
          "PARTIDOCENTRODEMOCRTICO",
          "PARTIDOCONSERVADORCOLOMBIANO",
          "PARTIDODELAUNINPORLAGENTEPARTIDODELAU",
          "PARTIDOLIBERALCOLOMBIANO",
          "PARTIDONUEVOLIBERALISMO",
          "PARTIDOPOLTICOMIRA",
          "TarjetonesNoMarcados",
          "Votosenblanco",
          "Votosnulos"
         ],
         "z": [
          377,
          86,
          277,
          5914,
          484,
          2308,
          349,
          2994,
          8096,
          2640,
          1477,
          975,
          1218,
          5772,
          61,
          10572,
          1918,
          3088,
          3231,
          5621,
          7234,
          3053,
          319,
          934,
          2513,
          4692,
          1731,
          6264,
          810,
          14876,
          2792,
          40048,
          3962,
          4241,
          549,
          5856,
          19354,
          13829,
          5331,
          2392,
          8448,
          1853,
          2371,
          37220,
          11463,
          29917,
          4154,
          2812,
          3198,
          7842,
          12426,
          812,
          6682,
          935
         ]
        }
       ],
       "layout": {
        "template": {
         "data": {
          "bar": [
           {
            "error_x": {
             "color": "#2a3f5f"
            },
            "error_y": {
             "color": "#2a3f5f"
            },
            "marker": {
             "line": {
              "color": "#E5ECF6",
              "width": 0.5
             },
             "pattern": {
              "fillmode": "overlay",
              "size": 10,
              "solidity": 0.2
             }
            },
            "type": "bar"
           }
          ],
          "barpolar": [
           {
            "marker": {
             "line": {
              "color": "#E5ECF6",
              "width": 0.5
             },
             "pattern": {
              "fillmode": "overlay",
              "size": 10,
              "solidity": 0.2
             }
            },
            "type": "barpolar"
           }
          ],
          "carpet": [
           {
            "aaxis": {
             "endlinecolor": "#2a3f5f",
             "gridcolor": "white",
             "linecolor": "white",
             "minorgridcolor": "white",
             "startlinecolor": "#2a3f5f"
            },
            "baxis": {
             "endlinecolor": "#2a3f5f",
             "gridcolor": "white",
             "linecolor": "white",
             "minorgridcolor": "white",
             "startlinecolor": "#2a3f5f"
            },
            "type": "carpet"
           }
          ],
          "choropleth": [
           {
            "colorbar": {
             "outlinewidth": 0,
             "ticks": ""
            },
            "type": "choropleth"
           }
          ],
          "contour": [
           {
            "colorbar": {
             "outlinewidth": 0,
             "ticks": ""
            },
            "colorscale": [
             [
              0,
              "#0d0887"
             ],
             [
              0.1111111111111111,
              "#46039f"
             ],
             [
              0.2222222222222222,
              "#7201a8"
             ],
             [
              0.3333333333333333,
              "#9c179e"
             ],
             [
              0.4444444444444444,
              "#bd3786"
             ],
             [
              0.5555555555555556,
              "#d8576b"
             ],
             [
              0.6666666666666666,
              "#ed7953"
             ],
             [
              0.7777777777777778,
              "#fb9f3a"
             ],
             [
              0.8888888888888888,
              "#fdca26"
             ],
             [
              1,
              "#f0f921"
             ]
            ],
            "type": "contour"
           }
          ],
          "contourcarpet": [
           {
            "colorbar": {
             "outlinewidth": 0,
             "ticks": ""
            },
            "type": "contourcarpet"
           }
          ],
          "heatmap": [
           {
            "colorbar": {
             "outlinewidth": 0,
             "ticks": ""
            },
            "colorscale": [
             [
              0,
              "#0d0887"
             ],
             [
              0.1111111111111111,
              "#46039f"
             ],
             [
              0.2222222222222222,
              "#7201a8"
             ],
             [
              0.3333333333333333,
              "#9c179e"
             ],
             [
              0.4444444444444444,
              "#bd3786"
             ],
             [
              0.5555555555555556,
              "#d8576b"
             ],
             [
              0.6666666666666666,
              "#ed7953"
             ],
             [
              0.7777777777777778,
              "#fb9f3a"
             ],
             [
              0.8888888888888888,
              "#fdca26"
             ],
             [
              1,
              "#f0f921"
             ]
            ],
            "type": "heatmap"
           }
          ],
          "heatmapgl": [
           {
            "colorbar": {
             "outlinewidth": 0,
             "ticks": ""
            },
            "colorscale": [
             [
              0,
              "#0d0887"
             ],
             [
              0.1111111111111111,
              "#46039f"
             ],
             [
              0.2222222222222222,
              "#7201a8"
             ],
             [
              0.3333333333333333,
              "#9c179e"
             ],
             [
              0.4444444444444444,
              "#bd3786"
             ],
             [
              0.5555555555555556,
              "#d8576b"
             ],
             [
              0.6666666666666666,
              "#ed7953"
             ],
             [
              0.7777777777777778,
              "#fb9f3a"
             ],
             [
              0.8888888888888888,
              "#fdca26"
             ],
             [
              1,
              "#f0f921"
             ]
            ],
            "type": "heatmapgl"
           }
          ],
          "histogram": [
           {
            "marker": {
             "pattern": {
              "fillmode": "overlay",
              "size": 10,
              "solidity": 0.2
             }
            },
            "type": "histogram"
           }
          ],
          "histogram2d": [
           {
            "colorbar": {
             "outlinewidth": 0,
             "ticks": ""
            },
            "colorscale": [
             [
              0,
              "#0d0887"
             ],
             [
              0.1111111111111111,
              "#46039f"
             ],
             [
              0.2222222222222222,
              "#7201a8"
             ],
             [
              0.3333333333333333,
              "#9c179e"
             ],
             [
              0.4444444444444444,
              "#bd3786"
             ],
             [
              0.5555555555555556,
              "#d8576b"
             ],
             [
              0.6666666666666666,
              "#ed7953"
             ],
             [
              0.7777777777777778,
              "#fb9f3a"
             ],
             [
              0.8888888888888888,
              "#fdca26"
             ],
             [
              1,
              "#f0f921"
             ]
            ],
            "type": "histogram2d"
           }
          ],
          "histogram2dcontour": [
           {
            "colorbar": {
             "outlinewidth": 0,
             "ticks": ""
            },
            "colorscale": [
             [
              0,
              "#0d0887"
             ],
             [
              0.1111111111111111,
              "#46039f"
             ],
             [
              0.2222222222222222,
              "#7201a8"
             ],
             [
              0.3333333333333333,
              "#9c179e"
             ],
             [
              0.4444444444444444,
              "#bd3786"
             ],
             [
              0.5555555555555556,
              "#d8576b"
             ],
             [
              0.6666666666666666,
              "#ed7953"
             ],
             [
              0.7777777777777778,
              "#fb9f3a"
             ],
             [
              0.8888888888888888,
              "#fdca26"
             ],
             [
              1,
              "#f0f921"
             ]
            ],
            "type": "histogram2dcontour"
           }
          ],
          "mesh3d": [
           {
            "colorbar": {
             "outlinewidth": 0,
             "ticks": ""
            },
            "type": "mesh3d"
           }
          ],
          "parcoords": [
           {
            "line": {
             "colorbar": {
              "outlinewidth": 0,
              "ticks": ""
             }
            },
            "type": "parcoords"
           }
          ],
          "pie": [
           {
            "automargin": true,
            "type": "pie"
           }
          ],
          "scatter": [
           {
            "fillpattern": {
             "fillmode": "overlay",
             "size": 10,
             "solidity": 0.2
            },
            "type": "scatter"
           }
          ],
          "scatter3d": [
           {
            "line": {
             "colorbar": {
              "outlinewidth": 0,
              "ticks": ""
             }
            },
            "marker": {
             "colorbar": {
              "outlinewidth": 0,
              "ticks": ""
             }
            },
            "type": "scatter3d"
           }
          ],
          "scattercarpet": [
           {
            "marker": {
             "colorbar": {
              "outlinewidth": 0,
              "ticks": ""
             }
            },
            "type": "scattercarpet"
           }
          ],
          "scattergeo": [
           {
            "marker": {
             "colorbar": {
              "outlinewidth": 0,
              "ticks": ""
             }
            },
            "type": "scattergeo"
           }
          ],
          "scattergl": [
           {
            "marker": {
             "colorbar": {
              "outlinewidth": 0,
              "ticks": ""
             }
            },
            "type": "scattergl"
           }
          ],
          "scattermapbox": [
           {
            "marker": {
             "colorbar": {
              "outlinewidth": 0,
              "ticks": ""
             }
            },
            "type": "scattermapbox"
           }
          ],
          "scatterpolar": [
           {
            "marker": {
             "colorbar": {
              "outlinewidth": 0,
              "ticks": ""
             }
            },
            "type": "scatterpolar"
           }
          ],
          "scatterpolargl": [
           {
            "marker": {
             "colorbar": {
              "outlinewidth": 0,
              "ticks": ""
             }
            },
            "type": "scatterpolargl"
           }
          ],
          "scatterternary": [
           {
            "marker": {
             "colorbar": {
              "outlinewidth": 0,
              "ticks": ""
             }
            },
            "type": "scatterternary"
           }
          ],
          "surface": [
           {
            "colorbar": {
             "outlinewidth": 0,
             "ticks": ""
            },
            "colorscale": [
             [
              0,
              "#0d0887"
             ],
             [
              0.1111111111111111,
              "#46039f"
             ],
             [
              0.2222222222222222,
              "#7201a8"
             ],
             [
              0.3333333333333333,
              "#9c179e"
             ],
             [
              0.4444444444444444,
              "#bd3786"
             ],
             [
              0.5555555555555556,
              "#d8576b"
             ],
             [
              0.6666666666666666,
              "#ed7953"
             ],
             [
              0.7777777777777778,
              "#fb9f3a"
             ],
             [
              0.8888888888888888,
              "#fdca26"
             ],
             [
              1,
              "#f0f921"
             ]
            ],
            "type": "surface"
           }
          ],
          "table": [
           {
            "cells": {
             "fill": {
              "color": "#EBF0F8"
             },
             "line": {
              "color": "white"
             }
            },
            "header": {
             "fill": {
              "color": "#C8D4E3"
             },
             "line": {
              "color": "white"
             }
            },
            "type": "table"
           }
          ]
         },
         "layout": {
          "annotationdefaults": {
           "arrowcolor": "#2a3f5f",
           "arrowhead": 0,
           "arrowwidth": 1
          },
          "autotypenumbers": "strict",
          "coloraxis": {
           "colorbar": {
            "outlinewidth": 0,
            "ticks": ""
           }
          },
          "colorscale": {
           "diverging": [
            [
             0,
             "#8e0152"
            ],
            [
             0.1,
             "#c51b7d"
            ],
            [
             0.2,
             "#de77ae"
            ],
            [
             0.3,
             "#f1b6da"
            ],
            [
             0.4,
             "#fde0ef"
            ],
            [
             0.5,
             "#f7f7f7"
            ],
            [
             0.6,
             "#e6f5d0"
            ],
            [
             0.7,
             "#b8e186"
            ],
            [
             0.8,
             "#7fbc41"
            ],
            [
             0.9,
             "#4d9221"
            ],
            [
             1,
             "#276419"
            ]
           ],
           "sequential": [
            [
             0,
             "#0d0887"
            ],
            [
             0.1111111111111111,
             "#46039f"
            ],
            [
             0.2222222222222222,
             "#7201a8"
            ],
            [
             0.3333333333333333,
             "#9c179e"
            ],
            [
             0.4444444444444444,
             "#bd3786"
            ],
            [
             0.5555555555555556,
             "#d8576b"
            ],
            [
             0.6666666666666666,
             "#ed7953"
            ],
            [
             0.7777777777777778,
             "#fb9f3a"
            ],
            [
             0.8888888888888888,
             "#fdca26"
            ],
            [
             1,
             "#f0f921"
            ]
           ],
           "sequentialminus": [
            [
             0,
             "#0d0887"
            ],
            [
             0.1111111111111111,
             "#46039f"
            ],
            [
             0.2222222222222222,
             "#7201a8"
            ],
            [
             0.3333333333333333,
             "#9c179e"
            ],
            [
             0.4444444444444444,
             "#bd3786"
            ],
            [
             0.5555555555555556,
             "#d8576b"
            ],
            [
             0.6666666666666666,
             "#ed7953"
            ],
            [
             0.7777777777777778,
             "#fb9f3a"
            ],
            [
             0.8888888888888888,
             "#fdca26"
            ],
            [
             1,
             "#f0f921"
            ]
           ]
          },
          "colorway": [
           "#636efa",
           "#EF553B",
           "#00cc96",
           "#ab63fa",
           "#FFA15A",
           "#19d3f3",
           "#FF6692",
           "#B6E880",
           "#FF97FF",
           "#FECB52"
          ],
          "font": {
           "color": "#2a3f5f"
          },
          "geo": {
           "bgcolor": "white",
           "lakecolor": "white",
           "landcolor": "#E5ECF6",
           "showlakes": true,
           "showland": true,
           "subunitcolor": "white"
          },
          "hoverlabel": {
           "align": "left"
          },
          "hovermode": "closest",
          "mapbox": {
           "style": "light"
          },
          "paper_bgcolor": "white",
          "plot_bgcolor": "#E5ECF6",
          "polar": {
           "angularaxis": {
            "gridcolor": "white",
            "linecolor": "white",
            "ticks": ""
           },
           "bgcolor": "#E5ECF6",
           "radialaxis": {
            "gridcolor": "white",
            "linecolor": "white",
            "ticks": ""
           }
          },
          "scene": {
           "xaxis": {
            "backgroundcolor": "#E5ECF6",
            "gridcolor": "white",
            "gridwidth": 2,
            "linecolor": "white",
            "showbackground": true,
            "ticks": "",
            "zerolinecolor": "white"
           },
           "yaxis": {
            "backgroundcolor": "#E5ECF6",
            "gridcolor": "white",
            "gridwidth": 2,
            "linecolor": "white",
            "showbackground": true,
            "ticks": "",
            "zerolinecolor": "white"
           },
           "zaxis": {
            "backgroundcolor": "#E5ECF6",
            "gridcolor": "white",
            "gridwidth": 2,
            "linecolor": "white",
            "showbackground": true,
            "ticks": "",
            "zerolinecolor": "white"
           }
          },
          "shapedefaults": {
           "line": {
            "color": "#2a3f5f"
           }
          },
          "ternary": {
           "aaxis": {
            "gridcolor": "white",
            "linecolor": "white",
            "ticks": ""
           },
           "baxis": {
            "gridcolor": "white",
            "linecolor": "white",
            "ticks": ""
           },
           "bgcolor": "#E5ECF6",
           "caxis": {
            "gridcolor": "white",
            "linecolor": "white",
            "ticks": ""
           }
          },
          "title": {
           "x": 0.05
          },
          "xaxis": {
           "automargin": true,
           "gridcolor": "white",
           "linecolor": "white",
           "ticks": "",
           "title": {
            "standoff": 15
           },
           "zerolinecolor": "white",
           "zerolinewidth": 2
          },
          "yaxis": {
           "automargin": true,
           "gridcolor": "white",
           "linecolor": "white",
           "ticks": "",
           "title": {
            "standoff": 15
           },
           "zerolinecolor": "white",
           "zerolinewidth": 2
          }
         }
        }
       }
      }
     },
     "metadata": {},
     "output_type": "display_data"
    }
   ],
   "source": [
    "import plotly.express as px\n",
    "import plotly.graph_objects as go\n",
    "fig = go.Figure(data=go.Heatmap(x=cax_ag.anio, y=cax_ag.partido,z=cax_ag.votos))\n",
    "fig.show()"
   ]
  },
  {
   "cell_type": "markdown",
   "metadata": {},
   "source": [
    "## d. Por anio camara en el exterior: USA"
   ]
  },
  {
   "cell_type": "markdown",
   "metadata": {},
   "source": [
    "### Tabla"
   ]
  },
  {
   "cell_type": "code",
   "execution_count": 85,
   "metadata": {},
   "outputs": [
    {
     "data": {
      "text/html": [
       "<div>\n",
       "<style scoped>\n",
       "    .dataframe tbody tr th:only-of-type {\n",
       "        vertical-align: middle;\n",
       "    }\n",
       "\n",
       "    .dataframe tbody tr th {\n",
       "        vertical-align: top;\n",
       "    }\n",
       "\n",
       "    .dataframe thead th {\n",
       "        text-align: right;\n",
       "    }\n",
       "</style>\n",
       "<table border=\"1\" class=\"dataframe\">\n",
       "  <thead>\n",
       "    <tr style=\"text-align: right;\">\n",
       "      <th></th>\n",
       "      <th>annoh</th>\n",
       "      <th>corp</th>\n",
       "      <th>eleccion</th>\n",
       "      <th>codcirc</th>\n",
       "      <th>nomdepto</th>\n",
       "      <th>coddepto</th>\n",
       "      <th>nommun</th>\n",
       "      <th>codmpio</th>\n",
       "      <th>zona</th>\n",
       "      <th>nompuesto</th>\n",
       "      <th>puesto</th>\n",
       "      <th>nomparti</th>\n",
       "      <th>codparti</th>\n",
       "      <th>nomcandi</th>\n",
       "      <th>codcandi</th>\n",
       "      <th>votos</th>\n",
       "      <th>censo</th>\n",
       "      <th>rcd___id</th>\n",
       "      <th>elec</th>\n",
       "    </tr>\n",
       "  </thead>\n",
       "  <tbody>\n",
       "    <tr>\n",
       "      <th>203752</th>\n",
       "      <td>2010</td>\n",
       "      <td>2</td>\n",
       "      <td>CmaraTerritorial</td>\n",
       "      <td>1</td>\n",
       "      <td>CONSULADOS</td>\n",
       "      <td>88</td>\n",
       "      <td>ESTADOSUNIDOS</td>\n",
       "      <td>360</td>\n",
       "      <td>Urbano</td>\n",
       "      <td>AtlantaConsulado</td>\n",
       "      <td>2.0</td>\n",
       "      <td>PARTIDOLIBERALCOLOMBIANO</td>\n",
       "      <td>1</td>\n",
       "      <td>PARTIDOLIBERALCOLOMBIANO</td>\n",
       "      <td>0</td>\n",
       "      <td>381</td>\n",
       "      <td>5907</td>\n",
       "      <td>bx1d235t</td>\n",
       "      <td>CÃmara Territorial</td>\n",
       "    </tr>\n",
       "    <tr>\n",
       "      <th>203753</th>\n",
       "      <td>2010</td>\n",
       "      <td>2</td>\n",
       "      <td>CmaraTerritorial</td>\n",
       "      <td>1</td>\n",
       "      <td>CONSULADOS</td>\n",
       "      <td>88</td>\n",
       "      <td>ESTADOSUNIDOS</td>\n",
       "      <td>360</td>\n",
       "      <td>Urbano</td>\n",
       "      <td>AtlantaConsulado</td>\n",
       "      <td>2.0</td>\n",
       "      <td>PARTIDOCONSERVADORCOLOMBIANO</td>\n",
       "      <td>2</td>\n",
       "      <td>PARTIDOCONSERVADORCOLOMBIANO</td>\n",
       "      <td>0</td>\n",
       "      <td>526</td>\n",
       "      <td>5907</td>\n",
       "      <td>esgc93dw</td>\n",
       "      <td>CÃmara Territorial</td>\n",
       "    </tr>\n",
       "  </tbody>\n",
       "</table>\n",
       "</div>"
      ],
      "text/plain": [
       "        annoh  corp          eleccion  codcirc    nomdepto  coddepto  \\\n",
       "203752   2010     2  CmaraTerritorial        1  CONSULADOS        88   \n",
       "203753   2010     2  CmaraTerritorial        1  CONSULADOS        88   \n",
       "\n",
       "               nommun  codmpio    zona         nompuesto  puesto  \\\n",
       "203752  ESTADOSUNIDOS      360  Urbano  AtlantaConsulado     2.0   \n",
       "203753  ESTADOSUNIDOS      360  Urbano  AtlantaConsulado     2.0   \n",
       "\n",
       "                            nomparti  codparti                      nomcandi  \\\n",
       "203752      PARTIDOLIBERALCOLOMBIANO         1      PARTIDOLIBERALCOLOMBIANO   \n",
       "203753  PARTIDOCONSERVADORCOLOMBIANO         2  PARTIDOCONSERVADORCOLOMBIANO   \n",
       "\n",
       "        codcandi  votos  censo  rcd___id                elec  \n",
       "203752         0    381   5907  bx1d235t  CÃmara Territorial  \n",
       "203753         0    526   5907  esgc93dw  CÃmara Territorial  "
      ]
     },
     "execution_count": 85,
     "metadata": {},
     "output_type": "execute_result"
    }
   ],
   "source": [
    "us=cax.loc[( d22.nommun=='ESTADOSUNIDOS') ]\n",
    "us.head(2)"
   ]
  },
  {
   "cell_type": "markdown",
   "metadata": {},
   "source": [
    "### Grafica"
   ]
  },
  {
   "cell_type": "code",
   "execution_count": 91,
   "metadata": {},
   "outputs": [
    {
     "data": {
      "text/html": [
       "<div>\n",
       "<style scoped>\n",
       "    .dataframe tbody tr th:only-of-type {\n",
       "        vertical-align: middle;\n",
       "    }\n",
       "\n",
       "    .dataframe tbody tr th {\n",
       "        vertical-align: top;\n",
       "    }\n",
       "\n",
       "    .dataframe thead th {\n",
       "        text-align: right;\n",
       "    }\n",
       "</style>\n",
       "<table border=\"1\" class=\"dataframe\">\n",
       "  <thead>\n",
       "    <tr style=\"text-align: right;\">\n",
       "      <th></th>\n",
       "      <th>anio</th>\n",
       "      <th>nomparti</th>\n",
       "      <th>nommun</th>\n",
       "      <th>nompuesto</th>\n",
       "      <th>votos</th>\n",
       "      <th>censo</th>\n",
       "    </tr>\n",
       "  </thead>\n",
       "  <tbody>\n",
       "    <tr>\n",
       "      <th>0</th>\n",
       "      <td>2010</td>\n",
       "      <td>ALIANZASOCIALINDIGENA</td>\n",
       "      <td>ESTADOSUNIDOS</td>\n",
       "      <td>AtlantaConsulado</td>\n",
       "      <td>97</td>\n",
       "      <td>5907</td>\n",
       "    </tr>\n",
       "    <tr>\n",
       "      <th>1</th>\n",
       "      <td>2010</td>\n",
       "      <td>MOVIMIENTOAPERTURALIBERAL</td>\n",
       "      <td>ESTADOSUNIDOS</td>\n",
       "      <td>AtlantaConsulado</td>\n",
       "      <td>22</td>\n",
       "      <td>5907</td>\n",
       "    </tr>\n",
       "  </tbody>\n",
       "</table>\n",
       "</div>"
      ],
      "text/plain": [
       "   anio                   nomparti         nommun         nompuesto  votos  \\\n",
       "0  2010      ALIANZASOCIALINDIGENA  ESTADOSUNIDOS  AtlantaConsulado     97   \n",
       "1  2010  MOVIMIENTOAPERTURALIBERAL  ESTADOSUNIDOS  AtlantaConsulado     22   \n",
       "\n",
       "   censo  \n",
       "0   5907  \n",
       "1   5907  "
      ]
     },
     "execution_count": 91,
     "metadata": {},
     "output_type": "execute_result"
    }
   ],
   "source": [
    "us_ag = (us.groupby(['annoh', 'nomparti','nommun','nompuesto'], as_index=False)\n",
    "         .agg({'votos':'sum','censo':'sum'})\n",
    "         .rename(columns={'annoh':'anio', 'nompuesto':'nompuesto'}))\n",
    "us_ag.head(2)"
   ]
  },
  {
   "cell_type": "code",
   "execution_count": 89,
   "metadata": {},
   "outputs": [
    {
     "data": {
      "application/vnd.plotly.v1+json": {
       "config": {
        "plotlyServerURL": "https://plot.ly"
       },
       "data": [
        {
         "type": "heatmap",
         "x": [
          2010,
          2010,
          2010,
          2010,
          2010,
          2010,
          2010,
          2010,
          2010,
          2010,
          2010,
          2010,
          2010,
          2010,
          2014,
          2014,
          2014,
          2014,
          2014,
          2014,
          2014,
          2014,
          2014,
          2014,
          2014,
          2014,
          2014,
          2014,
          2018,
          2018,
          2018,
          2018,
          2018,
          2018,
          2018,
          2018,
          2018,
          2018,
          2018,
          2018,
          2018,
          2022,
          2022,
          2022,
          2022,
          2022,
          2022,
          2022,
          2022,
          2022,
          2022,
          2022,
          2022,
          2022
         ],
         "y": [
          "AtlantaConsulado",
          "AtlantaConsulado",
          "ChicagoConsulado",
          "AtlantaConsulado",
          "AtlantaConsulado",
          "AtlantaConsulado",
          "AtlantaConsulado",
          "AtlantaConsulado",
          "AtlantaConsulado",
          "AtlantaConsulado",
          "AtlantaCharlotte",
          "AtlantaConsulado",
          "AtlantaConsulado",
          "AtlantaConsulado",
          "ATLANTACONSULADO",
          "ATLANTACONSULADO",
          "ATLANTACHARLOTTE",
          "ATLANTACONSULADO",
          "ATLANTACONSULADO",
          "ATLANTACONSULADO",
          "ATLANTACONSULADO",
          "ATLANTACONSULADO",
          "ATLANTACONSULADO",
          "ATLANTACONSULADO",
          "ATLANTACONSULADO",
          "ATLANTACONSULADO",
          "ATLANTACONSULADO",
          "ATLANTACONSULADO",
          "ATLANTACHARLOTTE",
          "ATLANTACONSULADO",
          "ATLANTACONSULADO",
          "ATLANTACONSULADO",
          "ATLANTACONSULADO",
          "ATLANTACONSULADO",
          "ATLANTACONSULADO",
          "ATLANTACONSULADO",
          "ATLANTACONSULADO",
          "ATLANTACONSULADO",
          "ATLANTACONSULADO",
          "ATLANTACONSULADO",
          "ATLANTACONSULADO",
          "ATLANTACONSULADO",
          "ATLANTACONSULADO",
          "ATLANTACONSULADO",
          "ATLANTACONSULADO",
          "ATLANTACONSULADO",
          "ATLANTACONSULADO",
          "ATLANTACONSULADO",
          "ATLANTACONSULADO",
          "ATLANTACONSULADO",
          "ATLANTACONSULADO",
          "ATLANTACONSULADO",
          "ATLANTACONSULADO",
          "ATLANTACONSULADO"
         ],
         "z": [
          97,
          22,
          5,
          1817,
          160,
          526,
          185,
          381,
          3118,
          537,
          216,
          309,
          358,
          1756,
          24,
          2850,
          123,
          362,
          343,
          2391,
          1219,
          445,
          67,
          142,
          319,
          1697,
          623,
          1702,
          189,
          3695,
          866,
          24470,
          1276,
          927,
          229,
          1057,
          5617,
          756,
          1563,
          828,
          2275,
          1137,
          967,
          7758,
          3648,
          19151,
          1888,
          1461,
          1474,
          3304,
          4136,
          389,
          2302,
          341
         ]
        }
       ],
       "layout": {
        "template": {
         "data": {
          "bar": [
           {
            "error_x": {
             "color": "#2a3f5f"
            },
            "error_y": {
             "color": "#2a3f5f"
            },
            "marker": {
             "line": {
              "color": "#E5ECF6",
              "width": 0.5
             },
             "pattern": {
              "fillmode": "overlay",
              "size": 10,
              "solidity": 0.2
             }
            },
            "type": "bar"
           }
          ],
          "barpolar": [
           {
            "marker": {
             "line": {
              "color": "#E5ECF6",
              "width": 0.5
             },
             "pattern": {
              "fillmode": "overlay",
              "size": 10,
              "solidity": 0.2
             }
            },
            "type": "barpolar"
           }
          ],
          "carpet": [
           {
            "aaxis": {
             "endlinecolor": "#2a3f5f",
             "gridcolor": "white",
             "linecolor": "white",
             "minorgridcolor": "white",
             "startlinecolor": "#2a3f5f"
            },
            "baxis": {
             "endlinecolor": "#2a3f5f",
             "gridcolor": "white",
             "linecolor": "white",
             "minorgridcolor": "white",
             "startlinecolor": "#2a3f5f"
            },
            "type": "carpet"
           }
          ],
          "choropleth": [
           {
            "colorbar": {
             "outlinewidth": 0,
             "ticks": ""
            },
            "type": "choropleth"
           }
          ],
          "contour": [
           {
            "colorbar": {
             "outlinewidth": 0,
             "ticks": ""
            },
            "colorscale": [
             [
              0,
              "#0d0887"
             ],
             [
              0.1111111111111111,
              "#46039f"
             ],
             [
              0.2222222222222222,
              "#7201a8"
             ],
             [
              0.3333333333333333,
              "#9c179e"
             ],
             [
              0.4444444444444444,
              "#bd3786"
             ],
             [
              0.5555555555555556,
              "#d8576b"
             ],
             [
              0.6666666666666666,
              "#ed7953"
             ],
             [
              0.7777777777777778,
              "#fb9f3a"
             ],
             [
              0.8888888888888888,
              "#fdca26"
             ],
             [
              1,
              "#f0f921"
             ]
            ],
            "type": "contour"
           }
          ],
          "contourcarpet": [
           {
            "colorbar": {
             "outlinewidth": 0,
             "ticks": ""
            },
            "type": "contourcarpet"
           }
          ],
          "heatmap": [
           {
            "colorbar": {
             "outlinewidth": 0,
             "ticks": ""
            },
            "colorscale": [
             [
              0,
              "#0d0887"
             ],
             [
              0.1111111111111111,
              "#46039f"
             ],
             [
              0.2222222222222222,
              "#7201a8"
             ],
             [
              0.3333333333333333,
              "#9c179e"
             ],
             [
              0.4444444444444444,
              "#bd3786"
             ],
             [
              0.5555555555555556,
              "#d8576b"
             ],
             [
              0.6666666666666666,
              "#ed7953"
             ],
             [
              0.7777777777777778,
              "#fb9f3a"
             ],
             [
              0.8888888888888888,
              "#fdca26"
             ],
             [
              1,
              "#f0f921"
             ]
            ],
            "type": "heatmap"
           }
          ],
          "heatmapgl": [
           {
            "colorbar": {
             "outlinewidth": 0,
             "ticks": ""
            },
            "colorscale": [
             [
              0,
              "#0d0887"
             ],
             [
              0.1111111111111111,
              "#46039f"
             ],
             [
              0.2222222222222222,
              "#7201a8"
             ],
             [
              0.3333333333333333,
              "#9c179e"
             ],
             [
              0.4444444444444444,
              "#bd3786"
             ],
             [
              0.5555555555555556,
              "#d8576b"
             ],
             [
              0.6666666666666666,
              "#ed7953"
             ],
             [
              0.7777777777777778,
              "#fb9f3a"
             ],
             [
              0.8888888888888888,
              "#fdca26"
             ],
             [
              1,
              "#f0f921"
             ]
            ],
            "type": "heatmapgl"
           }
          ],
          "histogram": [
           {
            "marker": {
             "pattern": {
              "fillmode": "overlay",
              "size": 10,
              "solidity": 0.2
             }
            },
            "type": "histogram"
           }
          ],
          "histogram2d": [
           {
            "colorbar": {
             "outlinewidth": 0,
             "ticks": ""
            },
            "colorscale": [
             [
              0,
              "#0d0887"
             ],
             [
              0.1111111111111111,
              "#46039f"
             ],
             [
              0.2222222222222222,
              "#7201a8"
             ],
             [
              0.3333333333333333,
              "#9c179e"
             ],
             [
              0.4444444444444444,
              "#bd3786"
             ],
             [
              0.5555555555555556,
              "#d8576b"
             ],
             [
              0.6666666666666666,
              "#ed7953"
             ],
             [
              0.7777777777777778,
              "#fb9f3a"
             ],
             [
              0.8888888888888888,
              "#fdca26"
             ],
             [
              1,
              "#f0f921"
             ]
            ],
            "type": "histogram2d"
           }
          ],
          "histogram2dcontour": [
           {
            "colorbar": {
             "outlinewidth": 0,
             "ticks": ""
            },
            "colorscale": [
             [
              0,
              "#0d0887"
             ],
             [
              0.1111111111111111,
              "#46039f"
             ],
             [
              0.2222222222222222,
              "#7201a8"
             ],
             [
              0.3333333333333333,
              "#9c179e"
             ],
             [
              0.4444444444444444,
              "#bd3786"
             ],
             [
              0.5555555555555556,
              "#d8576b"
             ],
             [
              0.6666666666666666,
              "#ed7953"
             ],
             [
              0.7777777777777778,
              "#fb9f3a"
             ],
             [
              0.8888888888888888,
              "#fdca26"
             ],
             [
              1,
              "#f0f921"
             ]
            ],
            "type": "histogram2dcontour"
           }
          ],
          "mesh3d": [
           {
            "colorbar": {
             "outlinewidth": 0,
             "ticks": ""
            },
            "type": "mesh3d"
           }
          ],
          "parcoords": [
           {
            "line": {
             "colorbar": {
              "outlinewidth": 0,
              "ticks": ""
             }
            },
            "type": "parcoords"
           }
          ],
          "pie": [
           {
            "automargin": true,
            "type": "pie"
           }
          ],
          "scatter": [
           {
            "fillpattern": {
             "fillmode": "overlay",
             "size": 10,
             "solidity": 0.2
            },
            "type": "scatter"
           }
          ],
          "scatter3d": [
           {
            "line": {
             "colorbar": {
              "outlinewidth": 0,
              "ticks": ""
             }
            },
            "marker": {
             "colorbar": {
              "outlinewidth": 0,
              "ticks": ""
             }
            },
            "type": "scatter3d"
           }
          ],
          "scattercarpet": [
           {
            "marker": {
             "colorbar": {
              "outlinewidth": 0,
              "ticks": ""
             }
            },
            "type": "scattercarpet"
           }
          ],
          "scattergeo": [
           {
            "marker": {
             "colorbar": {
              "outlinewidth": 0,
              "ticks": ""
             }
            },
            "type": "scattergeo"
           }
          ],
          "scattergl": [
           {
            "marker": {
             "colorbar": {
              "outlinewidth": 0,
              "ticks": ""
             }
            },
            "type": "scattergl"
           }
          ],
          "scattermapbox": [
           {
            "marker": {
             "colorbar": {
              "outlinewidth": 0,
              "ticks": ""
             }
            },
            "type": "scattermapbox"
           }
          ],
          "scatterpolar": [
           {
            "marker": {
             "colorbar": {
              "outlinewidth": 0,
              "ticks": ""
             }
            },
            "type": "scatterpolar"
           }
          ],
          "scatterpolargl": [
           {
            "marker": {
             "colorbar": {
              "outlinewidth": 0,
              "ticks": ""
             }
            },
            "type": "scatterpolargl"
           }
          ],
          "scatterternary": [
           {
            "marker": {
             "colorbar": {
              "outlinewidth": 0,
              "ticks": ""
             }
            },
            "type": "scatterternary"
           }
          ],
          "surface": [
           {
            "colorbar": {
             "outlinewidth": 0,
             "ticks": ""
            },
            "colorscale": [
             [
              0,
              "#0d0887"
             ],
             [
              0.1111111111111111,
              "#46039f"
             ],
             [
              0.2222222222222222,
              "#7201a8"
             ],
             [
              0.3333333333333333,
              "#9c179e"
             ],
             [
              0.4444444444444444,
              "#bd3786"
             ],
             [
              0.5555555555555556,
              "#d8576b"
             ],
             [
              0.6666666666666666,
              "#ed7953"
             ],
             [
              0.7777777777777778,
              "#fb9f3a"
             ],
             [
              0.8888888888888888,
              "#fdca26"
             ],
             [
              1,
              "#f0f921"
             ]
            ],
            "type": "surface"
           }
          ],
          "table": [
           {
            "cells": {
             "fill": {
              "color": "#EBF0F8"
             },
             "line": {
              "color": "white"
             }
            },
            "header": {
             "fill": {
              "color": "#C8D4E3"
             },
             "line": {
              "color": "white"
             }
            },
            "type": "table"
           }
          ]
         },
         "layout": {
          "annotationdefaults": {
           "arrowcolor": "#2a3f5f",
           "arrowhead": 0,
           "arrowwidth": 1
          },
          "autotypenumbers": "strict",
          "coloraxis": {
           "colorbar": {
            "outlinewidth": 0,
            "ticks": ""
           }
          },
          "colorscale": {
           "diverging": [
            [
             0,
             "#8e0152"
            ],
            [
             0.1,
             "#c51b7d"
            ],
            [
             0.2,
             "#de77ae"
            ],
            [
             0.3,
             "#f1b6da"
            ],
            [
             0.4,
             "#fde0ef"
            ],
            [
             0.5,
             "#f7f7f7"
            ],
            [
             0.6,
             "#e6f5d0"
            ],
            [
             0.7,
             "#b8e186"
            ],
            [
             0.8,
             "#7fbc41"
            ],
            [
             0.9,
             "#4d9221"
            ],
            [
             1,
             "#276419"
            ]
           ],
           "sequential": [
            [
             0,
             "#0d0887"
            ],
            [
             0.1111111111111111,
             "#46039f"
            ],
            [
             0.2222222222222222,
             "#7201a8"
            ],
            [
             0.3333333333333333,
             "#9c179e"
            ],
            [
             0.4444444444444444,
             "#bd3786"
            ],
            [
             0.5555555555555556,
             "#d8576b"
            ],
            [
             0.6666666666666666,
             "#ed7953"
            ],
            [
             0.7777777777777778,
             "#fb9f3a"
            ],
            [
             0.8888888888888888,
             "#fdca26"
            ],
            [
             1,
             "#f0f921"
            ]
           ],
           "sequentialminus": [
            [
             0,
             "#0d0887"
            ],
            [
             0.1111111111111111,
             "#46039f"
            ],
            [
             0.2222222222222222,
             "#7201a8"
            ],
            [
             0.3333333333333333,
             "#9c179e"
            ],
            [
             0.4444444444444444,
             "#bd3786"
            ],
            [
             0.5555555555555556,
             "#d8576b"
            ],
            [
             0.6666666666666666,
             "#ed7953"
            ],
            [
             0.7777777777777778,
             "#fb9f3a"
            ],
            [
             0.8888888888888888,
             "#fdca26"
            ],
            [
             1,
             "#f0f921"
            ]
           ]
          },
          "colorway": [
           "#636efa",
           "#EF553B",
           "#00cc96",
           "#ab63fa",
           "#FFA15A",
           "#19d3f3",
           "#FF6692",
           "#B6E880",
           "#FF97FF",
           "#FECB52"
          ],
          "font": {
           "color": "#2a3f5f"
          },
          "geo": {
           "bgcolor": "white",
           "lakecolor": "white",
           "landcolor": "#E5ECF6",
           "showlakes": true,
           "showland": true,
           "subunitcolor": "white"
          },
          "hoverlabel": {
           "align": "left"
          },
          "hovermode": "closest",
          "mapbox": {
           "style": "light"
          },
          "paper_bgcolor": "white",
          "plot_bgcolor": "#E5ECF6",
          "polar": {
           "angularaxis": {
            "gridcolor": "white",
            "linecolor": "white",
            "ticks": ""
           },
           "bgcolor": "#E5ECF6",
           "radialaxis": {
            "gridcolor": "white",
            "linecolor": "white",
            "ticks": ""
           }
          },
          "scene": {
           "xaxis": {
            "backgroundcolor": "#E5ECF6",
            "gridcolor": "white",
            "gridwidth": 2,
            "linecolor": "white",
            "showbackground": true,
            "ticks": "",
            "zerolinecolor": "white"
           },
           "yaxis": {
            "backgroundcolor": "#E5ECF6",
            "gridcolor": "white",
            "gridwidth": 2,
            "linecolor": "white",
            "showbackground": true,
            "ticks": "",
            "zerolinecolor": "white"
           },
           "zaxis": {
            "backgroundcolor": "#E5ECF6",
            "gridcolor": "white",
            "gridwidth": 2,
            "linecolor": "white",
            "showbackground": true,
            "ticks": "",
            "zerolinecolor": "white"
           }
          },
          "shapedefaults": {
           "line": {
            "color": "#2a3f5f"
           }
          },
          "ternary": {
           "aaxis": {
            "gridcolor": "white",
            "linecolor": "white",
            "ticks": ""
           },
           "baxis": {
            "gridcolor": "white",
            "linecolor": "white",
            "ticks": ""
           },
           "bgcolor": "#E5ECF6",
           "caxis": {
            "gridcolor": "white",
            "linecolor": "white",
            "ticks": ""
           }
          },
          "title": {
           "x": 0.05
          },
          "xaxis": {
           "automargin": true,
           "gridcolor": "white",
           "linecolor": "white",
           "ticks": "",
           "title": {
            "standoff": 15
           },
           "zerolinecolor": "white",
           "zerolinewidth": 2
          },
          "yaxis": {
           "automargin": true,
           "gridcolor": "white",
           "linecolor": "white",
           "ticks": "",
           "title": {
            "standoff": 15
           },
           "zerolinecolor": "white",
           "zerolinewidth": 2
          }
         }
        }
       }
      }
     },
     "metadata": {},
     "output_type": "display_data"
    }
   ],
   "source": [
    "us_fig = go.Figure(data=go.Heatmap(x=us_ag.anio, y=us_ag.nompuesto,z=us_ag.votos))\n",
    "us_fig.show()"
   ]
  },
  {
   "cell_type": "markdown",
   "metadata": {},
   "source": [
    "# 3. Departamentales"
   ]
  },
  {
   "cell_type": "markdown",
   "metadata": {},
   "source": [
    "Gobernacion\n",
    "\n",
    "Alcaldia\n",
    "\n",
    "Asamblea\n",
    "\n",
    "Concejo\n"
   ]
  },
  {
   "cell_type": "markdown",
   "metadata": {},
   "source": []
  },
  {
   "cell_type": "markdown",
   "metadata": {},
   "source": []
  },
  {
   "cell_type": "markdown",
   "metadata": {},
   "source": [
    "# 2018"
   ]
  },
  {
   "cell_type": "code",
   "execution_count": 2,
   "metadata": {},
   "outputs": [
    {
     "data": {
      "text/html": [
       "<div>\n",
       "<style scoped>\n",
       "    .dataframe tbody tr th:only-of-type {\n",
       "        vertical-align: middle;\n",
       "    }\n",
       "\n",
       "    .dataframe tbody tr th {\n",
       "        vertical-align: top;\n",
       "    }\n",
       "\n",
       "    .dataframe thead th {\n",
       "        text-align: right;\n",
       "    }\n",
       "</style>\n",
       "<table border=\"1\" class=\"dataframe\">\n",
       "  <thead>\n",
       "    <tr style=\"text-align: right;\">\n",
       "      <th></th>\n",
       "      <th>id_electoral</th>\n",
       "      <th>ano</th>\n",
       "      <th>tipo_eleccion</th>\n",
       "      <th>fecha_eleccion</th>\n",
       "      <th>coddpto</th>\n",
       "      <th>departamento</th>\n",
       "      <th>codmpio</th>\n",
       "      <th>municipio</th>\n",
       "      <th>circunscripcion</th>\n",
       "      <th>codigo_partido</th>\n",
       "      <th>codigo_lista</th>\n",
       "      <th>primer_apellido</th>\n",
       "      <th>segundo_apellido</th>\n",
       "      <th>nombres</th>\n",
       "      <th>votos</th>\n",
       "      <th>curules</th>\n",
       "    </tr>\n",
       "  </thead>\n",
       "  <tbody>\n",
       "    <tr>\n",
       "      <th>0</th>\n",
       "      <td>320180001</td>\n",
       "      <td>2018.0</td>\n",
       "      <td>Cámara de Representantes</td>\n",
       "      <td>Marzo 11</td>\n",
       "      <td>5</td>\n",
       "      <td>ANTIOQUIA</td>\n",
       "      <td>5001</td>\n",
       "      <td>MEDELLÍN</td>\n",
       "      <td>Departamental</td>\n",
       "      <td>20180005.0</td>\n",
       "      <td>0.0</td>\n",
       "      <td></td>\n",
       "      <td></td>\n",
       "      <td>PARTIDO SOMOS</td>\n",
       "      <td>2331.0</td>\n",
       "      <td>0.0</td>\n",
       "    </tr>\n",
       "    <tr>\n",
       "      <th>1</th>\n",
       "      <td>320180036</td>\n",
       "      <td>2018.0</td>\n",
       "      <td>Cámara de Representantes</td>\n",
       "      <td>Marzo 11</td>\n",
       "      <td>5</td>\n",
       "      <td>ANTIOQUIA</td>\n",
       "      <td>5001</td>\n",
       "      <td>MEDELLÍN</td>\n",
       "      <td>Afrodescendientes</td>\n",
       "      <td>20100037.0</td>\n",
       "      <td>0.0</td>\n",
       "      <td></td>\n",
       "      <td></td>\n",
       "      <td>FUNDACIÓN DEPORTIVA VIAFARA FUNDEVIA</td>\n",
       "      <td>40.0</td>\n",
       "      <td>0.0</td>\n",
       "    </tr>\n",
       "    <tr>\n",
       "      <th>2</th>\n",
       "      <td>320180036</td>\n",
       "      <td>2018.0</td>\n",
       "      <td>Cámara de Representantes</td>\n",
       "      <td>Marzo 11</td>\n",
       "      <td>5</td>\n",
       "      <td>ANTIOQUIA</td>\n",
       "      <td>5001</td>\n",
       "      <td>MEDELLÍN</td>\n",
       "      <td>Afrodescendientes</td>\n",
       "      <td>20180013.0</td>\n",
       "      <td>0.0</td>\n",
       "      <td></td>\n",
       "      <td></td>\n",
       "      <td>C. C. DE LA COMUN. NEGRA DE TIERRA BAJA MI TER...</td>\n",
       "      <td>33.0</td>\n",
       "      <td>0.0</td>\n",
       "    </tr>\n",
       "    <tr>\n",
       "      <th>3</th>\n",
       "      <td>320180036</td>\n",
       "      <td>2018.0</td>\n",
       "      <td>Cámara de Representantes</td>\n",
       "      <td>Marzo 11</td>\n",
       "      <td>5</td>\n",
       "      <td>ANTIOQUIA</td>\n",
       "      <td>5001</td>\n",
       "      <td>MEDELLÍN</td>\n",
       "      <td>Afrodescendientes</td>\n",
       "      <td>20180039.0</td>\n",
       "      <td>0.0</td>\n",
       "      <td></td>\n",
       "      <td></td>\n",
       "      <td>KUSUTO MAGENDE COKUMALU DE LURUACO</td>\n",
       "      <td>93.0</td>\n",
       "      <td>0.0</td>\n",
       "    </tr>\n",
       "    <tr>\n",
       "      <th>4</th>\n",
       "      <td>320180036</td>\n",
       "      <td>2018.0</td>\n",
       "      <td>Cámara de Representantes</td>\n",
       "      <td>Marzo 11</td>\n",
       "      <td>5</td>\n",
       "      <td>ANTIOQUIA</td>\n",
       "      <td>5001</td>\n",
       "      <td>MEDELLÍN</td>\n",
       "      <td>Afrodescendientes</td>\n",
       "      <td>20180023.0</td>\n",
       "      <td>0.0</td>\n",
       "      <td></td>\n",
       "      <td></td>\n",
       "      <td>CONSEJO COMUNITARIO DE COMUNIDADES NEGRAS SANT...</td>\n",
       "      <td>24.0</td>\n",
       "      <td>0.0</td>\n",
       "    </tr>\n",
       "  </tbody>\n",
       "</table>\n",
       "</div>"
      ],
      "text/plain": [
       "   id_electoral     ano             tipo_eleccion fecha_eleccion  coddpto  \\\n",
       "0     320180001  2018.0  Cámara de Representantes       Marzo 11        5   \n",
       "1     320180036  2018.0  Cámara de Representantes       Marzo 11        5   \n",
       "2     320180036  2018.0  Cámara de Representantes       Marzo 11        5   \n",
       "3     320180036  2018.0  Cámara de Representantes       Marzo 11        5   \n",
       "4     320180036  2018.0  Cámara de Representantes       Marzo 11        5   \n",
       "\n",
       "  departamento  codmpio municipio    circunscripcion  codigo_partido  \\\n",
       "0    ANTIOQUIA     5001  MEDELLÍN      Departamental      20180005.0   \n",
       "1    ANTIOQUIA     5001  MEDELLÍN  Afrodescendientes      20100037.0   \n",
       "2    ANTIOQUIA     5001  MEDELLÍN  Afrodescendientes      20180013.0   \n",
       "3    ANTIOQUIA     5001  MEDELLÍN  Afrodescendientes      20180039.0   \n",
       "4    ANTIOQUIA     5001  MEDELLÍN  Afrodescendientes      20180023.0   \n",
       "\n",
       "   codigo_lista primer_apellido segundo_apellido  \\\n",
       "0           0.0                                    \n",
       "1           0.0                                    \n",
       "2           0.0                                    \n",
       "3           0.0                                    \n",
       "4           0.0                                    \n",
       "\n",
       "                                             nombres   votos  curules  \n",
       "0                                      PARTIDO SOMOS  2331.0      0.0  \n",
       "1               FUNDACIÓN DEPORTIVA VIAFARA FUNDEVIA    40.0      0.0  \n",
       "2  C. C. DE LA COMUN. NEGRA DE TIERRA BAJA MI TER...    33.0      0.0  \n",
       "3                 KUSUTO MAGENDE COKUMALU DE LURUACO    93.0      0.0  \n",
       "4  CONSEJO COMUNITARIO DE COMUNIDADES NEGRAS SANT...    24.0      0.0  "
      ]
     },
     "execution_count": 2,
     "metadata": {},
     "output_type": "execute_result"
    }
   ],
   "source": [
    "import pandas as pd \n",
    "ca=pd.read_stata('data/2018_Camara.dta')\n",
    "ca.head()"
   ]
  },
  {
   "cell_type": "code",
   "execution_count": 4,
   "metadata": {},
   "outputs": [
    {
     "data": {
      "text/plain": [
       "(110125, 16)"
      ]
     },
     "execution_count": 4,
     "metadata": {},
     "output_type": "execute_result"
    }
   ],
   "source": [
    "ca.shape"
   ]
  },
  {
   "cell_type": "code",
   "execution_count": 5,
   "metadata": {},
   "outputs": [
    {
     "data": {
      "text/plain": [
       "Index(['id_electoral', 'ano', 'tipo_eleccion', 'fecha_eleccion', 'coddpto',\n",
       "       'departamento', 'codmpio', 'municipio', 'circunscripcion',\n",
       "       'codigo_partido', 'codigo_lista', 'primer_apellido', 'segundo_apellido',\n",
       "       'nombres', 'votos', 'curules'],\n",
       "      dtype='object')"
      ]
     },
     "execution_count": 5,
     "metadata": {},
     "output_type": "execute_result"
    }
   ],
   "source": [
    "ca.columns"
   ]
  },
  {
   "cell_type": "code",
   "execution_count": 3,
   "metadata": {},
   "outputs": [
    {
     "data": {
      "text/plain": [
       "Departamental             72713\n",
       "Afrodescendientes         27768\n",
       "Indígena                   7101\n",
       "Especial Internacional     2543\n",
       "Name: circunscripcion, dtype: int64"
      ]
     },
     "execution_count": 3,
     "metadata": {},
     "output_type": "execute_result"
    }
   ],
   "source": [
    "ca.circunscripcion.value_counts()"
   ]
  },
  {
   "cell_type": "code",
   "execution_count": 10,
   "metadata": {},
   "outputs": [],
   "source": [
    "co=ca.codigo_lista.value_counts()"
   ]
  },
  {
   "cell_type": "code",
   "execution_count": null,
   "metadata": {},
   "outputs": [],
   "source": [
    "ca.segundo_apellido.value_counts()"
   ]
  },
  {
   "cell_type": "code",
   "execution_count": 13,
   "metadata": {},
   "outputs": [],
   "source": [
    "ca3=ca.loc[ (ca.circunscripcion=='Departamental')  ]\n",
    "ca4=ca3.loc[(ca3.codigo_lista==994) | (ca3.codigo_lista==997) |(ca3.codigo_lista==998) |(ca3.codigo_lista==999) ]\n"
   ]
  },
  {
   "cell_type": "code",
   "execution_count": 14,
   "metadata": {},
   "outputs": [
    {
     "data": {
      "application/vnd.plotly.v1+json": {
       "config": {
        "plotlyServerURL": "https://plot.ly"
       },
       "data": [
        {
         "alignmentgroup": "True",
         "hovertemplate": "codigo_lista=%{x}<br>votos=%{y}<extra></extra>",
         "legendgroup": "",
         "marker": {
          "color": "#636efa",
          "pattern": {
           "shape": ""
          }
         },
         "name": "",
         "offsetgroup": "",
         "orientation": "v",
         "showlegend": false,
         "textposition": "auto",
         "type": "bar",
         "x": [
          997,
          998,
          999,
          997,
          998,
          999,
          997,
          998,
          999,
          997,
          998,
          999,
          997,
          998,
          999,
          997,
          998,
          999,
          997,
          998,
          999,
          997,
          998,
          999,
          997,
          998,
          999,
          997,
          998,
          999,
          997,
          998,
          999,
          997,
          998,
          999,
          997,
          998,
          999,
          997,
          998,
          999,
          997,
          998,
          999,
          997,
          998,
          999,
          997,
          998,
          999,
          997,
          998,
          999,
          997,
          998,
          999,
          997,
          998,
          999,
          997,
          998,
          999,
          997,
          998,
          999,
          997,
          998,
          999,
          997,
          998,
          999,
          997,
          998,
          999,
          997,
          998,
          999,
          997,
          998,
          999,
          997,
          998,
          999,
          997,
          998,
          999,
          997,
          998,
          999,
          997,
          998,
          999,
          997,
          998,
          999,
          997,
          998,
          999,
          997,
          998,
          999,
          997,
          998,
          999,
          997,
          998,
          999,
          997,
          998,
          999,
          997,
          998,
          999,
          997,
          998,
          999,
          997,
          998,
          999,
          997,
          998,
          999,
          997,
          998,
          999,
          997,
          998,
          999,
          997,
          998,
          999,
          997,
          998,
          999,
          997,
          998,
          999,
          997,
          998,
          999,
          997,
          998,
          999,
          997,
          998,
          999,
          997,
          998,
          999,
          997,
          998,
          999,
          997,
          998,
          999,
          997,
          998,
          999,
          997,
          998,
          999,
          997,
          998,
          999,
          997,
          998,
          999,
          997,
          998,
          999,
          997,
          998,
          999,
          997,
          998,
          999,
          997,
          998,
          999,
          997,
          998,
          999,
          997,
          998,
          999,
          997,
          998,
          999,
          997,
          998,
          999,
          997,
          998,
          999,
          997,
          998,
          999,
          997,
          998,
          999,
          997,
          998,
          999,
          997,
          998,
          999,
          997,
          998,
          999,
          997,
          998,
          999,
          997,
          998,
          999,
          997,
          998,
          999,
          997,
          998,
          999,
          997,
          998,
          999,
          997,
          998,
          999,
          997,
          998,
          999,
          997,
          998,
          999,
          997,
          998,
          999,
          997,
          998,
          999,
          997,
          998,
          999,
          997,
          998,
          999,
          997,
          998,
          999,
          997,
          998,
          999,
          997,
          998,
          999,
          997,
          998,
          999,
          997,
          998,
          999,
          997,
          998,
          999,
          997,
          998,
          999,
          997,
          998,
          999,
          997,
          998,
          999,
          997,
          998,
          999,
          997,
          998,
          999,
          997,
          998,
          999,
          997,
          998,
          999,
          997,
          998,
          999,
          997,
          998,
          999,
          997,
          998,
          999,
          997,
          998,
          999,
          997,
          998,
          999,
          997,
          998,
          999,
          997,
          998,
          999,
          997,
          998,
          999,
          997,
          998,
          999,
          997,
          998,
          999,
          997,
          998,
          999,
          997,
          998,
          999,
          997,
          998,
          999,
          997,
          998,
          999,
          997,
          998,
          999,
          997,
          998,
          999,
          997,
          998,
          999,
          997,
          998,
          999,
          997,
          998,
          999,
          997,
          998,
          999,
          997,
          998,
          999,
          997,
          998,
          999,
          997,
          998,
          999,
          997,
          998,
          999,
          997,
          998,
          999,
          997,
          998,
          999,
          997,
          998,
          999,
          997,
          998,
          999,
          997,
          998,
          999,
          997,
          998,
          999,
          997,
          998,
          999,
          997,
          998,
          999,
          997,
          998,
          999,
          997,
          998,
          999,
          997,
          998,
          999,
          997,
          998,
          999,
          997,
          998,
          999,
          997,
          998,
          999,
          997,
          998,
          999,
          997,
          998,
          999,
          997,
          998,
          999,
          997,
          998,
          999,
          997,
          998,
          999,
          997,
          998,
          999,
          997,
          998,
          999,
          997,
          998,
          999,
          997,
          998,
          999,
          997,
          998,
          999,
          997,
          998,
          999,
          997,
          998,
          999,
          997,
          998,
          999,
          997,
          998,
          999,
          997,
          998,
          999,
          997,
          998,
          999,
          997,
          998,
          999,
          997,
          998,
          999,
          997,
          998,
          999,
          997,
          998,
          999,
          997,
          998,
          999,
          997,
          998,
          999,
          997,
          998,
          999,
          997,
          998,
          999,
          997,
          998,
          999,
          997,
          998,
          999,
          997,
          998,
          999,
          997,
          998,
          999,
          997,
          998,
          999,
          997,
          998,
          999,
          997,
          998,
          999,
          997,
          998,
          999,
          997,
          998,
          999,
          997,
          998,
          999,
          997,
          998,
          999,
          997,
          998,
          999,
          997,
          998,
          999,
          997,
          998,
          999,
          997,
          998,
          999,
          997,
          998,
          999,
          997,
          998,
          999,
          997,
          998,
          999,
          997,
          998,
          999,
          997,
          998,
          999,
          997,
          998,
          999,
          997,
          998,
          999,
          997,
          998,
          999,
          997,
          998,
          999,
          997,
          998,
          999,
          997,
          998,
          999,
          997,
          998,
          999,
          997,
          998,
          999,
          997,
          998,
          999,
          997,
          998,
          999,
          997,
          998,
          999,
          997,
          998,
          999,
          997,
          998,
          999,
          997,
          998,
          999,
          997,
          998,
          999,
          997,
          998,
          999,
          997,
          998,
          999,
          997,
          998,
          999,
          997,
          998,
          999,
          997,
          998,
          999,
          997,
          998,
          999,
          997,
          998,
          999,
          997,
          998,
          999,
          997,
          998,
          999,
          997,
          998,
          999,
          997,
          998,
          999,
          997,
          998,
          999,
          997,
          998,
          999,
          997,
          998,
          999,
          997,
          998,
          999,
          997,
          998,
          999,
          997,
          998,
          999,
          997,
          998,
          999,
          997,
          998,
          999,
          997,
          998,
          999,
          997,
          998,
          999,
          997,
          998,
          999,
          997,
          998,
          999,
          997,
          998,
          999,
          997,
          998,
          999,
          997,
          998,
          999,
          997,
          998,
          999,
          997,
          998,
          999,
          997,
          998,
          999,
          997,
          998,
          999,
          997,
          998,
          999,
          997,
          998,
          999,
          997,
          998,
          999,
          997,
          998,
          999,
          997,
          998,
          999,
          997,
          998,
          999,
          997,
          998,
          999,
          997,
          998,
          999,
          997,
          998,
          999,
          997,
          998,
          999,
          997,
          998,
          999,
          997,
          998,
          999,
          997,
          998,
          999,
          997,
          998,
          999,
          997,
          998,
          999,
          997,
          998,
          999,
          997,
          998,
          999,
          997,
          998,
          999,
          997,
          998,
          999,
          997,
          998,
          999,
          997,
          998,
          999,
          997,
          998,
          999,
          997,
          998,
          999,
          997,
          998,
          999,
          997,
          998,
          999,
          997,
          998,
          999,
          997,
          998,
          999,
          997,
          998,
          999,
          997,
          998,
          999,
          997,
          998,
          999,
          997,
          998,
          999,
          997,
          998,
          999,
          997,
          998,
          999,
          997,
          998,
          999,
          997,
          998,
          999,
          997,
          998,
          999,
          997,
          998,
          999,
          997,
          998,
          999,
          997,
          998,
          999,
          997,
          998,
          999,
          997,
          998,
          999,
          997,
          998,
          999,
          997,
          998,
          999,
          997,
          998,
          999,
          997,
          998,
          999,
          997,
          998,
          999,
          997,
          998,
          999,
          997,
          998,
          999,
          997,
          998,
          999,
          997,
          998,
          999,
          997,
          998,
          999,
          997,
          998,
          999,
          997,
          998,
          999,
          997,
          998,
          999,
          997,
          998,
          999,
          997,
          998,
          999,
          997,
          998,
          999,
          997,
          998,
          999,
          997,
          998,
          999,
          997,
          998,
          999,
          997,
          998,
          999,
          997,
          998,
          999,
          997,
          998,
          999,
          997,
          998,
          999,
          997,
          998,
          999,
          997,
          998,
          999,
          997,
          998,
          999,
          997,
          998,
          999,
          997,
          998,
          999,
          997,
          998,
          999,
          997,
          998,
          999,
          997,
          998,
          999,
          997,
          998,
          999,
          997,
          998,
          999,
          997,
          998,
          999,
          997,
          998,
          999,
          997,
          998,
          999,
          997,
          998,
          999,
          997,
          998,
          999,
          997,
          998,
          999,
          997,
          998,
          999,
          997,
          998,
          999,
          997,
          998,
          999,
          997,
          998,
          999,
          997,
          998,
          999,
          997,
          998,
          999,
          997,
          998,
          999,
          997,
          998,
          999,
          997,
          998,
          999,
          997,
          998,
          999,
          997,
          998,
          999,
          997,
          998,
          999,
          997,
          998,
          999,
          997,
          998,
          999,
          997,
          998,
          999,
          997,
          998,
          999,
          997,
          998,
          999,
          997,
          998,
          999,
          997,
          998,
          999,
          997,
          998,
          999,
          997,
          998,
          999,
          997,
          998,
          999,
          997,
          998,
          999,
          997,
          998,
          999,
          997,
          998,
          999,
          997,
          998,
          999,
          997,
          998,
          999,
          997,
          998,
          999,
          997,
          998,
          999,
          997,
          998,
          999,
          997,
          998,
          999,
          997,
          998,
          999,
          997,
          998,
          999,
          997,
          998,
          999,
          997,
          998,
          999,
          997,
          998,
          999,
          997,
          998,
          999,
          997,
          998,
          999,
          997,
          998,
          999,
          997,
          998,
          999,
          997,
          998,
          999,
          997,
          998,
          999,
          997,
          998,
          999,
          997,
          998,
          999,
          997,
          998,
          999,
          997,
          998,
          999,
          997,
          998,
          999,
          997,
          998,
          999,
          997,
          998,
          999,
          997,
          998,
          999,
          997,
          998,
          999,
          997,
          998,
          999,
          997,
          998,
          999,
          997,
          998,
          999,
          997,
          998,
          999,
          997,
          998,
          999,
          997,
          998,
          999,
          997,
          998,
          999,
          997,
          998,
          999,
          997,
          998,
          999,
          997,
          998,
          999,
          997,
          998,
          999,
          997,
          998,
          999,
          997,
          998,
          999,
          997,
          998,
          999,
          997,
          998,
          999,
          997,
          998,
          999,
          997,
          998,
          999,
          997,
          998,
          999,
          997,
          998,
          999,
          997,
          998,
          999,
          997,
          998,
          999,
          997,
          998,
          999,
          997,
          998,
          999,
          997,
          998,
          999,
          997,
          998,
          999,
          997,
          998,
          999,
          997,
          998,
          999,
          997,
          998,
          999,
          997,
          998,
          999,
          997,
          998,
          999,
          997,
          998,
          999,
          997,
          998,
          999,
          997,
          998,
          999,
          997,
          998,
          999,
          997,
          998,
          999,
          997,
          998,
          999,
          997,
          998,
          999,
          997,
          998,
          999,
          997,
          998,
          999,
          997,
          998,
          999,
          997,
          998,
          999,
          997,
          998,
          999,
          997,
          998,
          999,
          997,
          998,
          999,
          997,
          998,
          999,
          997,
          998,
          999,
          997,
          998,
          999,
          997,
          998,
          999,
          997,
          998,
          999,
          997,
          998,
          999,
          997,
          998,
          999,
          997,
          998,
          999,
          997,
          998,
          999,
          997,
          998,
          999,
          997,
          998,
          999,
          997,
          998,
          999,
          997,
          998,
          999,
          997,
          998,
          999,
          997,
          998,
          999,
          997,
          998,
          999,
          997,
          998,
          999,
          997,
          998,
          999,
          997,
          998,
          999,
          997,
          998,
          999,
          997,
          998,
          999,
          997,
          998,
          999,
          997,
          998,
          999,
          997,
          998,
          999,
          997,
          998,
          999,
          997,
          998,
          999,
          997,
          998,
          999,
          997,
          998,
          999,
          997,
          998,
          999,
          997,
          998,
          999,
          997,
          998,
          999,
          997,
          998,
          999,
          997,
          998,
          999,
          997,
          998,
          999,
          997,
          998,
          999,
          997,
          998,
          999,
          997,
          998,
          999,
          997,
          998,
          999,
          997,
          998,
          999,
          997,
          998,
          999,
          997,
          998,
          999,
          997,
          998,
          999,
          997,
          998,
          999,
          997,
          998,
          999,
          997,
          998,
          999,
          997,
          998,
          999,
          997,
          998,
          999,
          997,
          998,
          999,
          997,
          998,
          999,
          997,
          998,
          999,
          997,
          998,
          999,
          997,
          998,
          999,
          997,
          998,
          999,
          997,
          998,
          999,
          997,
          998,
          999,
          997,
          998,
          999,
          997,
          998,
          999,
          997,
          998,
          999,
          997,
          998,
          999,
          997,
          998,
          999,
          997,
          998,
          999,
          997,
          998,
          999,
          997,
          998,
          999,
          997,
          998,
          999,
          997,
          998,
          999,
          997,
          998,
          999,
          997,
          998,
          999,
          997,
          998,
          999,
          997,
          998,
          999,
          997,
          998,
          999,
          997,
          998,
          999,
          997,
          998,
          999,
          997,
          998,
          999,
          997,
          998,
          999,
          997,
          998,
          999,
          997,
          998,
          999,
          997,
          998,
          999,
          997,
          998,
          999,
          997,
          998,
          999,
          997,
          998,
          999,
          997,
          998,
          999,
          997,
          998,
          999,
          997,
          998,
          999,
          997,
          998,
          999,
          997,
          998,
          999,
          997,
          998,
          999,
          997,
          998,
          999,
          997,
          998,
          999,
          997,
          998,
          999,
          997,
          998,
          999,
          997,
          998,
          999,
          997,
          998,
          999,
          997,
          998,
          999,
          997,
          998,
          999,
          997,
          998,
          999,
          997,
          998,
          999,
          997,
          998,
          999,
          997,
          998,
          999,
          997,
          998,
          999,
          997,
          998,
          999,
          997,
          998,
          999,
          997,
          998,
          999,
          997,
          998,
          999,
          997,
          998,
          999,
          997,
          998,
          999,
          997,
          998,
          999,
          997,
          998,
          999,
          997,
          998,
          999,
          997,
          998,
          999,
          997,
          998,
          999,
          997,
          998,
          999,
          997,
          998,
          999,
          997,
          998,
          999,
          997,
          998,
          999,
          997,
          998,
          999,
          997,
          998,
          999,
          997,
          998,
          999,
          997,
          998,
          999,
          997,
          998,
          999,
          997,
          998,
          999,
          997,
          998,
          999,
          997,
          998,
          999,
          997,
          998,
          999,
          997,
          998,
          999,
          997,
          998,
          999,
          997,
          998,
          999,
          997,
          998,
          999,
          997,
          998,
          999,
          997,
          998,
          999,
          997,
          998,
          999,
          997,
          998,
          999,
          997,
          998,
          999,
          997,
          998,
          999,
          997,
          998,
          999,
          997,
          998,
          999,
          997,
          998,
          999,
          997,
          998,
          999,
          997,
          998,
          999,
          997,
          998,
          999,
          997,
          998,
          999,
          997,
          998,
          999,
          997,
          998,
          999,
          997,
          998,
          999,
          997,
          998,
          999,
          997,
          998,
          999,
          997,
          998,
          999,
          997,
          998,
          999,
          997,
          998,
          999,
          997,
          998,
          999,
          997,
          998,
          999,
          997,
          998,
          999,
          997,
          998,
          999,
          997,
          998,
          999,
          997,
          998,
          999,
          997,
          998,
          999,
          997,
          998,
          999,
          997,
          998,
          999,
          997,
          998,
          999,
          997,
          998,
          999,
          997,
          998,
          999,
          997,
          998,
          999,
          997,
          998,
          999,
          997,
          998,
          999,
          997,
          998,
          999,
          997,
          998,
          999,
          997,
          998,
          999,
          997,
          998,
          999,
          997,
          998,
          999,
          997,
          998,
          999,
          997,
          998,
          999,
          997,
          998,
          999,
          997,
          998,
          999,
          997,
          998,
          999,
          997,
          998,
          999,
          997,
          998,
          999,
          997,
          998,
          999,
          997,
          998,
          999,
          997,
          998,
          999,
          997,
          998,
          999,
          997,
          998,
          999,
          997,
          998,
          999,
          997,
          998,
          999,
          997,
          998,
          999,
          997,
          998,
          999,
          997,
          998,
          999,
          997,
          998,
          999,
          997,
          998,
          999,
          997,
          998,
          999,
          997,
          998,
          999,
          997,
          998,
          999,
          997,
          998,
          999,
          997,
          998,
          999,
          997,
          998,
          999,
          997,
          998,
          999,
          997,
          998,
          999,
          997,
          998,
          999,
          997,
          998,
          999,
          997,
          998,
          999,
          997,
          998,
          999,
          997,
          998,
          999,
          997,
          998,
          999,
          997,
          998,
          999,
          997,
          998,
          999,
          997,
          998,
          999,
          997,
          998,
          999,
          997,
          998,
          999,
          997,
          998,
          999,
          997,
          998,
          999,
          997,
          998,
          999,
          997,
          998,
          999,
          997,
          998,
          999,
          997,
          998,
          999,
          997,
          998,
          999,
          997,
          998,
          999,
          997,
          998,
          999,
          997,
          998,
          999,
          997,
          998,
          999,
          997,
          998,
          999,
          997,
          998,
          999,
          997,
          998,
          999,
          997,
          998,
          999,
          997,
          998,
          999,
          997,
          998,
          999,
          997,
          998,
          999,
          997,
          998,
          999,
          997,
          998,
          999,
          997,
          998,
          999,
          997,
          998,
          999,
          997,
          998,
          999,
          997,
          998,
          999,
          997,
          998,
          999,
          997,
          998,
          999,
          997,
          998,
          999,
          997,
          998,
          999,
          997,
          998,
          999,
          997,
          998,
          999,
          997,
          998,
          999,
          997,
          998,
          999,
          997,
          998,
          999,
          997,
          998,
          999,
          997,
          998,
          999,
          997,
          998,
          999,
          997,
          998,
          999,
          997,
          998,
          999,
          997,
          998,
          999,
          997,
          998,
          999,
          997,
          998,
          999,
          997,
          998,
          999,
          997,
          998,
          999,
          997,
          998,
          999,
          997,
          998,
          999,
          997,
          998,
          999,
          997,
          998,
          999,
          997,
          998,
          999,
          997,
          998,
          999,
          997,
          998,
          999,
          997,
          998,
          999,
          997,
          998,
          999,
          997,
          998,
          999,
          997,
          998,
          999,
          997,
          998,
          999,
          997,
          998,
          999,
          997,
          998,
          999,
          997,
          998,
          999,
          997,
          998,
          999,
          997,
          998,
          999,
          997,
          998,
          999,
          997,
          998,
          999,
          997,
          998,
          999,
          997,
          998,
          999,
          997,
          998,
          999,
          997,
          998,
          999,
          997,
          998,
          999,
          997,
          998,
          999,
          997,
          998,
          999,
          997,
          998,
          999,
          997,
          998,
          999,
          997,
          998,
          999,
          997,
          998,
          999,
          997,
          998,
          999,
          997,
          998,
          999,
          997,
          998,
          999,
          997,
          998,
          999,
          997,
          998,
          999,
          997,
          998,
          999,
          997,
          998,
          999,
          997,
          998,
          999,
          997,
          998,
          999,
          997,
          998,
          999,
          997,
          998,
          999,
          997,
          998,
          999,
          997,
          998,
          999,
          997,
          998,
          999,
          997,
          998,
          999,
          997,
          998,
          999,
          997,
          998,
          999,
          997,
          998,
          999,
          997,
          998,
          999,
          997,
          998,
          999,
          997,
          998,
          999,
          997,
          998,
          999,
          997,
          998,
          999,
          997,
          998,
          999,
          997,
          998,
          999,
          997,
          998,
          999,
          997,
          998,
          999,
          997,
          998,
          999,
          997,
          998,
          999,
          997,
          998,
          999,
          997,
          998,
          999,
          997,
          998,
          999,
          997,
          998,
          999,
          997,
          998,
          999,
          997,
          998,
          999,
          997,
          998,
          999,
          997,
          998,
          999,
          997,
          998,
          999,
          997,
          998,
          999,
          997,
          998,
          999,
          997,
          998,
          999,
          997,
          998,
          999,
          997,
          998,
          999,
          997,
          998,
          999,
          997,
          998,
          999,
          997,
          998,
          999,
          997,
          998,
          999,
          997,
          998,
          999,
          997,
          998,
          999,
          997,
          998,
          999,
          997,
          998,
          999,
          997,
          998,
          999,
          997,
          998,
          999,
          997,
          998,
          999,
          997,
          998,
          999,
          997,
          998,
          999,
          997,
          998,
          999,
          997,
          998,
          999,
          997,
          998,
          999,
          997,
          998,
          999,
          997,
          998,
          999,
          997,
          998,
          999,
          997,
          998,
          999,
          997,
          998,
          999,
          997,
          998,
          999,
          997,
          998,
          999,
          997,
          998,
          999,
          997,
          998,
          999,
          997,
          998,
          999,
          997,
          998,
          999,
          997,
          998,
          999,
          997,
          998,
          999,
          997,
          998,
          999,
          997,
          998,
          999,
          997,
          998,
          999,
          997,
          998,
          999,
          997,
          998,
          999,
          997,
          998,
          999,
          997,
          998,
          999,
          997,
          998,
          999,
          997,
          998,
          999,
          997,
          998,
          999,
          997,
          998,
          999,
          997,
          998,
          999,
          997,
          998,
          999,
          997,
          998,
          999,
          997,
          998,
          999,
          997,
          998,
          999,
          997,
          998,
          999,
          997,
          998,
          999,
          997,
          998,
          999,
          997,
          998,
          999,
          997,
          998,
          999,
          997,
          998,
          999,
          997,
          998,
          999,
          997,
          998,
          999,
          997,
          998,
          999,
          997,
          998,
          999,
          997,
          998,
          999,
          997,
          998,
          999,
          997,
          998,
          999,
          997,
          998,
          999,
          997,
          998,
          999,
          997,
          998,
          999,
          997,
          998,
          999,
          997,
          998,
          999,
          997,
          998,
          999,
          997,
          998,
          999,
          997,
          998,
          999,
          997,
          998,
          999,
          997,
          998,
          999,
          997,
          998,
          999,
          997,
          998,
          999,
          997,
          998,
          999,
          997,
          998,
          999,
          997,
          998,
          999,
          997,
          998,
          999,
          997,
          998,
          999,
          997,
          998,
          999,
          997,
          998,
          999,
          997,
          998,
          999,
          997,
          998,
          999,
          997,
          998,
          999,
          997,
          998,
          999,
          997,
          998,
          999,
          997,
          998,
          999,
          997,
          998,
          999,
          997,
          998,
          999,
          997,
          998,
          999,
          997,
          998,
          999,
          997,
          998,
          999,
          997,
          998,
          999,
          997,
          998,
          999,
          997,
          998,
          999,
          997,
          998,
          999,
          997,
          998,
          999,
          997,
          998,
          999,
          997,
          998,
          999,
          997,
          998,
          999,
          997,
          998,
          999,
          997,
          998,
          999,
          997,
          998,
          999,
          997,
          998,
          999,
          997,
          998,
          999,
          997,
          998,
          999,
          997,
          998,
          999,
          997,
          998,
          999,
          997,
          998,
          999,
          997,
          998,
          999,
          997,
          998,
          999,
          997,
          998,
          999,
          997,
          998,
          999,
          997,
          998,
          999,
          997,
          998,
          999,
          997,
          998,
          999,
          997,
          998,
          999,
          997,
          998,
          999,
          997,
          998,
          999,
          997,
          998,
          999,
          997,
          998,
          999,
          997,
          998,
          999,
          997,
          998,
          999,
          997,
          998,
          999,
          997,
          998,
          999,
          997,
          998,
          999,
          997,
          998,
          999,
          997,
          998,
          999,
          997,
          998,
          999,
          997,
          998,
          999,
          997,
          998,
          999,
          997,
          998,
          999,
          997,
          998,
          999,
          997,
          998,
          999,
          997,
          998,
          999,
          997,
          998,
          999,
          997,
          998,
          999,
          997,
          998,
          999,
          997,
          998,
          999,
          997,
          998,
          999,
          997,
          998,
          999,
          997,
          998,
          999,
          997,
          998,
          999,
          997,
          998,
          999,
          997,
          998,
          999,
          997,
          998,
          999,
          997,
          998,
          999,
          997,
          998,
          999,
          997,
          998,
          999,
          997,
          998,
          999,
          997,
          998,
          999,
          997,
          998,
          999,
          997,
          998,
          999,
          997,
          998,
          999,
          997,
          998,
          999,
          997,
          998,
          999,
          997,
          998,
          999,
          997,
          998,
          999,
          997,
          998,
          999,
          997,
          998,
          999,
          997,
          998,
          999,
          997,
          998,
          999,
          997,
          998,
          999,
          997,
          998,
          999,
          997,
          998,
          999,
          997,
          998,
          999,
          997,
          998,
          999,
          997,
          998,
          999,
          997,
          998,
          999,
          997,
          998,
          999,
          997,
          998,
          999,
          997,
          998,
          999,
          997,
          998,
          999,
          997,
          998,
          999,
          997,
          998,
          999,
          997,
          998,
          999,
          997,
          998,
          999,
          997,
          998,
          999,
          997,
          998,
          999,
          997,
          998,
          999,
          997,
          998,
          999,
          997,
          998,
          999,
          997,
          998,
          999,
          997,
          998,
          999,
          997,
          998,
          999,
          997,
          998,
          999,
          997,
          998,
          999,
          997,
          998,
          999,
          997,
          998,
          999,
          997,
          998,
          999,
          997,
          998,
          999,
          997,
          998,
          999,
          997,
          998,
          999,
          997,
          998,
          999,
          997,
          998,
          999,
          997,
          998,
          999,
          997,
          998,
          999,
          997,
          998,
          999,
          997,
          998,
          999,
          997,
          998,
          999,
          997,
          998,
          999,
          997,
          998,
          999,
          997,
          998,
          999,
          997,
          998,
          999,
          997,
          998,
          999,
          997,
          998,
          999,
          997,
          998,
          999,
          997,
          998,
          999,
          997,
          998,
          999,
          997,
          998,
          999,
          997,
          998,
          999,
          997,
          998,
          999,
          997,
          998,
          999,
          997,
          998,
          999,
          997,
          998,
          999,
          997,
          998,
          999,
          997,
          998,
          999,
          997,
          998,
          999,
          997,
          998,
          999,
          997,
          998,
          999,
          997,
          998,
          999,
          997,
          998,
          999,
          997,
          998,
          999,
          997,
          998,
          999,
          997,
          998,
          999,
          997,
          998,
          999,
          997,
          998,
          999,
          997,
          998,
          999,
          997,
          998,
          999,
          997,
          998,
          999,
          997,
          998,
          999,
          997,
          998,
          999,
          997,
          998,
          999,
          997,
          998,
          999,
          997,
          998,
          999,
          997,
          998,
          999,
          997,
          998,
          999,
          997,
          998,
          999,
          997,
          998,
          999,
          997,
          998,
          999,
          997,
          998,
          999,
          997,
          998,
          999,
          997,
          998,
          999,
          997,
          998,
          999,
          997,
          998,
          999,
          997,
          998,
          999,
          997,
          998,
          999,
          997,
          998,
          999,
          997,
          998,
          999,
          997,
          998,
          999,
          997,
          998,
          999,
          997,
          998,
          999,
          997,
          998,
          999,
          997,
          998,
          999,
          997,
          998,
          999,
          997,
          998,
          999,
          997,
          998,
          999,
          997,
          998,
          999,
          997,
          998,
          999,
          997,
          998,
          999,
          997,
          998,
          999,
          997,
          998,
          999,
          997,
          998,
          999,
          997,
          998,
          999,
          997,
          998,
          999,
          997,
          998,
          999,
          997,
          998,
          999,
          997,
          998,
          999,
          997,
          998,
          999,
          997,
          998,
          999,
          997,
          998,
          999,
          997,
          998,
          999,
          997,
          998,
          999,
          997,
          998,
          999,
          997,
          998,
          999,
          997,
          998,
          999,
          997,
          998,
          999,
          997,
          998,
          999,
          997,
          998,
          999,
          997,
          998,
          999,
          997,
          998,
          999,
          997,
          998,
          999,
          997,
          998,
          999,
          997,
          998,
          999,
          997,
          998,
          999,
          997,
          998,
          999,
          997,
          998,
          999,
          997,
          998,
          999,
          997,
          998,
          999,
          997,
          998,
          999,
          997,
          998,
          999,
          997,
          998,
          999,
          997,
          998,
          999,
          997,
          998,
          999,
          997,
          998,
          999,
          997,
          998,
          999,
          997,
          998,
          999,
          997,
          998,
          999,
          997,
          998,
          999,
          997,
          998,
          999,
          997,
          998,
          999,
          997,
          998,
          999,
          997,
          998,
          999,
          997,
          998,
          999,
          997,
          998,
          999,
          997,
          998,
          999,
          997,
          998,
          999,
          997,
          998,
          999,
          997,
          998,
          999,
          997,
          998,
          999,
          997,
          998,
          999,
          997,
          998,
          999,
          997,
          998,
          999,
          997,
          998,
          999,
          997,
          998,
          999,
          997,
          998,
          999,
          997,
          998,
          999,
          997,
          998,
          999,
          997,
          998,
          999,
          997,
          998,
          999,
          997,
          998,
          999,
          997,
          998,
          999,
          997,
          998,
          999,
          997,
          998,
          999,
          997,
          998,
          999,
          997,
          998,
          999,
          997,
          998,
          999,
          997,
          998,
          999,
          997,
          998,
          999,
          997,
          998,
          999,
          997,
          998,
          999,
          997,
          998,
          999,
          997,
          998,
          999,
          997,
          998,
          999,
          997,
          998,
          999,
          997,
          998,
          999,
          997,
          998,
          999,
          997,
          998,
          999,
          997,
          998,
          999,
          997,
          998,
          999,
          997,
          998,
          999,
          997,
          998,
          999,
          997,
          998,
          999,
          997,
          998,
          999,
          997,
          998,
          999,
          997,
          998,
          999,
          997,
          998,
          999,
          997,
          998,
          999,
          997,
          998,
          999,
          997,
          998,
          999,
          997,
          998,
          999,
          997,
          998,
          999,
          997,
          998,
          999,
          997,
          998,
          999,
          997,
          998,
          999,
          997,
          998,
          999,
          997,
          998,
          999,
          997,
          998,
          999,
          997,
          998,
          999,
          997,
          998,
          999,
          997,
          998,
          999,
          997,
          998,
          999,
          997,
          998,
          999,
          997,
          998,
          999,
          997,
          998,
          999,
          997,
          998,
          999,
          997,
          998,
          999,
          997,
          998,
          999,
          997,
          998,
          999,
          997,
          998,
          999,
          997,
          998,
          999,
          997,
          998,
          999,
          997,
          998,
          999,
          997,
          998,
          997,
          998,
          999,
          997,
          998,
          999,
          998,
          997,
          998,
          997,
          998,
          997,
          998,
          997,
          998,
          999,
          997,
          998,
          997,
          998,
          999,
          997,
          998,
          999,
          997,
          998,
          999,
          997,
          998,
          999,
          997,
          998,
          999,
          997,
          998,
          999,
          997,
          999,
          997,
          998,
          998,
          998,
          999,
          997,
          998,
          999,
          997,
          998,
          999,
          997,
          998,
          999,
          997,
          998,
          999,
          997,
          998,
          999,
          997,
          998,
          999,
          997,
          998,
          999,
          997,
          998,
          999,
          998,
          999,
          997,
          998,
          999,
          997,
          998,
          999,
          997,
          998,
          999,
          997,
          998,
          999,
          997,
          998,
          999
         ],
         "xaxis": "x",
         "y": [
          19254,
          77205,
          41423,
          230,
          347,
          96,
          22,
          52,
          10,
          145,
          118,
          41,
          273,
          876,
          316,
          272,
          534,
          152,
          558,
          1167,
          369,
          73,
          192,
          51,
          170,
          323,
          58,
          130,
          188,
          75,
          372,
          664,
          292,
          126,
          178,
          35,
          1671,
          3833,
          1697,
          481,
          995,
          122,
          138,
          197,
          33,
          106,
          148,
          40,
          699,
          2030,
          677,
          65,
          155,
          51,
          3767,
          15769,
          7892,
          102,
          313,
          48,
          318,
          402,
          99,
          343,
          664,
          213,
          104,
          152,
          14,
          111,
          193,
          49,
          432,
          602,
          103,
          112,
          176,
          27,
          929,
          4209,
          1841,
          143,
          190,
          48,
          294,
          583,
          116,
          54,
          100,
          39,
          90,
          134,
          26,
          820,
          1447,
          542,
          601,
          1907,
          830,
          89,
          135,
          42,
          1401,
          2511,
          897,
          995,
          1763,
          605,
          168,
          378,
          249,
          369,
          489,
          81,
          78,
          150,
          32,
          255,
          438,
          124,
          769,
          3534,
          1683,
          266,
          426,
          64,
          254,
          663,
          255,
          236,
          284,
          84,
          751,
          1201,
          309,
          81,
          266,
          134,
          2060,
          9468,
          5989,
          268,
          540,
          223,
          178,
          398,
          160,
          91,
          113,
          27,
          487,
          2585,
          1102,
          246,
          304,
          119,
          286,
          321,
          95,
          127,
          171,
          49,
          669,
          2018,
          865,
          104,
          256,
          128,
          129,
          211,
          46,
          95,
          113,
          33,
          3178,
          12202,
          6115,
          407,
          398,
          123,
          260,
          452,
          191,
          209,
          344,
          122,
          917,
          2922,
          1352,
          531,
          2365,
          1109,
          95,
          206,
          42,
          280,
          700,
          291,
          156,
          261,
          77,
          148,
          231,
          65,
          586,
          1935,
          880,
          134,
          167,
          61,
          64,
          127,
          5,
          176,
          202,
          51,
          196,
          307,
          40,
          990,
          1273,
          184,
          481,
          585,
          64,
          75,
          57,
          28,
          220,
          464,
          193,
          120,
          154,
          30,
          153,
          196,
          57,
          441,
          1097,
          317,
          168,
          350,
          68,
          233,
          446,
          108,
          252,
          496,
          195,
          247,
          541,
          261,
          1306,
          5967,
          2902,
          119,
          208,
          44,
          615,
          2878,
          1755,
          229,
          352,
          65,
          133,
          207,
          49,
          264,
          466,
          104,
          116,
          175,
          35,
          149,
          346,
          98,
          41,
          137,
          32,
          539,
          728,
          95,
          188,
          302,
          100,
          270,
          981,
          377,
          551,
          769,
          158,
          218,
          458,
          109,
          345,
          442,
          129,
          329,
          626,
          227,
          372,
          799,
          365,
          732,
          1642,
          665,
          254,
          345,
          97,
          606,
          1123,
          410,
          296,
          775,
          302,
          649,
          1154,
          379,
          199,
          348,
          100,
          222,
          439,
          145,
          319,
          448,
          112,
          76,
          156,
          23,
          119,
          295,
          76,
          131,
          193,
          44,
          1632,
          3127,
          1033,
          110,
          177,
          28,
          361,
          685,
          251,
          270,
          319,
          59,
          96,
          146,
          42,
          193,
          233,
          59,
          214,
          317,
          116,
          153,
          226,
          7,
          115,
          183,
          39,
          442,
          1276,
          468,
          253,
          467,
          134,
          312,
          539,
          149,
          412,
          634,
          115,
          20369,
          66356,
          27358,
          996,
          1666,
          583,
          283,
          735,
          61,
          289,
          466,
          44,
          863,
          1952,
          680,
          271,
          627,
          137,
          412,
          984,
          121,
          1543,
          4978,
          1233,
          192,
          457,
          30,
          366,
          918,
          237,
          66,
          196,
          21,
          239,
          575,
          110,
          271,
          722,
          117,
          383,
          1281,
          513,
          300,
          789,
          94,
          264,
          925,
          284,
          1089,
          2859,
          784,
          74,
          385,
          22,
          442,
          1106,
          393,
          5634,
          16528,
          5704,
          67,
          272,
          30,
          124,
          337,
          54,
          106,
          303,
          49,
          48728,
          247965,
          177390,
          12595,
          37389,
          15551,
          148,
          675,
          23,
          152,
          346,
          11,
          90,
          187,
          23,
          1093,
          2797,
          695,
          113,
          260,
          45,
          238,
          626,
          39,
          298,
          878,
          87,
          153,
          317,
          51,
          135,
          384,
          24,
          139,
          481,
          48,
          226,
          571,
          62,
          1342,
          2461,
          434,
          183,
          439,
          16,
          58,
          224,
          9,
          71,
          334,
          17,
          1420,
          4250,
          722,
          268,
          825,
          98,
          74,
          263,
          23,
          702,
          1767,
          277,
          131,
          454,
          32,
          459,
          1140,
          254,
          238,
          548,
          64,
          79,
          159,
          27,
          323,
          651,
          41,
          97,
          204,
          15,
          69,
          260,
          37,
          88,
          224,
          39,
          174,
          696,
          65,
          72,
          301,
          21,
          495,
          864,
          138,
          161,
          339,
          27,
          759,
          1086,
          223,
          155,
          388,
          33,
          591,
          1325,
          192,
          224,
          450,
          48,
          266,
          779,
          83,
          342,
          756,
          364,
          367,
          639,
          114,
          158,
          434,
          63,
          109,
          189,
          25,
          180,
          703,
          39,
          798,
          3138,
          930,
          359,
          616,
          133,
          362,
          1157,
          103,
          300,
          417,
          62,
          1011,
          7064,
          7966,
          19,
          56,
          14,
          183,
          571,
          219,
          79,
          182,
          173,
          84,
          285,
          172,
          9,
          46,
          18,
          23,
          48,
          42,
          80,
          143,
          87,
          55,
          154,
          52,
          40,
          52,
          19,
          104,
          189,
          57,
          1,
          17,
          15,
          42,
          99,
          73,
          45,
          71,
          37,
          71,
          180,
          104,
          31,
          92,
          46,
          394,
          2214,
          2046,
          64,
          102,
          42,
          183,
          136,
          81,
          145,
          267,
          56,
          28,
          93,
          71,
          134,
          186,
          72,
          88,
          414,
          213,
          37,
          80,
          46,
          31,
          68,
          62,
          78,
          70,
          26,
          110,
          209,
          72,
          50,
          118,
          76,
          17,
          71,
          25,
          52,
          133,
          39,
          22,
          66,
          22,
          641,
          4720,
          3985,
          93,
          113,
          98,
          37,
          84,
          43,
          54,
          186,
          211,
          42,
          100,
          48,
          52,
          103,
          40,
          45,
          121,
          63,
          95,
          488,
          454,
          43,
          21,
          16,
          90,
          392,
          284,
          57,
          113,
          55,
          47,
          100,
          55,
          21,
          64,
          45,
          80,
          184,
          130,
          81,
          112,
          33,
          27,
          111,
          17,
          40,
          122,
          58,
          43,
          53,
          4,
          33,
          64,
          58,
          169,
          546,
          516,
          48,
          141,
          55,
          43,
          156,
          37,
          75,
          285,
          169,
          42,
          146,
          69,
          23,
          141,
          107,
          388,
          780,
          639,
          73,
          185,
          141,
          152,
          343,
          101,
          79,
          615,
          423,
          49,
          146,
          79,
          29,
          89,
          110,
          106,
          262,
          98,
          20,
          78,
          50,
          46,
          86,
          41,
          261,
          1270,
          1077,
          47,
          48,
          26,
          29,
          42,
          20,
          102,
          256,
          67,
          18,
          70,
          9,
          71,
          158,
          124,
          52,
          231,
          123,
          5,
          36,
          5,
          1084,
          2680,
          982,
          61,
          229,
          41,
          69,
          271,
          201,
          102,
          221,
          185,
          20,
          78,
          32,
          231,
          521,
          239,
          41,
          168,
          72,
          104,
          590,
          238,
          19,
          54,
          31,
          80,
          185,
          67,
          46,
          119,
          61,
          83,
          61,
          27,
          41,
          127,
          119,
          106,
          238,
          75,
          109,
          295,
          92,
          60,
          158,
          113,
          116,
          330,
          288,
          33,
          123,
          57,
          37,
          101,
          28,
          12,
          29,
          9,
          71,
          304,
          130,
          104,
          329,
          195,
          108,
          222,
          85,
          99,
          212,
          204,
          760,
          4887,
          4282,
          27,
          72,
          29,
          19,
          111,
          50,
          76,
          251,
          93,
          64,
          272,
          115,
          48,
          159,
          29,
          67,
          233,
          153,
          80,
          150,
          70,
          59,
          140,
          58,
          42,
          197,
          59,
          70,
          279,
          133,
          123,
          445,
          376,
          23,
          107,
          98,
          74,
          105,
          26,
          62,
          289,
          211,
          84,
          155,
          95,
          30,
          138,
          72,
          76,
          165,
          22,
          13,
          67,
          16,
          45,
          178,
          103,
          55,
          255,
          163,
          20,
          88,
          19,
          77,
          210,
          72,
          206,
          525,
          218,
          39,
          98,
          49,
          49,
          138,
          42,
          4585,
          21490,
          14758,
          485,
          1033,
          285,
          688,
          1368,
          675,
          179,
          499,
          127,
          211,
          342,
          125,
          769,
          2497,
          1275,
          183,
          440,
          157,
          706,
          2913,
          1230,
          98,
          183,
          46,
          335,
          552,
          204,
          109,
          272,
          71,
          254,
          458,
          126,
          54,
          77,
          29,
          388,
          1002,
          418,
          125,
          211,
          84,
          241,
          564,
          146,
          262,
          636,
          193,
          436,
          792,
          285,
          876,
          1802,
          682,
          164,
          365,
          151,
          329,
          635,
          213,
          463,
          749,
          202,
          67,
          156,
          84,
          577,
          1718,
          385,
          117,
          335,
          132,
          663,
          2410,
          1397,
          196,
          517,
          238,
          1333,
          4924,
          2438,
          51,
          70,
          28,
          93,
          222,
          71,
          260,
          438,
          197,
          95,
          129,
          51,
          251,
          437,
          266,
          161,
          247,
          122,
          151,
          291,
          65,
          63,
          115,
          16,
          63,
          71,
          37,
          288,
          563,
          267,
          143,
          215,
          121,
          546,
          791,
          399,
          83,
          105,
          42,
          91,
          151,
          56,
          50,
          112,
          40,
          3511,
          13638,
          9270,
          624,
          315,
          98,
          281,
          408,
          166,
          339,
          464,
          124,
          525,
          776,
          251,
          731,
          795,
          187,
          927,
          968,
          407,
          1338,
          924,
          300,
          492,
          854,
          301,
          400,
          765,
          302,
          1019,
          1373,
          480,
          266,
          126,
          53,
          407,
          1068,
          174,
          507,
          752,
          102,
          829,
          618,
          230,
          499,
          265,
          57,
          269,
          333,
          127,
          349,
          330,
          99,
          79,
          189,
          8,
          477,
          455,
          117,
          464,
          1114,
          546,
          373,
          757,
          147,
          228,
          440,
          99,
          1527,
          630,
          212,
          467,
          798,
          275,
          168,
          128,
          53,
          644,
          1108,
          661,
          750,
          2631,
          659,
          344,
          309,
          163,
          318,
          355,
          118,
          145,
          156,
          39,
          1408,
          4086,
          1456,
          107,
          136,
          71,
          965,
          923,
          421,
          377,
          258,
          140,
          371,
          684,
          142,
          261,
          145,
          39,
          582,
          1171,
          540,
          144,
          486,
          27,
          782,
          568,
          96,
          326,
          368,
          167,
          337,
          1147,
          203,
          4020,
          12932,
          5150,
          877,
          2992,
          821,
          665,
          1936,
          354,
          276,
          590,
          72,
          242,
          690,
          128,
          446,
          1423,
          142,
          252,
          979,
          127,
          418,
          904,
          172,
          383,
          1178,
          232,
          480,
          1111,
          283,
          464,
          1152,
          259,
          121,
          430,
          57,
          69,
          213,
          37,
          181,
          390,
          88,
          669,
          1214,
          480,
          64,
          236,
          47,
          181,
          495,
          76,
          213,
          676,
          117,
          373,
          812,
          119,
          252,
          715,
          186,
          225,
          777,
          108,
          263,
          838,
          324,
          172,
          565,
          102,
          206,
          839,
          225,
          81,
          326,
          48,
          10490,
          14725,
          8011,
          786,
          1230,
          237,
          377,
          417,
          90,
          547,
          460,
          107,
          3825,
          3177,
          1835,
          237,
          363,
          52,
          1345,
          1548,
          482,
          2470,
          1790,
          723,
          285,
          614,
          107,
          310,
          466,
          118,
          2071,
          3391,
          1112,
          427,
          600,
          83,
          435,
          435,
          117,
          1310,
          2179,
          913,
          634,
          530,
          123,
          1323,
          2048,
          602,
          500,
          808,
          173,
          488,
          540,
          166,
          734,
          850,
          246,
          531,
          651,
          99,
          2956,
          2911,
          1074,
          1574,
          1367,
          301,
          925,
          766,
          211,
          568,
          862,
          230,
          954,
          848,
          201,
          158,
          252,
          44,
          686,
          1014,
          344,
          1955,
          2201,
          589,
          1449,
          777,
          149,
          647,
          747,
          214,
          92,
          314,
          160,
          60,
          245,
          111,
          152,
          405,
          226,
          142,
          406,
          237,
          131,
          346,
          275,
          28,
          34,
          9,
          57,
          110,
          35,
          81,
          569,
          191,
          91,
          92,
          61,
          134,
          358,
          224,
          467,
          3996,
          2242,
          266,
          295,
          96,
          179,
          732,
          343,
          79,
          239,
          129,
          51,
          104,
          30,
          897,
          5961,
          4300,
          64,
          348,
          235,
          124,
          469,
          339,
          164,
          803,
          374,
          194,
          1227,
          782,
          216,
          1244,
          1030,
          93,
          282,
          184,
          267,
          772,
          352,
          47,
          129,
          17,
          237,
          1464,
          481,
          1109,
          10208,
          4665,
          119,
          352,
          231,
          59,
          141,
          64,
          882,
          6502,
          3634,
          64,
          186,
          143,
          1488,
          5114,
          3295,
          82,
          146,
          47,
          153,
          1109,
          452,
          151,
          336,
          218,
          31,
          76,
          28,
          1018,
          4260,
          1978,
          68,
          308,
          136,
          124,
          500,
          257,
          413,
          1033,
          499,
          190,
          962,
          628,
          29,
          59,
          16,
          120,
          249,
          210,
          45,
          124,
          84,
          102,
          225,
          75,
          28,
          87,
          53,
          22,
          58,
          20,
          78,
          176,
          144,
          231,
          1184,
          854,
          285,
          869,
          616,
          146,
          241,
          66,
          208,
          244,
          46,
          168,
          517,
          357,
          83,
          386,
          194,
          74,
          197,
          93,
          1044,
          6487,
          2962,
          72,
          155,
          70,
          118,
          197,
          150,
          994,
          5713,
          3776,
          32,
          75,
          22,
          148,
          864,
          347,
          68,
          156,
          91,
          56,
          136,
          50,
          65,
          188,
          135,
          56,
          106,
          65,
          333,
          814,
          436,
          42,
          96,
          33,
          66,
          105,
          78,
          133,
          291,
          100,
          104,
          233,
          149,
          202,
          654,
          228,
          48,
          75,
          10,
          55,
          104,
          46,
          63,
          214,
          106,
          102,
          195,
          46,
          77,
          215,
          74,
          135,
          460,
          191,
          118,
          356,
          234,
          96,
          201,
          104,
          63,
          120,
          51,
          69,
          307,
          230,
          131,
          287,
          94,
          182,
          316,
          130,
          160,
          726,
          318,
          259,
          1619,
          683,
          283,
          593,
          282,
          112,
          463,
          385,
          3386,
          16182,
          7892,
          194,
          1692,
          989,
          250,
          912,
          513,
          200,
          1084,
          412,
          44,
          131,
          70,
          59,
          204,
          124,
          73,
          254,
          146,
          261,
          1310,
          819,
          103,
          419,
          180,
          69,
          164,
          107,
          179,
          1204,
          601,
          77,
          135,
          68,
          34,
          71,
          27,
          174,
          446,
          197,
          490,
          3480,
          1589,
          41,
          160,
          8,
          125,
          314,
          108,
          121,
          266,
          146,
          356,
          2547,
          1625,
          55,
          273,
          154,
          98,
          145,
          29,
          122,
          257,
          66,
          62,
          111,
          39,
          25,
          79,
          19,
          148,
          635,
          353,
          352,
          880,
          425,
          200,
          277,
          127,
          157,
          370,
          40,
          66,
          221,
          110,
          916,
          9504,
          5099,
          1980,
          5146,
          926,
          232,
          301,
          62,
          45,
          158,
          2,
          58,
          464,
          24,
          52,
          201,
          11,
          106,
          314,
          66,
          29,
          285,
          10,
          94,
          270,
          9,
          38,
          211,
          14,
          85,
          188,
          18,
          30,
          238,
          20,
          121,
          596,
          37,
          247,
          310,
          143,
          57,
          343,
          7,
          432,
          1202,
          185,
          30,
          136,
          3,
          58,
          431,
          23,
          31,
          151,
          3,
          50,
          169,
          8,
          124,
          364,
          34,
          48,
          220,
          9,
          116,
          193,
          131,
          13,
          115,
          7,
          76,
          391,
          21,
          346,
          774,
          113,
          85,
          189,
          26,
          5,
          51,
          2,
          208,
          1012,
          57,
          180,
          299,
          61,
          64,
          252,
          15,
          3629,
          14645,
          8124,
          489,
          631,
          192,
          110,
          181,
          62,
          270,
          462,
          309,
          334,
          476,
          158,
          58,
          105,
          77,
          116,
          167,
          96,
          577,
          1395,
          568,
          138,
          206,
          75,
          77,
          89,
          34,
          971,
          2007,
          1098,
          397,
          728,
          377,
          266,
          514,
          153,
          121,
          219,
          81,
          159,
          243,
          102,
          566,
          733,
          344,
          223,
          258,
          128,
          829,
          1347,
          783,
          132,
          161,
          63,
          182,
          247,
          102,
          101,
          193,
          75,
          308,
          719,
          381,
          174,
          400,
          109,
          225,
          285,
          163,
          1528,
          3419,
          1912,
          291,
          746,
          336,
          269,
          299,
          95,
          541,
          892,
          361,
          154,
          221,
          74,
          313,
          487,
          147,
          210,
          368,
          186,
          173,
          314,
          223,
          214,
          387,
          109,
          79,
          174,
          76,
          357,
          505,
          201,
          138,
          321,
          110,
          100,
          355,
          201,
          1876,
          5300,
          1166,
          380,
          994,
          122,
          339,
          958,
          145,
          366,
          708,
          140,
          109,
          354,
          45,
          110,
          377,
          39,
          358,
          1027,
          305,
          238,
          540,
          90,
          60,
          190,
          25,
          1975,
          6048,
          775,
          1391,
          2649,
          162,
          528,
          1626,
          366,
          2487,
          4835,
          219,
          151,
          290,
          87,
          363,
          886,
          195,
          3996,
          16452,
          5449,
          247,
          430,
          68,
          390,
          1181,
          170,
          237,
          1124,
          133,
          76,
          246,
          8,
          257,
          870,
          44,
          1126,
          3517,
          666,
          64,
          368,
          19,
          755,
          1920,
          274,
          260,
          721,
          38,
          243,
          790,
          104,
          534,
          1744,
          299,
          234,
          625,
          54,
          228,
          706,
          50,
          58,
          443,
          13,
          96,
          368,
          22,
          411,
          1288,
          205,
          645,
          1707,
          191,
          415,
          1169,
          66,
          136,
          430,
          15,
          206,
          543,
          15,
          147,
          369,
          45,
          185,
          453,
          60,
          56,
          302,
          22,
          218,
          706,
          106,
          105,
          382,
          27,
          391,
          694,
          85,
          116,
          342,
          28,
          64,
          564,
          10,
          582,
          2108,
          220,
          5323,
          22320,
          15844,
          1083,
          5237,
          2522,
          103,
          274,
          117,
          120,
          196,
          86,
          218,
          997,
          450,
          94,
          180,
          116,
          335,
          1099,
          735,
          40,
          49,
          30,
          113,
          224,
          111,
          111,
          111,
          55,
          168,
          403,
          272,
          1045,
          2565,
          1620,
          261,
          599,
          428,
          142,
          189,
          48,
          301,
          287,
          175,
          201,
          257,
          176,
          114,
          152,
          78,
          183,
          308,
          184,
          148,
          263,
          98,
          741,
          2644,
          829,
          543,
          1277,
          659,
          161,
          222,
          140,
          220,
          488,
          159,
          218,
          648,
          592,
          216,
          372,
          161,
          124,
          263,
          130,
          28,
          43,
          64,
          381,
          933,
          615,
          338,
          694,
          292,
          3764,
          17686,
          15024,
          172,
          298,
          110,
          84,
          252,
          76,
          81,
          214,
          94,
          126,
          232,
          72,
          420,
          795,
          122,
          101,
          203,
          118,
          383,
          771,
          369,
          113,
          257,
          55,
          138,
          331,
          135,
          68,
          177,
          102,
          164,
          297,
          132,
          260,
          239,
          64,
          440,
          643,
          262,
          124,
          206,
          52,
          158,
          486,
          240,
          338,
          619,
          24,
          88,
          197,
          71,
          71,
          142,
          37,
          238,
          565,
          99,
          262,
          607,
          253,
          53,
          155,
          44,
          348,
          452,
          264,
          212,
          487,
          224,
          63,
          221,
          261,
          147,
          277,
          130,
          129,
          259,
          202,
          1371,
          3889,
          2196,
          243,
          673,
          199,
          167,
          419,
          189,
          57,
          149,
          75,
          134,
          298,
          8,
          523,
          943,
          395,
          146,
          284,
          51,
          88,
          287,
          78,
          131,
          268,
          121,
          69,
          232,
          18,
          85,
          193,
          84,
          121,
          236,
          17,
          95,
          338,
          164,
          342,
          697,
          45,
          222,
          207,
          139,
          161,
          332,
          78,
          178,
          302,
          167,
          81,
          189,
          101,
          123,
          296,
          178,
          315,
          741,
          492,
          342,
          589,
          174,
          85,
          374,
          15,
          246,
          602,
          243,
          406,
          700,
          408,
          172,
          282,
          127,
          316,
          724,
          188,
          174,
          481,
          110,
          142,
          285,
          101,
          71,
          221,
          14,
          137,
          178,
          43,
          96,
          226,
          100,
          329,
          437,
          193,
          209,
          336,
          134,
          1922,
          5017,
          869,
          613,
          1734,
          1213,
          226,
          365,
          218,
          6894,
          29951,
          10993,
          473,
          857,
          221,
          87,
          323,
          60,
          69,
          268,
          100,
          94,
          142,
          25,
          23,
          78,
          11,
          107,
          267,
          62,
          248,
          524,
          314,
          127,
          409,
          88,
          277,
          534,
          102,
          176,
          277,
          61,
          33,
          134,
          25,
          88,
          377,
          33,
          301,
          441,
          71,
          233,
          1019,
          162,
          73,
          192,
          59,
          251,
          232,
          46,
          46,
          126,
          33,
          76,
          155,
          51,
          125,
          316,
          67,
          136,
          284,
          83,
          592,
          3029,
          1359,
          82,
          126,
          50,
          52,
          115,
          64,
          1245,
          3679,
          1925,
          582,
          2543,
          1721,
          105,
          185,
          98,
          110,
          511,
          53,
          90,
          249,
          43,
          162,
          342,
          110,
          136,
          228,
          37,
          39,
          250,
          71,
          27,
          155,
          37,
          287,
          609,
          134,
          74,
          187,
          59,
          186,
          303,
          40,
          630,
          1449,
          332,
          277,
          502,
          196,
          152,
          132,
          31,
          718,
          2824,
          863,
          3246,
          15330,
          10009,
          39,
          143,
          49,
          871,
          3639,
          1985,
          369,
          1259,
          700,
          86,
          276,
          134,
          239,
          582,
          327,
          134,
          322,
          82,
          561,
          1876,
          595,
          644,
          2101,
          735,
          105,
          272,
          131,
          523,
          1656,
          674,
          80,
          262,
          162,
          4990,
          21728,
          11815,
          178,
          446,
          255,
          123,
          227,
          92,
          511,
          921,
          476,
          2132,
          9955,
          4626,
          236,
          434,
          140,
          105,
          322,
          70,
          520,
          1635,
          747,
          339,
          681,
          260,
          266,
          542,
          110,
          272,
          484,
          61,
          568,
          930,
          321,
          1314,
          3840,
          1805,
          225,
          417,
          174,
          4812,
          23253,
          18729,
          39,
          43,
          14,
          79,
          99,
          47,
          206,
          335,
          121,
          363,
          1314,
          920,
          101,
          234,
          209,
          2817,
          9810,
          4576,
          82,
          213,
          125,
          151,
          307,
          57,
          21,
          27,
          9,
          27,
          69,
          59,
          100,
          163,
          59,
          77,
          118,
          38,
          69,
          57,
          31,
          118,
          228,
          95,
          176,
          371,
          185,
          49,
          111,
          52,
          127,
          85,
          38,
          55,
          100,
          50,
          565,
          1123,
          310,
          57,
          213,
          142,
          39,
          93,
          51,
          100,
          129,
          158,
          134,
          178,
          60,
          282,
          432,
          262,
          219,
          396,
          196,
          70,
          68,
          38,
          73,
          170,
          25,
          274,
          471,
          135,
          54,
          58,
          18,
          64,
          136,
          47,
          139,
          188,
          63,
          2431,
          9932,
          7748,
          68,
          82,
          37,
          71,
          133,
          47,
          1573,
          6171,
          3864,
          65,
          189,
          52,
          122,
          147,
          105,
          41,
          59,
          32,
          90,
          97,
          56,
          77,
          130,
          131,
          66,
          73,
          50,
          92,
          110,
          61,
          52,
          36,
          17,
          89,
          144,
          76,
          411,
          362,
          119,
          85,
          151,
          52,
          438,
          1336,
          542,
          200,
          400,
          195,
          31,
          65,
          13,
          197,
          634,
          517,
          91,
          189,
          74,
          130,
          374,
          174,
          70,
          163,
          27,
          90,
          112,
          50,
          136,
          379,
          252,
          89,
          165,
          49,
          22,
          45,
          12,
          49,
          76,
          45,
          72,
          113,
          83,
          1529,
          5978,
          3619,
          83,
          119,
          107,
          221,
          461,
          350,
          83,
          201,
          25,
          500,
          1042,
          287,
          365,
          1048,
          336,
          326,
          944,
          323,
          115,
          275,
          93,
          85,
          74,
          30,
          513,
          2000,
          1925,
          43,
          58,
          9,
          54,
          128,
          66,
          67,
          68,
          24,
          409,
          972,
          538,
          64,
          71,
          44,
          104,
          97,
          74,
          156,
          259,
          135,
          316,
          862,
          799,
          187,
          255,
          209,
          100,
          206,
          58,
          69,
          135,
          53,
          114,
          229,
          114,
          108,
          215,
          131,
          290,
          696,
          473,
          22,
          75,
          26,
          241,
          251,
          187,
          114,
          292,
          181,
          8723,
          13785,
          5377,
          264,
          444,
          95,
          809,
          389,
          80,
          374,
          300,
          41,
          1915,
          2335,
          845,
          458,
          594,
          168,
          286,
          191,
          38,
          480,
          368,
          73,
          573,
          485,
          192,
          423,
          534,
          58,
          681,
          324,
          109,
          534,
          635,
          147,
          958,
          955,
          132,
          482,
          615,
          145,
          1003,
          770,
          124,
          789,
          527,
          74,
          1564,
          1427,
          362,
          858,
          710,
          89,
          348,
          416,
          112,
          2359,
          1572,
          416,
          2138,
          1855,
          239,
          587,
          510,
          139,
          807,
          1096,
          320,
          510,
          599,
          83,
          1002,
          1422,
          291,
          1008,
          558,
          180,
          5370,
          23449,
          11471,
          45,
          116,
          35,
          125,
          266,
          76,
          109,
          297,
          99,
          132,
          272,
          78,
          230,
          552,
          166,
          359,
          466,
          85,
          293,
          561,
          244,
          127,
          384,
          195,
          115,
          348,
          47,
          761,
          1344,
          495,
          199,
          281,
          71,
          594,
          751,
          78,
          127,
          172,
          53,
          154,
          200,
          89,
          847,
          3350,
          1158,
          132,
          281,
          85,
          364,
          711,
          305,
          549,
          1259,
          417,
          640,
          1139,
          361,
          126,
          215,
          62,
          351,
          1049,
          425,
          225,
          315,
          202,
          161,
          570,
          212,
          587,
          1443,
          608,
          543,
          1494,
          871,
          428,
          1218,
          638,
          52,
          170,
          45,
          305,
          467,
          94,
          569,
          911,
          160,
          147,
          213,
          79,
          103,
          155,
          61,
          689,
          792,
          184,
          131,
          192,
          58,
          300,
          765,
          224,
          342,
          515,
          130,
          86,
          146,
          49,
          356,
          702,
          195,
          145,
          548,
          133,
          202,
          462,
          103,
          183,
          465,
          112,
          83,
          189,
          56,
          39,
          155,
          29,
          77,
          164,
          45,
          133,
          456,
          134,
          144,
          297,
          69,
          85,
          112,
          52,
          14329,
          73923,
          36429,
          247,
          452,
          101,
          195,
          658,
          241,
          273,
          501,
          168,
          88,
          234,
          47,
          151,
          422,
          145,
          3294,
          11033,
          1186,
          1453,
          5750,
          2591,
          228,
          768,
          253,
          530,
          1148,
          385,
          178,
          537,
          221,
          891,
          3894,
          1171,
          1525,
          5338,
          2235,
          517,
          1198,
          344,
          131,
          262,
          63,
          102,
          189,
          50,
          708,
          2333,
          743,
          156,
          324,
          40,
          756,
          2333,
          749,
          215,
          582,
          232,
          442,
          1404,
          377,
          964,
          4268,
          1573,
          142,
          383,
          209,
          553,
          1572,
          417,
          192,
          455,
          120,
          180,
          606,
          105,
          3861,
          12996,
          6532,
          684,
          1889,
          667,
          177,
          498,
          148,
          230,
          596,
          142,
          327,
          1044,
          419,
          176,
          531,
          155,
          591,
          1469,
          526,
          173,
          425,
          112,
          264,
          488,
          125,
          1861,
          7363,
          3047,
          108,
          176,
          63,
          94,
          284,
          68,
          107,
          328,
          110,
          206,
          588,
          165,
          1236,
          4829,
          1523,
          430,
          1884,
          556,
          946,
          2599,
          1638,
          607,
          1011,
          296,
          32,
          41,
          22,
          255,
          382,
          139,
          50,
          57,
          46,
          634,
          1369,
          641,
          532,
          994,
          547,
          1066,
          4459,
          2405,
          472,
          1946,
          855,
          14,
          37,
          22,
          109,
          206,
          76,
          6,
          23,
          7,
          163,
          368,
          152,
          153,
          522,
          248,
          133,
          198,
          69,
          192,
          221,
          129,
          258,
          617,
          300,
          92,
          177,
          56,
          10,
          42,
          19,
          18,
          72,
          58,
          27,
          47,
          45,
          94,
          229,
          49,
          63,
          99,
          25,
          266,
          965,
          422,
          130,
          256,
          75,
          381,
          1402,
          615,
          373,
          1237,
          972,
          64,
          94,
          109,
          346,
          770,
          365,
          543,
          1568,
          793,
          120,
          224,
          104,
          133,
          323,
          117,
          154,
          447,
          111,
          142,
          295,
          373,
          42,
          99,
          108,
          165,
          405,
          137,
          69,
          159,
          64,
          316,
          635,
          376,
          264,
          634,
          395,
          566,
          1303,
          548,
          25,
          62,
          26,
          356,
          1488,
          479,
          4,
          18,
          12,
          39,
          5,
          7,
          24,
          1,
          2,
          5,
          10,
          1,
          7,
          3,
          9,
          83,
          183,
          21,
          9,
          21,
          16,
          42,
          8,
          217,
          560,
          186,
          48,
          59,
          7,
          2,
          9,
          1,
          12,
          11,
          1,
          9,
          27,
          2,
          2,
          1,
          2,
          3,
          9,
          2,
          1,
          549,
          1695,
          945,
          72,
          181,
          77,
          92,
          368,
          76,
          56,
          102,
          28,
          108,
          252,
          125,
          20,
          28,
          5,
          15,
          16,
          6,
          14,
          16,
          3,
          5,
          1,
          8,
          8,
          2,
          170,
          431,
          124,
          37,
          126,
          33,
          18,
          66,
          16,
          223,
          483,
          49
         ],
         "yaxis": "y"
        }
       ],
       "layout": {
        "barmode": "relative",
        "legend": {
         "tracegroupgap": 0
        },
        "margin": {
         "t": 60
        },
        "template": {
         "data": {
          "bar": [
           {
            "error_x": {
             "color": "#2a3f5f"
            },
            "error_y": {
             "color": "#2a3f5f"
            },
            "marker": {
             "line": {
              "color": "#E5ECF6",
              "width": 0.5
             },
             "pattern": {
              "fillmode": "overlay",
              "size": 10,
              "solidity": 0.2
             }
            },
            "type": "bar"
           }
          ],
          "barpolar": [
           {
            "marker": {
             "line": {
              "color": "#E5ECF6",
              "width": 0.5
             },
             "pattern": {
              "fillmode": "overlay",
              "size": 10,
              "solidity": 0.2
             }
            },
            "type": "barpolar"
           }
          ],
          "carpet": [
           {
            "aaxis": {
             "endlinecolor": "#2a3f5f",
             "gridcolor": "white",
             "linecolor": "white",
             "minorgridcolor": "white",
             "startlinecolor": "#2a3f5f"
            },
            "baxis": {
             "endlinecolor": "#2a3f5f",
             "gridcolor": "white",
             "linecolor": "white",
             "minorgridcolor": "white",
             "startlinecolor": "#2a3f5f"
            },
            "type": "carpet"
           }
          ],
          "choropleth": [
           {
            "colorbar": {
             "outlinewidth": 0,
             "ticks": ""
            },
            "type": "choropleth"
           }
          ],
          "contour": [
           {
            "colorbar": {
             "outlinewidth": 0,
             "ticks": ""
            },
            "colorscale": [
             [
              0,
              "#0d0887"
             ],
             [
              0.1111111111111111,
              "#46039f"
             ],
             [
              0.2222222222222222,
              "#7201a8"
             ],
             [
              0.3333333333333333,
              "#9c179e"
             ],
             [
              0.4444444444444444,
              "#bd3786"
             ],
             [
              0.5555555555555556,
              "#d8576b"
             ],
             [
              0.6666666666666666,
              "#ed7953"
             ],
             [
              0.7777777777777778,
              "#fb9f3a"
             ],
             [
              0.8888888888888888,
              "#fdca26"
             ],
             [
              1,
              "#f0f921"
             ]
            ],
            "type": "contour"
           }
          ],
          "contourcarpet": [
           {
            "colorbar": {
             "outlinewidth": 0,
             "ticks": ""
            },
            "type": "contourcarpet"
           }
          ],
          "heatmap": [
           {
            "colorbar": {
             "outlinewidth": 0,
             "ticks": ""
            },
            "colorscale": [
             [
              0,
              "#0d0887"
             ],
             [
              0.1111111111111111,
              "#46039f"
             ],
             [
              0.2222222222222222,
              "#7201a8"
             ],
             [
              0.3333333333333333,
              "#9c179e"
             ],
             [
              0.4444444444444444,
              "#bd3786"
             ],
             [
              0.5555555555555556,
              "#d8576b"
             ],
             [
              0.6666666666666666,
              "#ed7953"
             ],
             [
              0.7777777777777778,
              "#fb9f3a"
             ],
             [
              0.8888888888888888,
              "#fdca26"
             ],
             [
              1,
              "#f0f921"
             ]
            ],
            "type": "heatmap"
           }
          ],
          "heatmapgl": [
           {
            "colorbar": {
             "outlinewidth": 0,
             "ticks": ""
            },
            "colorscale": [
             [
              0,
              "#0d0887"
             ],
             [
              0.1111111111111111,
              "#46039f"
             ],
             [
              0.2222222222222222,
              "#7201a8"
             ],
             [
              0.3333333333333333,
              "#9c179e"
             ],
             [
              0.4444444444444444,
              "#bd3786"
             ],
             [
              0.5555555555555556,
              "#d8576b"
             ],
             [
              0.6666666666666666,
              "#ed7953"
             ],
             [
              0.7777777777777778,
              "#fb9f3a"
             ],
             [
              0.8888888888888888,
              "#fdca26"
             ],
             [
              1,
              "#f0f921"
             ]
            ],
            "type": "heatmapgl"
           }
          ],
          "histogram": [
           {
            "marker": {
             "pattern": {
              "fillmode": "overlay",
              "size": 10,
              "solidity": 0.2
             }
            },
            "type": "histogram"
           }
          ],
          "histogram2d": [
           {
            "colorbar": {
             "outlinewidth": 0,
             "ticks": ""
            },
            "colorscale": [
             [
              0,
              "#0d0887"
             ],
             [
              0.1111111111111111,
              "#46039f"
             ],
             [
              0.2222222222222222,
              "#7201a8"
             ],
             [
              0.3333333333333333,
              "#9c179e"
             ],
             [
              0.4444444444444444,
              "#bd3786"
             ],
             [
              0.5555555555555556,
              "#d8576b"
             ],
             [
              0.6666666666666666,
              "#ed7953"
             ],
             [
              0.7777777777777778,
              "#fb9f3a"
             ],
             [
              0.8888888888888888,
              "#fdca26"
             ],
             [
              1,
              "#f0f921"
             ]
            ],
            "type": "histogram2d"
           }
          ],
          "histogram2dcontour": [
           {
            "colorbar": {
             "outlinewidth": 0,
             "ticks": ""
            },
            "colorscale": [
             [
              0,
              "#0d0887"
             ],
             [
              0.1111111111111111,
              "#46039f"
             ],
             [
              0.2222222222222222,
              "#7201a8"
             ],
             [
              0.3333333333333333,
              "#9c179e"
             ],
             [
              0.4444444444444444,
              "#bd3786"
             ],
             [
              0.5555555555555556,
              "#d8576b"
             ],
             [
              0.6666666666666666,
              "#ed7953"
             ],
             [
              0.7777777777777778,
              "#fb9f3a"
             ],
             [
              0.8888888888888888,
              "#fdca26"
             ],
             [
              1,
              "#f0f921"
             ]
            ],
            "type": "histogram2dcontour"
           }
          ],
          "mesh3d": [
           {
            "colorbar": {
             "outlinewidth": 0,
             "ticks": ""
            },
            "type": "mesh3d"
           }
          ],
          "parcoords": [
           {
            "line": {
             "colorbar": {
              "outlinewidth": 0,
              "ticks": ""
             }
            },
            "type": "parcoords"
           }
          ],
          "pie": [
           {
            "automargin": true,
            "type": "pie"
           }
          ],
          "scatter": [
           {
            "fillpattern": {
             "fillmode": "overlay",
             "size": 10,
             "solidity": 0.2
            },
            "type": "scatter"
           }
          ],
          "scatter3d": [
           {
            "line": {
             "colorbar": {
              "outlinewidth": 0,
              "ticks": ""
             }
            },
            "marker": {
             "colorbar": {
              "outlinewidth": 0,
              "ticks": ""
             }
            },
            "type": "scatter3d"
           }
          ],
          "scattercarpet": [
           {
            "marker": {
             "colorbar": {
              "outlinewidth": 0,
              "ticks": ""
             }
            },
            "type": "scattercarpet"
           }
          ],
          "scattergeo": [
           {
            "marker": {
             "colorbar": {
              "outlinewidth": 0,
              "ticks": ""
             }
            },
            "type": "scattergeo"
           }
          ],
          "scattergl": [
           {
            "marker": {
             "colorbar": {
              "outlinewidth": 0,
              "ticks": ""
             }
            },
            "type": "scattergl"
           }
          ],
          "scattermapbox": [
           {
            "marker": {
             "colorbar": {
              "outlinewidth": 0,
              "ticks": ""
             }
            },
            "type": "scattermapbox"
           }
          ],
          "scatterpolar": [
           {
            "marker": {
             "colorbar": {
              "outlinewidth": 0,
              "ticks": ""
             }
            },
            "type": "scatterpolar"
           }
          ],
          "scatterpolargl": [
           {
            "marker": {
             "colorbar": {
              "outlinewidth": 0,
              "ticks": ""
             }
            },
            "type": "scatterpolargl"
           }
          ],
          "scatterternary": [
           {
            "marker": {
             "colorbar": {
              "outlinewidth": 0,
              "ticks": ""
             }
            },
            "type": "scatterternary"
           }
          ],
          "surface": [
           {
            "colorbar": {
             "outlinewidth": 0,
             "ticks": ""
            },
            "colorscale": [
             [
              0,
              "#0d0887"
             ],
             [
              0.1111111111111111,
              "#46039f"
             ],
             [
              0.2222222222222222,
              "#7201a8"
             ],
             [
              0.3333333333333333,
              "#9c179e"
             ],
             [
              0.4444444444444444,
              "#bd3786"
             ],
             [
              0.5555555555555556,
              "#d8576b"
             ],
             [
              0.6666666666666666,
              "#ed7953"
             ],
             [
              0.7777777777777778,
              "#fb9f3a"
             ],
             [
              0.8888888888888888,
              "#fdca26"
             ],
             [
              1,
              "#f0f921"
             ]
            ],
            "type": "surface"
           }
          ],
          "table": [
           {
            "cells": {
             "fill": {
              "color": "#EBF0F8"
             },
             "line": {
              "color": "white"
             }
            },
            "header": {
             "fill": {
              "color": "#C8D4E3"
             },
             "line": {
              "color": "white"
             }
            },
            "type": "table"
           }
          ]
         },
         "layout": {
          "annotationdefaults": {
           "arrowcolor": "#2a3f5f",
           "arrowhead": 0,
           "arrowwidth": 1
          },
          "autotypenumbers": "strict",
          "coloraxis": {
           "colorbar": {
            "outlinewidth": 0,
            "ticks": ""
           }
          },
          "colorscale": {
           "diverging": [
            [
             0,
             "#8e0152"
            ],
            [
             0.1,
             "#c51b7d"
            ],
            [
             0.2,
             "#de77ae"
            ],
            [
             0.3,
             "#f1b6da"
            ],
            [
             0.4,
             "#fde0ef"
            ],
            [
             0.5,
             "#f7f7f7"
            ],
            [
             0.6,
             "#e6f5d0"
            ],
            [
             0.7,
             "#b8e186"
            ],
            [
             0.8,
             "#7fbc41"
            ],
            [
             0.9,
             "#4d9221"
            ],
            [
             1,
             "#276419"
            ]
           ],
           "sequential": [
            [
             0,
             "#0d0887"
            ],
            [
             0.1111111111111111,
             "#46039f"
            ],
            [
             0.2222222222222222,
             "#7201a8"
            ],
            [
             0.3333333333333333,
             "#9c179e"
            ],
            [
             0.4444444444444444,
             "#bd3786"
            ],
            [
             0.5555555555555556,
             "#d8576b"
            ],
            [
             0.6666666666666666,
             "#ed7953"
            ],
            [
             0.7777777777777778,
             "#fb9f3a"
            ],
            [
             0.8888888888888888,
             "#fdca26"
            ],
            [
             1,
             "#f0f921"
            ]
           ],
           "sequentialminus": [
            [
             0,
             "#0d0887"
            ],
            [
             0.1111111111111111,
             "#46039f"
            ],
            [
             0.2222222222222222,
             "#7201a8"
            ],
            [
             0.3333333333333333,
             "#9c179e"
            ],
            [
             0.4444444444444444,
             "#bd3786"
            ],
            [
             0.5555555555555556,
             "#d8576b"
            ],
            [
             0.6666666666666666,
             "#ed7953"
            ],
            [
             0.7777777777777778,
             "#fb9f3a"
            ],
            [
             0.8888888888888888,
             "#fdca26"
            ],
            [
             1,
             "#f0f921"
            ]
           ]
          },
          "colorway": [
           "#636efa",
           "#EF553B",
           "#00cc96",
           "#ab63fa",
           "#FFA15A",
           "#19d3f3",
           "#FF6692",
           "#B6E880",
           "#FF97FF",
           "#FECB52"
          ],
          "font": {
           "color": "#2a3f5f"
          },
          "geo": {
           "bgcolor": "white",
           "lakecolor": "white",
           "landcolor": "#E5ECF6",
           "showlakes": true,
           "showland": true,
           "subunitcolor": "white"
          },
          "hoverlabel": {
           "align": "left"
          },
          "hovermode": "closest",
          "mapbox": {
           "style": "light"
          },
          "paper_bgcolor": "white",
          "plot_bgcolor": "#E5ECF6",
          "polar": {
           "angularaxis": {
            "gridcolor": "white",
            "linecolor": "white",
            "ticks": ""
           },
           "bgcolor": "#E5ECF6",
           "radialaxis": {
            "gridcolor": "white",
            "linecolor": "white",
            "ticks": ""
           }
          },
          "scene": {
           "xaxis": {
            "backgroundcolor": "#E5ECF6",
            "gridcolor": "white",
            "gridwidth": 2,
            "linecolor": "white",
            "showbackground": true,
            "ticks": "",
            "zerolinecolor": "white"
           },
           "yaxis": {
            "backgroundcolor": "#E5ECF6",
            "gridcolor": "white",
            "gridwidth": 2,
            "linecolor": "white",
            "showbackground": true,
            "ticks": "",
            "zerolinecolor": "white"
           },
           "zaxis": {
            "backgroundcolor": "#E5ECF6",
            "gridcolor": "white",
            "gridwidth": 2,
            "linecolor": "white",
            "showbackground": true,
            "ticks": "",
            "zerolinecolor": "white"
           }
          },
          "shapedefaults": {
           "line": {
            "color": "#2a3f5f"
           }
          },
          "ternary": {
           "aaxis": {
            "gridcolor": "white",
            "linecolor": "white",
            "ticks": ""
           },
           "baxis": {
            "gridcolor": "white",
            "linecolor": "white",
            "ticks": ""
           },
           "bgcolor": "#E5ECF6",
           "caxis": {
            "gridcolor": "white",
            "linecolor": "white",
            "ticks": ""
           }
          },
          "title": {
           "x": 0.05
          },
          "xaxis": {
           "automargin": true,
           "gridcolor": "white",
           "linecolor": "white",
           "ticks": "",
           "title": {
            "standoff": 15
           },
           "zerolinecolor": "white",
           "zerolinewidth": 2
          },
          "yaxis": {
           "automargin": true,
           "gridcolor": "white",
           "linecolor": "white",
           "ticks": "",
           "title": {
            "standoff": 15
           },
           "zerolinecolor": "white",
           "zerolinewidth": 2
          }
         }
        },
        "xaxis": {
         "anchor": "y",
         "domain": [
          0,
          1
         ],
         "title": {
          "text": "codigo_lista"
         }
        },
        "yaxis": {
         "anchor": "x",
         "domain": [
          0,
          1
         ],
         "title": {
          "text": "votos"
         }
        }
       }
      }
     },
     "metadata": {},
     "output_type": "display_data"
    }
   ],
   "source": [
    "import plotly.express as px\n",
    "fig= px.bar(ca4, x='codigo_lista', y='votos')\n",
    "fig.show()"
   ]
  }
 ],
 "metadata": {
  "kernelspec": {
   "display_name": "Python 3",
   "language": "python",
   "name": "python3"
  },
  "language_info": {
   "codemirror_mode": {
    "name": "ipython",
    "version": 3
   },
   "file_extension": ".py",
   "mimetype": "text/x-python",
   "name": "python",
   "nbconvert_exporter": "python",
   "pygments_lexer": "ipython3",
   "version": "3.10.12"
  }
 },
 "nbformat": 4,
 "nbformat_minor": 2
}
